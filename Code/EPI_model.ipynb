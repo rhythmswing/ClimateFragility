{
 "cells": [
  {
   "cell_type": "code",
   "execution_count": 951,
   "metadata": {
    "collapsed": true
   },
   "outputs": [],
   "source": [
    "import pandas as pd\n",
    "import numpy as np\n",
    "import matplotlib.pyplot as plt"
   ]
  },
  {
   "cell_type": "code",
   "execution_count": 952,
   "metadata": {},
   "outputs": [
    {
     "data": {
      "text/html": [
       "<div>\n",
       "<style>\n",
       "    .dataframe thead tr:only-child th {\n",
       "        text-align: right;\n",
       "    }\n",
       "\n",
       "    .dataframe thead th {\n",
       "        text-align: left;\n",
       "    }\n",
       "\n",
       "    .dataframe tbody tr th {\n",
       "        vertical-align: top;\n",
       "    }\n",
       "</style>\n",
       "<table border=\"1\" class=\"dataframe\">\n",
       "  <thead>\n",
       "    <tr style=\"text-align: right;\">\n",
       "      <th></th>\n",
       "      <th>gdp</th>\n",
       "      <th>gdp_growth</th>\n",
       "      <th>gpc</th>\n",
       "      <th>gpc_growth</th>\n",
       "      <th>pop</th>\n",
       "      <th>EPI</th>\n",
       "      <th>EPI_P</th>\n",
       "    </tr>\n",
       "  </thead>\n",
       "  <tbody>\n",
       "    <tr>\n",
       "      <th>0</th>\n",
       "      <td>8802441342</td>\n",
       "      <td>5.727016</td>\n",
       "      <td>7100.861823</td>\n",
       "      <td>5.246497</td>\n",
       "      <td>1239630</td>\n",
       "      <td>73.85</td>\n",
       "      <td>73.85</td>\n",
       "    </tr>\n",
       "    <tr>\n",
       "      <th>1</th>\n",
       "      <td>9276625562</td>\n",
       "      <td>5.386963</td>\n",
       "      <td>7456.369246</td>\n",
       "      <td>5.006539</td>\n",
       "      <td>1244121</td>\n",
       "      <td>74.32</td>\n",
       "      <td>73.85</td>\n",
       "    </tr>\n",
       "  </tbody>\n",
       "</table>\n",
       "</div>"
      ],
      "text/plain": [
       "          gdp  gdp_growth          gpc  gpc_growth      pop    EPI  EPI_P\n",
       "0  8802441342    5.727016  7100.861823    5.246497  1239630  73.85  73.85\n",
       "1  9276625562    5.386963  7456.369246    5.006539  1244121  74.32  73.85"
      ]
     },
     "execution_count": 952,
     "metadata": {},
     "output_type": "execute_result"
    }
   ],
   "source": [
    "data = pd.read_csv('mau_hist.csv')\n",
    "data.head(2)"
   ]
  },
  {
   "cell_type": "code",
   "execution_count": 953,
   "metadata": {
    "collapsed": true
   },
   "outputs": [],
   "source": [
    "beta_epi = 0.9\n",
    "beta_gdp = 0.9\n",
    "K_EPI = 120"
   ]
  },
  {
   "cell_type": "code",
   "execution_count": 954,
   "metadata": {},
   "outputs": [],
   "source": [
    "#economics = ['gdp','gdp_growth','gpc','gpc_growth']\n",
    "economics = ['gdp','gdp_growth']\n",
    "data = data[np.concatenate((economics,['EPI_P','EPI']))]\n",
    "metadata = {idx:{'mean':float('nan'), 'std':float('nan')} for idx in data.columns}"
   ]
  },
  {
   "cell_type": "code",
   "execution_count": 955,
   "metadata": {},
   "outputs": [],
   "source": [
    "for c in data.columns:\n",
    "    metadata[c]['mean'] = np.mean(data[c])\n",
    "    metadata[c]['std'] = np.std(data[c])"
   ]
  },
  {
   "cell_type": "code",
   "execution_count": 956,
   "metadata": {},
   "outputs": [
    {
     "data": {
      "text/plain": [
       "{'EPI': {'mean': 72.402, 'std': 1.1861433302936022},\n",
       " 'EPI_P': {'mean': 72.702, 'std': 1.1339029940872343},\n",
       " 'gdp': {'mean': 10591182875.8, 'std': 1129126209.9190583},\n",
       " 'gdp_growth': {'mean': 4.075356001, 'std': 0.8073051302975812}}"
      ]
     },
     "execution_count": 956,
     "metadata": {},
     "output_type": "execute_result"
    }
   ],
   "source": [
    "metadata"
   ]
  },
  {
   "cell_type": "code",
   "execution_count": 957,
   "metadata": {},
   "outputs": [
    {
     "data": {
      "text/html": [
       "<div>\n",
       "<style>\n",
       "    .dataframe thead tr:only-child th {\n",
       "        text-align: right;\n",
       "    }\n",
       "\n",
       "    .dataframe thead th {\n",
       "        text-align: left;\n",
       "    }\n",
       "\n",
       "    .dataframe tbody tr th {\n",
       "        vertical-align: top;\n",
       "    }\n",
       "</style>\n",
       "<table border=\"1\" class=\"dataframe\">\n",
       "  <thead>\n",
       "    <tr style=\"text-align: right;\">\n",
       "      <th></th>\n",
       "      <th>gdp</th>\n",
       "      <th>gdp_growth</th>\n",
       "      <th>EPI_P</th>\n",
       "      <th>EPI</th>\n",
       "      <th>gdp_scaled</th>\n",
       "      <th>gdp_growth_scaled</th>\n",
       "      <th>EPI_P_scaled</th>\n",
       "      <th>EPI_scaled</th>\n",
       "    </tr>\n",
       "  </thead>\n",
       "  <tbody>\n",
       "    <tr>\n",
       "      <th>0</th>\n",
       "      <td>8802441342</td>\n",
       "      <td>5.727016</td>\n",
       "      <td>73.85</td>\n",
       "      <td>73.85</td>\n",
       "      <td>-1.584182</td>\n",
       "      <td>2.045893</td>\n",
       "      <td>1.012432</td>\n",
       "      <td>1.220763</td>\n",
       "    </tr>\n",
       "    <tr>\n",
       "      <th>1</th>\n",
       "      <td>9276625562</td>\n",
       "      <td>5.386963</td>\n",
       "      <td>73.85</td>\n",
       "      <td>74.32</td>\n",
       "      <td>-1.164225</td>\n",
       "      <td>1.624673</td>\n",
       "      <td>1.012432</td>\n",
       "      <td>1.617005</td>\n",
       "    </tr>\n",
       "  </tbody>\n",
       "</table>\n",
       "</div>"
      ],
      "text/plain": [
       "          gdp  gdp_growth  EPI_P    EPI  gdp_scaled  gdp_growth_scaled  \\\n",
       "0  8802441342    5.727016  73.85  73.85   -1.584182           2.045893   \n",
       "1  9276625562    5.386963  73.85  74.32   -1.164225           1.624673   \n",
       "\n",
       "   EPI_P_scaled  EPI_scaled  \n",
       "0      1.012432    1.220763  \n",
       "1      1.012432    1.617005  "
      ]
     },
     "execution_count": 957,
     "metadata": {},
     "output_type": "execute_result"
    }
   ],
   "source": [
    "for c in data.columns:\n",
    "    scaled = (data[c]-metadata[c]['mean']) / (metadata[c]['std'])\n",
    "    #scaled = data[c]\n",
    "    data[c+'_scaled'] = scaled\n",
    "data.head(2)"
   ]
  },
  {
   "cell_type": "code",
   "execution_count": 958,
   "metadata": {},
   "outputs": [
    {
     "data": {
      "text/html": [
       "<div>\n",
       "<style>\n",
       "    .dataframe thead tr:only-child th {\n",
       "        text-align: right;\n",
       "    }\n",
       "\n",
       "    .dataframe thead th {\n",
       "        text-align: left;\n",
       "    }\n",
       "\n",
       "    .dataframe tbody tr th {\n",
       "        vertical-align: top;\n",
       "    }\n",
       "</style>\n",
       "<table border=\"1\" class=\"dataframe\">\n",
       "  <thead>\n",
       "    <tr style=\"text-align: right;\">\n",
       "      <th></th>\n",
       "      <th>gdp</th>\n",
       "      <th>gdp_growth</th>\n",
       "      <th>EPI_P</th>\n",
       "      <th>EPI</th>\n",
       "      <th>gdp_scaled</th>\n",
       "      <th>gdp_growth_scaled</th>\n",
       "      <th>EPI_P_scaled</th>\n",
       "      <th>EPI_scaled</th>\n",
       "      <th>gdp_sigmoid</th>\n",
       "      <th>gdp_growth_sigmoid</th>\n",
       "    </tr>\n",
       "  </thead>\n",
       "  <tbody>\n",
       "    <tr>\n",
       "      <th>0</th>\n",
       "      <td>8802441342</td>\n",
       "      <td>5.727016</td>\n",
       "      <td>73.85</td>\n",
       "      <td>73.85</td>\n",
       "      <td>-1.584182</td>\n",
       "      <td>2.045893</td>\n",
       "      <td>1.012432</td>\n",
       "      <td>1.220763</td>\n",
       "      <td>22.898295</td>\n",
       "      <td>5.727016</td>\n",
       "    </tr>\n",
       "    <tr>\n",
       "      <th>1</th>\n",
       "      <td>9276625562</td>\n",
       "      <td>5.386963</td>\n",
       "      <td>73.85</td>\n",
       "      <td>74.32</td>\n",
       "      <td>-1.164225</td>\n",
       "      <td>1.624673</td>\n",
       "      <td>1.012432</td>\n",
       "      <td>1.617005</td>\n",
       "      <td>22.950764</td>\n",
       "      <td>5.386963</td>\n",
       "    </tr>\n",
       "  </tbody>\n",
       "</table>\n",
       "</div>"
      ],
      "text/plain": [
       "          gdp  gdp_growth  EPI_P    EPI  gdp_scaled  gdp_growth_scaled  \\\n",
       "0  8802441342    5.727016  73.85  73.85   -1.584182           2.045893   \n",
       "1  9276625562    5.386963  73.85  74.32   -1.164225           1.624673   \n",
       "\n",
       "   EPI_P_scaled  EPI_scaled  gdp_sigmoid  gdp_growth_sigmoid  \n",
       "0      1.012432    1.220763    22.898295            5.727016  \n",
       "1      1.012432    1.617005    22.950764            5.386963  "
      ]
     },
     "execution_count": 958,
     "metadata": {},
     "output_type": "execute_result"
    }
   ],
   "source": [
    "for c in economics:\n",
    "    sig = np.log(1+data[c])\n",
    "    if c=='gdp':\n",
    "        data[c+'_sigmoid'] = sig\n",
    "    else:\n",
    "         data[c+'_sigmoid'] = data[c]\n",
    "data.head(2)"
   ]
  },
  {
   "cell_type": "code",
   "execution_count": 959,
   "metadata": {},
   "outputs": [],
   "source": [
    "for c in economics:\n",
    "    cross = data[c+'_scaled']*data['EPI_P_scaled']\n",
    "    data[c+'_cross'] = cross"
   ]
  },
  {
   "cell_type": "code",
   "execution_count": 960,
   "metadata": {},
   "outputs": [
    {
     "data": {
      "text/html": [
       "<div>\n",
       "<style>\n",
       "    .dataframe thead tr:only-child th {\n",
       "        text-align: right;\n",
       "    }\n",
       "\n",
       "    .dataframe thead th {\n",
       "        text-align: left;\n",
       "    }\n",
       "\n",
       "    .dataframe tbody tr th {\n",
       "        vertical-align: top;\n",
       "    }\n",
       "</style>\n",
       "<table border=\"1\" class=\"dataframe\">\n",
       "  <thead>\n",
       "    <tr style=\"text-align: right;\">\n",
       "      <th></th>\n",
       "      <th>gdp_sigmoid</th>\n",
       "      <th>gdp_growth</th>\n",
       "      <th>gdp_cross</th>\n",
       "      <th>gdp_growth_cross</th>\n",
       "      <th>EPI_P</th>\n",
       "    </tr>\n",
       "  </thead>\n",
       "  <tbody>\n",
       "    <tr>\n",
       "      <th>0</th>\n",
       "      <td>22.898295</td>\n",
       "      <td>5.727016</td>\n",
       "      <td>-1.603877</td>\n",
       "      <td>2.071328</td>\n",
       "      <td>73.85</td>\n",
       "    </tr>\n",
       "    <tr>\n",
       "      <th>1</th>\n",
       "      <td>22.950764</td>\n",
       "      <td>5.386963</td>\n",
       "      <td>-1.178699</td>\n",
       "      <td>1.644871</td>\n",
       "      <td>73.85</td>\n",
       "    </tr>\n",
       "  </tbody>\n",
       "</table>\n",
       "</div>"
      ],
      "text/plain": [
       "   gdp_sigmoid  gdp_growth  gdp_cross  gdp_growth_cross  EPI_P\n",
       "0    22.898295    5.727016  -1.603877          2.071328  73.85\n",
       "1    22.950764    5.386963  -1.178699          1.644871  73.85"
      ]
     },
     "execution_count": 960,
     "metadata": {},
     "output_type": "execute_result"
    }
   ],
   "source": [
    "vars_to_use = ['gdp_sigmoid','gdp_growth','gdp_cross','gdp_growth_cross','EPI_P']\n",
    "#vars_to_use = ['gdp_sigmoid','gdp_growth','gdp_cross','EPI_P']\n",
    "#data_sigmoid = data[np.concatenate(([c+'_sigmoid' for c in economics],['EPI_P']))]\n",
    "data_sigmoid = data[vars_to_use]\n",
    "data_sigmoid.head(2)"
   ]
  },
  {
   "cell_type": "code",
   "execution_count": 1015,
   "metadata": {},
   "outputs": [
    {
     "data": {
      "image/png": "[encoded data removed]",
      "text/plain": [
       "<matplotlib.figure.Figure at 0x1a9c2c4beb8>"
      ]
     },
     "metadata": {},
     "output_type": "display_data"
    }
   ],
   "source": [
    "from sklearn.linear_model import LinearRegression\n",
    "lin_mod = LinearRegression()\n",
    "\n",
    "lin_mod.fit(data_sigmoid, Y)\n",
    "pred = lin_mod.predict(data_sigmoid)\n",
    "plt.plot(pred,Y,'ro')\n",
    "plt.show()"
   ]
  },
  {
   "cell_type": "code",
   "execution_count": 1016,
   "metadata": {},
   "outputs": [
    {
     "data": {
      "text/plain": [
       "0.91200955106899051"
      ]
     },
     "execution_count": 1016,
     "metadata": {},
     "output_type": "execute_result"
    }
   ],
   "source": [
    "lin_mod.score(data_sigmoid, Y)"
   ]
  },
  {
   "cell_type": "code",
   "execution_count": 1022,
   "metadata": {},
   "outputs": [],
   "source": [
    "from collections import Iterable\n",
    "def gdp_growth_next(gdp_growth_last,last_noise, dev_speed=0):\n",
    "    if not isinstance(gdp_growth_last,Iterable):\n",
    "        gdp_growth_last=[gdp_growth_last]\n",
    "    #return gdp_growth_last[-1] / (1+np.exp(-gdp_growth_last[-1])) + np.random.randn(),0\n",
    "    #return 1/(1+np.exp(gdp_growth_last[-1])) + np.random.randn(), 0\n",
    "    \n",
    "    noise = np.random.randn()*1\n",
    "    params = np.concatenate((gdp_growth_last, [noise]))\n",
    "    coefs = [0.1964,0.2141,0.1927,0.1835,0.2061,0.1871]\n",
    "    \n",
    "    return np.sum([coefs[i]*params[i] for i in range(len(coefs))])+dev_speed, noise"
   ]
  },
  {
   "cell_type": "code",
   "execution_count": 1084,
   "metadata": {},
   "outputs": [],
   "source": [
    "def predict_future(years_to=50,alpha=0,dev_speed=0):\n",
    "    last = data.loc[data.index[-1],:]\n",
    "    future = pd.DataFrame()\n",
    "    future = future.append(last)\n",
    "\n",
    "    last_noise = np.random.randn()\n",
    "    last_gdp_growth_need = 5\n",
    "    last_gdp_growth = list(data['gdp_growth'][:-last_gdp_growth_need])\n",
    "    for idx in range(years_to):\n",
    "        nextyear = pd.Series(index=data.columns)\n",
    "        #nextyear['gdp_growth'] = gdp_growth_next(last['gdp_growth'])\n",
    "        nx_growth, cur_noise = gdp_growth_next(last_gdp_growth, last_noise,dev_speed)\n",
    "        #print(nx_growth)\n",
    "        #print(nx_growth)\n",
    "        nextyear['gdp_growth'] = nx_growth-alpha\n",
    "    #    print(nextyear['gdp_growth'])\n",
    "\n",
    "        nextyear['gdp'] = last['gdp'] * (100+last['gdp_growth']) / 100\n",
    "    \n",
    "        for c in metadata.keys():\n",
    "            #print(np.mean(np.array(data.append(future)[c])))\n",
    "            metadata[c]['mean'] = np.mean(np.array(data.append(future)[c]))\n",
    "            metadata[c]['std'] = np.std(np.array(data.append(future)[c]))\n",
    "    \n",
    "        #print(metadata)\n",
    "        for c in economics:\n",
    "            scaled = (nextyear[c]-metadata[c]['mean']) / (metadata[c]['std'])\n",
    "            #scaled = nextyear[c]\n",
    "            nextyear[c+'_scaled'] = scaled\n",
    "        \n",
    "        for c in economics:\n",
    "            if c=='gdp':\n",
    "                sig = np.log(1+nextyear[c])\n",
    "            else:\n",
    "                sig = nextyear[c]\n",
    "            nextyear[c+'_sigmoid'] = sig\n",
    "        \n",
    "        nextyear['EPI_P'] = last['EPI']\n",
    "        nextyear['EPI_P_scaled'] = (nextyear['EPI_P'] - metadata['EPI']['mean']) / metadata['EPI']['std']\n",
    "        #print(nextyear)\n",
    "    \n",
    "        for c in economics:\n",
    "            cross = nextyear[c+'_scaled']*nextyear['EPI_P_scaled']\n",
    "            nextyear[c+'_cross'] = cross\n",
    "        \n",
    "        \n",
    "        #next_sigmoid = nextyear[np.concatenate(([c+'_sigmoid' for c in economics],['EPI_P']))]\n",
    "        #print(next_sigmoid)\n",
    "        next_sigmoid = nextyear[vars_to_use]\n",
    "        next_sigmoid = np.array(next_sigmoid).reshape(1,-1)\n",
    "        #print(next_sigmoid)\n",
    "        EPI_pred = lin_mod.predict(next_sigmoid)\n",
    "        nextyear['EPI'] = EPI_pred\n",
    "        nextyear['gdp_growth'] = nextyear['gdp_growth'] + alpha\n",
    "      #  print(nextyear['gdp_growth'])\n",
    "        nextyear['gdp'] = last['gdp'] * (100+last['gdp_growth']) / 100\n",
    "\n",
    "        last_noise = cur_noise\n",
    "        last_gdp_growth.append(nextyear['gdp_growth'])\n",
    "        last_gdp_growth = last_gdp_growth[1:]\n",
    "    \n",
    "        future = future.append(nextyear,ignore_index=True)\n",
    "        last = future.loc[future.index[-1],:]\n",
    "       # print('\\n')\n",
    "    return future"
   ]
  },
  {
   "cell_type": "code",
   "execution_count": 1104,
   "metadata": {
    "collapsed": true
   },
   "outputs": [],
   "source": [
    "linewidth=2"
   ]
  },
  {
   "cell_type": "markdown",
   "metadata": {},
   "source": [
    "When economic is stable."
   ]
  },
  {
   "cell_type": "code",
   "execution_count": 1105,
   "metadata": {},
   "outputs": [
    {
     "data": {
      "image/png": "[encoded data removed]",
      "text/plain": [
       "<matplotlib.figure.Figure at 0x1a9c2d28080>"
      ]
     },
     "metadata": {},
     "output_type": "display_data"
    }
   ],
   "source": [
    "future = predict_future(50,0,0.0)\n",
    "plt.plot(future.EPI)\n",
    "plt.show()"
   ]
  },
  {
   "cell_type": "markdown",
   "metadata": {},
   "source": [
    "When economic develops rapidly. "
   ]
  },
  {
   "cell_type": "code",
   "execution_count": 1107,
   "metadata": {},
   "outputs": [
    {
     "data": {
      "image/png": "[encoded data removed]",
      "text/plain": [
       "<matplotlib.figure.Figure at 0x1a9c3d16da0>"
      ]
     },
     "metadata": {},
     "output_type": "display_data"
    }
   ],
   "source": [
    "future = predict_future(50,0,0.3)\n",
    "plt.plot(future.EPI)\n",
    "plt.show()"
   ]
  },
  {
   "cell_type": "code",
   "execution_count": 1109,
   "metadata": {
    "scrolled": true
   },
   "outputs": [
    {
     "data": {
      "image/png": "[encoded data removed]",
      "text/plain": [
       "<matplotlib.figure.Figure at 0x1a9c2bd6160>"
      ]
     },
     "metadata": {},
     "output_type": "display_data"
    }
   ],
   "source": [
    "plt.plot(future.gdp_growth)\n",
    "plt.show()"
   ]
  },
  {
   "cell_type": "code",
   "execution_count": 1116,
   "metadata": {},
   "outputs": [],
   "source": [
    "betas = np.arange(0.01,0.5,0.01)\n",
    "epis = []\n",
    "gdps_g = []\n",
    "for b in betas:\n",
    "    future=predict_future(50,0,b)\n",
    "    epis.append(np.array(future.EPI)[-1])\n",
    "    gdps_g.append(np.array(future.gdp_growth)[-1])"
   ]
  },
  {
   "cell_type": "code",
   "execution_count": 1117,
   "metadata": {},
   "outputs": [
    {
     "data": {
      "image/png": "[encoded data removed]",
      "text/plain": [
       "<matplotlib.figure.Figure at 0x1a9c3e98cc0>"
      ]
     },
     "metadata": {},
     "output_type": "display_data"
    }
   ],
   "source": [
    "plt.plot(betas, epis,'ro')\n",
    "plt.show()"
   ]
  },
  {
   "cell_type": "code",
   "execution_count": 1118,
   "metadata": {},
   "outputs": [
    {
     "data": {
      "image/png": "[encoded data removed]",
      "text/plain": [
       "<matplotlib.figure.Figure at 0x1a9c2ab1240>"
      ]
     },
     "metadata": {},
     "output_type": "display_data"
    }
   ],
   "source": [
    "plt.plot(betas, gdps_g,'ro')\n",
    "plt.show()"
   ]
  },
  {
   "cell_type": "markdown",
   "metadata": {},
   "source": [
    "beta=0.3, investment to environment"
   ]
  },
  {
   "cell_type": "code",
   "execution_count": 1168,
   "metadata": {},
   "outputs": [
    {
     "data": {
      "text/plain": [
       "(1, 1, 30)"
      ]
     },
     "execution_count": 1168,
     "metadata": {},
     "output_type": "execute_result"
    }
   ],
   "source": [
    "def gettime(seconds):\n",
    "    secs = seconds % 60\n",
    "    mins = int((seconds % 3600) / 60)\n",
    "    hours = int(seconds / 3600)\n",
    "    return hours, mins, secs\n",
    "\n",
    "gettime(3690)"
   ]
  },
  {
   "cell_type": "code",
   "execution_count": 1169,
   "metadata": {},
   "outputs": [],
   "source": [
    "def gettime(seconds):\n",
    "    secs = seconds % 60\n",
    "    mins = int((seconds % 3600) / 60)\n",
    "    hours = int(seconds / 3600)\n",
    "    return hours, mins, secs\n"
   ]
  },
  {
   "cell_type": "code",
   "execution_count": 1171,
   "metadata": {},
   "outputs": [
    {
     "name": "stdout",
     "output_type": "stream",
     "text": [
      "4.21%, estimated time to complete: 0:3:36"
     ]
    },
    {
     "ename": "KeyboardInterrupt",
     "evalue": "",
     "output_type": "error",
     "traceback": [
      "\u001b[1;31m---------------------------------------------------------------------------\u001b[0m",
      "\u001b[1;31mKeyboardInterrupt\u001b[0m                         Traceback (most recent call last)",
      "\u001b[1;32m<ipython-input-1171-ca287e2dc557>\u001b[0m in \u001b[0;36m<module>\u001b[1;34m()\u001b[0m\n\u001b[0;32m     13\u001b[0m         \u001b[0mstep\u001b[0m \u001b[1;33m+=\u001b[0m \u001b[1;36m1\u001b[0m\u001b[1;33m\u001b[0m\u001b[0m\n\u001b[0;32m     14\u001b[0m         \u001b[0mstepstart\u001b[0m\u001b[1;33m=\u001b[0m\u001b[0mtime\u001b[0m\u001b[1;33m.\u001b[0m\u001b[0mtime\u001b[0m\u001b[1;33m(\u001b[0m\u001b[1;33m)\u001b[0m\u001b[1;33m\u001b[0m\u001b[0m\n\u001b[1;32m---> 15\u001b[1;33m         \u001b[0mfuture\u001b[0m\u001b[1;33m=\u001b[0m\u001b[0mpredict_future\u001b[0m\u001b[1;33m(\u001b[0m\u001b[1;36m50\u001b[0m\u001b[1;33m,\u001b[0m\u001b[0ma\u001b[0m\u001b[1;33m,\u001b[0m\u001b[1;36m0.3\u001b[0m\u001b[1;33m)\u001b[0m\u001b[1;33m\u001b[0m\u001b[0m\n\u001b[0m\u001b[0;32m     16\u001b[0m         \u001b[0mepi\u001b[0m \u001b[1;33m+=\u001b[0m \u001b[1;36m0.1\u001b[0m \u001b[1;33m*\u001b[0m \u001b[1;33m(\u001b[0m\u001b[0mnp\u001b[0m\u001b[1;33m.\u001b[0m\u001b[0marray\u001b[0m\u001b[1;33m(\u001b[0m\u001b[0mfuture\u001b[0m\u001b[1;33m.\u001b[0m\u001b[0mEPI\u001b[0m\u001b[1;33m)\u001b[0m\u001b[1;33m[\u001b[0m\u001b[1;33m-\u001b[0m\u001b[1;36m1\u001b[0m\u001b[1;33m]\u001b[0m\u001b[1;33m)\u001b[0m\u001b[1;33m\u001b[0m\u001b[0m\n\u001b[0;32m     17\u001b[0m         \u001b[0mstepused\u001b[0m \u001b[1;33m=\u001b[0m \u001b[0mtime\u001b[0m\u001b[1;33m.\u001b[0m\u001b[0mtime\u001b[0m\u001b[1;33m(\u001b[0m\u001b[1;33m)\u001b[0m\u001b[1;33m-\u001b[0m\u001b[0mstepstart\u001b[0m\u001b[1;33m\u001b[0m\u001b[0m\n",
      "\u001b[1;32m<ipython-input-1084-aebda47d0ffa>\u001b[0m in \u001b[0;36mpredict_future\u001b[1;34m(years_to, alpha, dev_speed)\u001b[0m\n\u001b[0;32m     20\u001b[0m         \u001b[1;32mfor\u001b[0m \u001b[0mc\u001b[0m \u001b[1;32min\u001b[0m \u001b[0mmetadata\u001b[0m\u001b[1;33m.\u001b[0m\u001b[0mkeys\u001b[0m\u001b[1;33m(\u001b[0m\u001b[1;33m)\u001b[0m\u001b[1;33m:\u001b[0m\u001b[1;33m\u001b[0m\u001b[0m\n\u001b[0;32m     21\u001b[0m             \u001b[1;31m#print(np.mean(np.array(data.append(future)[c])))\u001b[0m\u001b[1;33m\u001b[0m\u001b[1;33m\u001b[0m\u001b[0m\n\u001b[1;32m---> 22\u001b[1;33m             \u001b[0mmetadata\u001b[0m\u001b[1;33m[\u001b[0m\u001b[0mc\u001b[0m\u001b[1;33m]\u001b[0m\u001b[1;33m[\u001b[0m\u001b[1;34m'mean'\u001b[0m\u001b[1;33m]\u001b[0m \u001b[1;33m=\u001b[0m \u001b[0mnp\u001b[0m\u001b[1;33m.\u001b[0m\u001b[0mmean\u001b[0m\u001b[1;33m(\u001b[0m\u001b[0mnp\u001b[0m\u001b[1;33m.\u001b[0m\u001b[0marray\u001b[0m\u001b[1;33m(\u001b[0m\u001b[0mdata\u001b[0m\u001b[1;33m.\u001b[0m\u001b[0mappend\u001b[0m\u001b[1;33m(\u001b[0m\u001b[0mfuture\u001b[0m\u001b[1;33m)\u001b[0m\u001b[1;33m[\u001b[0m\u001b[0mc\u001b[0m\u001b[1;33m]\u001b[0m\u001b[1;33m)\u001b[0m\u001b[1;33m)\u001b[0m\u001b[1;33m\u001b[0m\u001b[0m\n\u001b[0m\u001b[0;32m     23\u001b[0m             \u001b[0mmetadata\u001b[0m\u001b[1;33m[\u001b[0m\u001b[0mc\u001b[0m\u001b[1;33m]\u001b[0m\u001b[1;33m[\u001b[0m\u001b[1;34m'std'\u001b[0m\u001b[1;33m]\u001b[0m \u001b[1;33m=\u001b[0m \u001b[0mnp\u001b[0m\u001b[1;33m.\u001b[0m\u001b[0mstd\u001b[0m\u001b[1;33m(\u001b[0m\u001b[0mnp\u001b[0m\u001b[1;33m.\u001b[0m\u001b[0marray\u001b[0m\u001b[1;33m(\u001b[0m\u001b[0mdata\u001b[0m\u001b[1;33m.\u001b[0m\u001b[0mappend\u001b[0m\u001b[1;33m(\u001b[0m\u001b[0mfuture\u001b[0m\u001b[1;33m)\u001b[0m\u001b[1;33m[\u001b[0m\u001b[0mc\u001b[0m\u001b[1;33m]\u001b[0m\u001b[1;33m)\u001b[0m\u001b[1;33m)\u001b[0m\u001b[1;33m\u001b[0m\u001b[0m\n\u001b[0;32m     24\u001b[0m \u001b[1;33m\u001b[0m\u001b[0m\n",
      "\u001b[1;32m~\\Anaconda3\\lib\\site-packages\\pandas\\core\\frame.py\u001b[0m in \u001b[0;36mappend\u001b[1;34m(self, other, ignore_index, verify_integrity)\u001b[0m\n\u001b[0;32m   4545\u001b[0m             \u001b[0mto_concat\u001b[0m \u001b[1;33m=\u001b[0m \u001b[1;33m[\u001b[0m\u001b[0mself\u001b[0m\u001b[1;33m,\u001b[0m \u001b[0mother\u001b[0m\u001b[1;33m]\u001b[0m\u001b[1;33m\u001b[0m\u001b[0m\n\u001b[0;32m   4546\u001b[0m         return concat(to_concat, ignore_index=ignore_index,\n\u001b[1;32m-> 4547\u001b[1;33m                       verify_integrity=verify_integrity)\n\u001b[0m\u001b[0;32m   4548\u001b[0m \u001b[1;33m\u001b[0m\u001b[0m\n\u001b[0;32m   4549\u001b[0m     def join(self, other, on=None, how='left', lsuffix='', rsuffix='',\n",
      "\u001b[1;32m~\\Anaconda3\\lib\\site-packages\\pandas\\core\\reshape\\concat.py\u001b[0m in \u001b[0;36mconcat\u001b[1;34m(objs, axis, join, join_axes, ignore_index, keys, levels, names, verify_integrity, copy)\u001b[0m\n\u001b[0;32m    205\u001b[0m                        \u001b[0mverify_integrity\u001b[0m\u001b[1;33m=\u001b[0m\u001b[0mverify_integrity\u001b[0m\u001b[1;33m,\u001b[0m\u001b[1;33m\u001b[0m\u001b[0m\n\u001b[0;32m    206\u001b[0m                        copy=copy)\n\u001b[1;32m--> 207\u001b[1;33m     \u001b[1;32mreturn\u001b[0m \u001b[0mop\u001b[0m\u001b[1;33m.\u001b[0m\u001b[0mget_result\u001b[0m\u001b[1;33m(\u001b[0m\u001b[1;33m)\u001b[0m\u001b[1;33m\u001b[0m\u001b[0m\n\u001b[0m\u001b[0;32m    208\u001b[0m \u001b[1;33m\u001b[0m\u001b[0m\n\u001b[0;32m    209\u001b[0m \u001b[1;33m\u001b[0m\u001b[0m\n",
      "\u001b[1;32m~\\Anaconda3\\lib\\site-packages\\pandas\\core\\reshape\\concat.py\u001b[0m in \u001b[0;36mget_result\u001b[1;34m(self)\u001b[0m\n\u001b[0;32m    405\u001b[0m             new_data = concatenate_block_managers(\n\u001b[0;32m    406\u001b[0m                 \u001b[0mmgrs_indexers\u001b[0m\u001b[1;33m,\u001b[0m \u001b[0mself\u001b[0m\u001b[1;33m.\u001b[0m\u001b[0mnew_axes\u001b[0m\u001b[1;33m,\u001b[0m \u001b[0mconcat_axis\u001b[0m\u001b[1;33m=\u001b[0m\u001b[0mself\u001b[0m\u001b[1;33m.\u001b[0m\u001b[0maxis\u001b[0m\u001b[1;33m,\u001b[0m\u001b[1;33m\u001b[0m\u001b[0m\n\u001b[1;32m--> 407\u001b[1;33m                 copy=self.copy)\n\u001b[0m\u001b[0;32m    408\u001b[0m             \u001b[1;32mif\u001b[0m \u001b[1;32mnot\u001b[0m \u001b[0mself\u001b[0m\u001b[1;33m.\u001b[0m\u001b[0mcopy\u001b[0m\u001b[1;33m:\u001b[0m\u001b[1;33m\u001b[0m\u001b[0m\n\u001b[0;32m    409\u001b[0m                 \u001b[0mnew_data\u001b[0m\u001b[1;33m.\u001b[0m\u001b[0m_consolidate_inplace\u001b[0m\u001b[1;33m(\u001b[0m\u001b[1;33m)\u001b[0m\u001b[1;33m\u001b[0m\u001b[0m\n",
      "\u001b[1;32m~\\Anaconda3\\lib\\site-packages\\pandas\\core\\internals.py\u001b[0m in \u001b[0;36mconcatenate_block_managers\u001b[1;34m(mgrs_indexers, axes, concat_axis, copy)\u001b[0m\n\u001b[0;32m   4830\u001b[0m     blocks = [make_block(\n\u001b[0;32m   4831\u001b[0m         \u001b[0mconcatenate_join_units\u001b[0m\u001b[1;33m(\u001b[0m\u001b[0mjoin_units\u001b[0m\u001b[1;33m,\u001b[0m \u001b[0mconcat_axis\u001b[0m\u001b[1;33m,\u001b[0m \u001b[0mcopy\u001b[0m\u001b[1;33m=\u001b[0m\u001b[0mcopy\u001b[0m\u001b[1;33m)\u001b[0m\u001b[1;33m,\u001b[0m\u001b[1;33m\u001b[0m\u001b[0m\n\u001b[1;32m-> 4832\u001b[1;33m         placement=placement) for placement, join_units in concat_plan]\n\u001b[0m\u001b[0;32m   4833\u001b[0m \u001b[1;33m\u001b[0m\u001b[0m\n\u001b[0;32m   4834\u001b[0m     \u001b[1;32mreturn\u001b[0m \u001b[0mBlockManager\u001b[0m\u001b[1;33m(\u001b[0m\u001b[0mblocks\u001b[0m\u001b[1;33m,\u001b[0m \u001b[0maxes\u001b[0m\u001b[1;33m)\u001b[0m\u001b[1;33m\u001b[0m\u001b[0m\n",
      "\u001b[1;32m~\\Anaconda3\\lib\\site-packages\\pandas\\core\\internals.py\u001b[0m in \u001b[0;36m<listcomp>\u001b[1;34m(.0)\u001b[0m\n\u001b[0;32m   4830\u001b[0m     blocks = [make_block(\n\u001b[0;32m   4831\u001b[0m         \u001b[0mconcatenate_join_units\u001b[0m\u001b[1;33m(\u001b[0m\u001b[0mjoin_units\u001b[0m\u001b[1;33m,\u001b[0m \u001b[0mconcat_axis\u001b[0m\u001b[1;33m,\u001b[0m \u001b[0mcopy\u001b[0m\u001b[1;33m=\u001b[0m\u001b[0mcopy\u001b[0m\u001b[1;33m)\u001b[0m\u001b[1;33m,\u001b[0m\u001b[1;33m\u001b[0m\u001b[0m\n\u001b[1;32m-> 4832\u001b[1;33m         placement=placement) for placement, join_units in concat_plan]\n\u001b[0m\u001b[0;32m   4833\u001b[0m \u001b[1;33m\u001b[0m\u001b[0m\n\u001b[0;32m   4834\u001b[0m     \u001b[1;32mreturn\u001b[0m \u001b[0mBlockManager\u001b[0m\u001b[1;33m(\u001b[0m\u001b[0mblocks\u001b[0m\u001b[1;33m,\u001b[0m \u001b[0maxes\u001b[0m\u001b[1;33m)\u001b[0m\u001b[1;33m\u001b[0m\u001b[0m\n",
      "\u001b[1;32m~\\Anaconda3\\lib\\site-packages\\pandas\\core\\internals.py\u001b[0m in \u001b[0;36mconcatenate_join_units\u001b[1;34m(join_units, concat_axis, copy)\u001b[0m\n\u001b[0;32m   4945\u001b[0m             \u001b[0mconcat_values\u001b[0m \u001b[1;33m=\u001b[0m \u001b[0mconcat_values\u001b[0m\u001b[1;33m.\u001b[0m\u001b[0mcopy\u001b[0m\u001b[1;33m(\u001b[0m\u001b[1;33m)\u001b[0m\u001b[1;33m\u001b[0m\u001b[0m\n\u001b[0;32m   4946\u001b[0m     \u001b[1;32melse\u001b[0m\u001b[1;33m:\u001b[0m\u001b[1;33m\u001b[0m\u001b[0m\n\u001b[1;32m-> 4947\u001b[1;33m         \u001b[0mconcat_values\u001b[0m \u001b[1;33m=\u001b[0m \u001b[0m_concat\u001b[0m\u001b[1;33m.\u001b[0m\u001b[0m_concat_compat\u001b[0m\u001b[1;33m(\u001b[0m\u001b[0mto_concat\u001b[0m\u001b[1;33m,\u001b[0m \u001b[0maxis\u001b[0m\u001b[1;33m=\u001b[0m\u001b[0mconcat_axis\u001b[0m\u001b[1;33m)\u001b[0m\u001b[1;33m\u001b[0m\u001b[0m\n\u001b[0m\u001b[0;32m   4948\u001b[0m \u001b[1;33m\u001b[0m\u001b[0m\n\u001b[0;32m   4949\u001b[0m     \u001b[1;32mreturn\u001b[0m \u001b[0mconcat_values\u001b[0m\u001b[1;33m\u001b[0m\u001b[0m\n",
      "\u001b[1;32m~\\Anaconda3\\lib\\site-packages\\pandas\\core\\dtypes\\concat.py\u001b[0m in \u001b[0;36m_concat_compat\u001b[1;34m(to_concat, axis)\u001b[0m\n\u001b[0;32m    164\u001b[0m                 \u001b[0mto_concat\u001b[0m \u001b[1;33m=\u001b[0m \u001b[1;33m[\u001b[0m\u001b[0mx\u001b[0m\u001b[1;33m.\u001b[0m\u001b[0mastype\u001b[0m\u001b[1;33m(\u001b[0m\u001b[1;34m'object'\u001b[0m\u001b[1;33m)\u001b[0m \u001b[1;32mfor\u001b[0m \u001b[0mx\u001b[0m \u001b[1;32min\u001b[0m \u001b[0mto_concat\u001b[0m\u001b[1;33m]\u001b[0m\u001b[1;33m\u001b[0m\u001b[0m\n\u001b[0;32m    165\u001b[0m \u001b[1;33m\u001b[0m\u001b[0m\n\u001b[1;32m--> 166\u001b[1;33m     \u001b[1;32mreturn\u001b[0m \u001b[0mnp\u001b[0m\u001b[1;33m.\u001b[0m\u001b[0mconcatenate\u001b[0m\u001b[1;33m(\u001b[0m\u001b[0mto_concat\u001b[0m\u001b[1;33m,\u001b[0m \u001b[0maxis\u001b[0m\u001b[1;33m=\u001b[0m\u001b[0maxis\u001b[0m\u001b[1;33m)\u001b[0m\u001b[1;33m\u001b[0m\u001b[0m\n\u001b[0m\u001b[0;32m    167\u001b[0m \u001b[1;33m\u001b[0m\u001b[0m\n\u001b[0;32m    168\u001b[0m \u001b[1;33m\u001b[0m\u001b[0m\n",
      "\u001b[1;31mKeyboardInterrupt\u001b[0m: "
     ]
    }
   ],
   "source": [
    "import time\n",
    "import sys\n",
    "alphas = np.arange(1,20,0.5)\n",
    "epis = []\n",
    "innerstep = 10\n",
    "totalstep = len(alphas)*innerstep\n",
    "steplase = 0.0\n",
    "stepcur = 0.0\n",
    "step = 0\n",
    "for i,a in enumerate(alphas):\n",
    "    epi = 0.0\n",
    "    for it in range(innerstep):\n",
    "        step += 1\n",
    "        stepstart=time.time()\n",
    "        future=predict_future(50,a,0.3)\n",
    "        epi += 0.1 * (np.array(future.EPI)[-1])\n",
    "        stepused = time.time()-stepstart\n",
    "        stepcur += stepused\n",
    "        stepavg = stepcur / step\n",
    "        timeneed = (totalstep - step)  * stepavg\n",
    "        h, m, s = gettime(timeneed)\n",
    "        sys.stdout.write(\"\\r%.2f%%, estimated time to complete: %d:%d:%d\" % (step/totalstep*100, h,m,s))\n",
    "        sys.stdout.flush()\n",
    "        steplase = stepused\n",
    "    epis.append(epi)"
   ]
  },
  {
   "cell_type": "code",
   "execution_count": 1139,
   "metadata": {},
   "outputs": [
    {
     "data": {
      "image/png": "[encoded data removed]",
      "text/plain": [
       "<matplotlib.figure.Figure at 0x1a9c3df29b0>"
      ]
     },
     "metadata": {},
     "output_type": "display_data"
    }
   ],
   "source": [
    "plt.plot(alphas, epis,'ro')\n",
    "plt.show()"
   ]
  },
  {
   "cell_type": "code",
   "execution_count": 1172,
   "metadata": {},
   "outputs": [
    {
     "name": "stdout",
     "output_type": "stream",
     "text": [
      "100.00%, estimated time to complete: 0:0:00"
     ]
    }
   ],
   "source": [
    "betas = np.arange(0.0,0.55,0.05)\n",
    "alphas = np.arange(1,21,1)\n",
    "tradeoff = pd.DataFrame(index=alphas, columns=betas)\n",
    "innerstep = 10\n",
    "totalstep = len(alphas)*innerstep*len(betas)\n",
    "stepcur = 0.0\n",
    "step = 0\n",
    "\n",
    "for i,b in enumerate(betas):\n",
    "    alpha = 0.0\n",
    "    for a in alphas:\n",
    "        tradeoff.loc[a,b] = 0.0\n",
    "        for _ in range(innerstep):\n",
    "            step+=1\n",
    "            stepstart = time.time()\n",
    "            future = predict_future(50,a, b)\n",
    "            tradeoff.loc[a,b] += np.array(future.EPI)[-1] / innerstep\n",
    "            stepcur += time.time() - stepstart\n",
    "            stepavg = stepcur/step\n",
    "            timeneed = (totalstep - step)  * stepavg\n",
    "            h, m, s = gettime(timeneed)\n",
    "            sys.stdout.write(\"\\r%.2f%%, estimated time to complete: %d:%d:%d\" % (step/totalstep*100, h,m,s))\n",
    "            sys.stdout.flush()\n"
   ]
  },
  {
   "cell_type": "code",
   "execution_count": 1174,
   "metadata": {},
   "outputs": [],
   "source": [
    "tradeoff.to_csv('tradeoff.csv')"
   ]
  },
  {
   "cell_type": "code",
   "execution_count": 1189,
   "metadata": {},
   "outputs": [],
   "source": [
    "betas = [0.0,0.3,0.5]\n",
    "years = np.arange(2017,2017+50,1).astype(int)\n",
    "EPI_future = pd.DataFrame(index=years, columns=betas)\n",
    "\n",
    "for b in betas:\n",
    "    future = predict_future(50,0.0,b)\n",
    "    EPI_array = np.array(future.EPI)[1:]\n",
    "    EPI_future[b] = EPI_array"
   ]
  },
  {
   "cell_type": "code",
   "execution_count": 1192,
   "metadata": {},
   "outputs": [],
   "source": [
    "EPI_future.to_csv('EPI_future.csv')"
   ]
  },
  {
   "cell_type": "code",
   "execution_count": null,
   "metadata": {
    "collapsed": true
   },
   "outputs": [],
   "source": []
  }
 ],
 "metadata": {
  "kernelspec": {
   "display_name": "Python 3",
   "language": "python",
   "name": "python3"
  },
  "language_info": {
   "codemirror_mode": {
    "name": "ipython",
    "version": 3
   },
   "file_extension": ".py",
   "mimetype": "text/x-python",
   "name": "python",
   "nbconvert_exporter": "python",
   "pygments_lexer": "ipython3",
   "version": "3.6.3"
  }
 },
 "nbformat": 4,
 "nbformat_minor": 2
}
