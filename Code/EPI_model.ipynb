{
 "cells": [
  {
   "cell_type": "code",
   "execution_count": 48,
   "metadata": {
    "collapsed": true
   },
   "outputs": [],
   "source": [
    "import pandas as pd\n",
    "import numpy as np\n",
    "import matplotlib.pyplot as plt"
   ]
  },
  {
   "cell_type": "code",
   "execution_count": 49,
   "metadata": {},
   "outputs": [
    {
     "data": {
      "text/html": [
       "<div>\n",
       "<style>\n",
       "    .dataframe thead tr:only-child th {\n",
       "        text-align: right;\n",
       "    }\n",
       "\n",
       "    .dataframe thead th {\n",
       "        text-align: left;\n",
       "    }\n",
       "\n",
       "    .dataframe tbody tr th {\n",
       "        vertical-align: top;\n",
       "    }\n",
       "</style>\n",
       "<table border=\"1\" class=\"dataframe\">\n",
       "  <thead>\n",
       "    <tr style=\"text-align: right;\">\n",
       "      <th></th>\n",
       "      <th>gdp</th>\n",
       "      <th>gdp_growth</th>\n",
       "      <th>gpc</th>\n",
       "      <th>gpc_growth</th>\n",
       "      <th>pop</th>\n",
       "      <th>EPI</th>\n",
       "      <th>EPI_P</th>\n",
       "    </tr>\n",
       "  </thead>\n",
       "  <tbody>\n",
       "    <tr>\n",
       "      <th>0</th>\n",
       "      <td>8802441342</td>\n",
       "      <td>5.727016</td>\n",
       "      <td>7100.861823</td>\n",
       "      <td>5.246497</td>\n",
       "      <td>1239630</td>\n",
       "      <td>73.85</td>\n",
       "      <td>73.85</td>\n",
       "    </tr>\n",
       "    <tr>\n",
       "      <th>1</th>\n",
       "      <td>9276625562</td>\n",
       "      <td>5.386963</td>\n",
       "      <td>7456.369246</td>\n",
       "      <td>5.006539</td>\n",
       "      <td>1244121</td>\n",
       "      <td>74.32</td>\n",
       "      <td>73.85</td>\n",
       "    </tr>\n",
       "  </tbody>\n",
       "</table>\n",
       "</div>"
      ],
      "text/plain": [
       "          gdp  gdp_growth          gpc  gpc_growth      pop    EPI  EPI_P\n",
       "0  8802441342    5.727016  7100.861823    5.246497  1239630  73.85  73.85\n",
       "1  9276625562    5.386963  7456.369246    5.006539  1244121  74.32  73.85"
      ]
     },
     "execution_count": 49,
     "metadata": {},
     "output_type": "execute_result"
    }
   ],
   "source": [
    "data = pd.read_csv('Mau_hist.csv')\n",
    "data.head(2)"
   ]
  },
  {
   "cell_type": "code",
   "execution_count": 50,
   "metadata": {
    "collapsed": true
   },
   "outputs": [],
   "source": [
    "beta_epi = 0.9\n",
    "beta_gdp = 0.9\n",
    "K_EPI = 120"
   ]
  },
  {
   "cell_type": "code",
   "execution_count": 51,
   "metadata": {
    "collapsed": true
   },
   "outputs": [],
   "source": [
    "economics = ['gdp','gdp_growth','gpc','gpc_growth']\n",
    "metadata = {idx:{'mean':float('nan'), 'std':float('nan')} for idx in economics}"
   ]
  },
  {
   "cell_type": "code",
   "execution_count": 52,
   "metadata": {},
   "outputs": [],
   "source": [
    "for c in economics:\n",
    "    metadata[c]['mean'] = np.mean(data[c])\n",
    "    metadata[c]['std'] = np.std(data[c])"
   ]
  },
  {
   "cell_type": "code",
   "execution_count": 53,
   "metadata": {},
   "outputs": [
    {
     "data": {
      "text/html": [
       "<div>\n",
       "<style>\n",
       "    .dataframe thead tr:only-child th {\n",
       "        text-align: right;\n",
       "    }\n",
       "\n",
       "    .dataframe thead th {\n",
       "        text-align: left;\n",
       "    }\n",
       "\n",
       "    .dataframe tbody tr th {\n",
       "        vertical-align: top;\n",
       "    }\n",
       "</style>\n",
       "<table border=\"1\" class=\"dataframe\">\n",
       "  <thead>\n",
       "    <tr style=\"text-align: right;\">\n",
       "      <th></th>\n",
       "      <th>gdp</th>\n",
       "      <th>gdp_growth</th>\n",
       "      <th>gpc</th>\n",
       "      <th>gpc_growth</th>\n",
       "      <th>pop</th>\n",
       "      <th>EPI</th>\n",
       "      <th>EPI_P</th>\n",
       "      <th>gdp_scaled</th>\n",
       "      <th>gdp_growth_scaled</th>\n",
       "      <th>gpc_scaled</th>\n",
       "      <th>gpc_growth_scaled</th>\n",
       "    </tr>\n",
       "  </thead>\n",
       "  <tbody>\n",
       "    <tr>\n",
       "      <th>0</th>\n",
       "      <td>8802441342</td>\n",
       "      <td>5.727016</td>\n",
       "      <td>7100.861823</td>\n",
       "      <td>5.246497</td>\n",
       "      <td>1239630</td>\n",
       "      <td>73.85</td>\n",
       "      <td>73.85</td>\n",
       "      <td>-1.584182</td>\n",
       "      <td>2.045893</td>\n",
       "      <td>-1.580204</td>\n",
       "      <td>1.944092</td>\n",
       "    </tr>\n",
       "    <tr>\n",
       "      <th>1</th>\n",
       "      <td>9276625562</td>\n",
       "      <td>5.386963</td>\n",
       "      <td>7456.369246</td>\n",
       "      <td>5.006539</td>\n",
       "      <td>1244121</td>\n",
       "      <td>74.32</td>\n",
       "      <td>73.85</td>\n",
       "      <td>-1.164225</td>\n",
       "      <td>1.624673</td>\n",
       "      <td>-1.161873</td>\n",
       "      <td>1.614898</td>\n",
       "    </tr>\n",
       "  </tbody>\n",
       "</table>\n",
       "</div>"
      ],
      "text/plain": [
       "          gdp  gdp_growth          gpc  gpc_growth      pop    EPI  EPI_P  \\\n",
       "0  8802441342    5.727016  7100.861823    5.246497  1239630  73.85  73.85   \n",
       "1  9276625562    5.386963  7456.369246    5.006539  1244121  74.32  73.85   \n",
       "\n",
       "   gdp_scaled  gdp_growth_scaled  gpc_scaled  gpc_growth_scaled  \n",
       "0   -1.584182           2.045893   -1.580204           1.944092  \n",
       "1   -1.164225           1.624673   -1.161873           1.614898  "
      ]
     },
     "execution_count": 53,
     "metadata": {},
     "output_type": "execute_result"
    }
   ],
   "source": [
    "for c in economics:\n",
    "    scaled = (data[c]-metadata[c]['mean']) / (metadata[c]['std'])\n",
    "    data[c+'_scaled'] = scaled\n",
    "data.head(2)"
   ]
  },
  {
   "cell_type": "code",
   "execution_count": 55,
   "metadata": {},
   "outputs": [
    {
     "data": {
      "text/html": [
       "<div>\n",
       "<style>\n",
       "    .dataframe thead tr:only-child th {\n",
       "        text-align: right;\n",
       "    }\n",
       "\n",
       "    .dataframe thead th {\n",
       "        text-align: left;\n",
       "    }\n",
       "\n",
       "    .dataframe tbody tr th {\n",
       "        vertical-align: top;\n",
       "    }\n",
       "</style>\n",
       "<table border=\"1\" class=\"dataframe\">\n",
       "  <thead>\n",
       "    <tr style=\"text-align: right;\">\n",
       "      <th></th>\n",
       "      <th>gdp</th>\n",
       "      <th>gdp_growth</th>\n",
       "      <th>gpc</th>\n",
       "      <th>gpc_growth</th>\n",
       "      <th>pop</th>\n",
       "      <th>EPI</th>\n",
       "      <th>EPI_P</th>\n",
       "      <th>gdp_scaled</th>\n",
       "      <th>gdp_growth_scaled</th>\n",
       "      <th>gpc_scaled</th>\n",
       "      <th>gpc_growth_scaled</th>\n",
       "      <th>gdp_sigmoid</th>\n",
       "      <th>gdp_growth_sigmoid</th>\n",
       "      <th>gpc_sigmoid</th>\n",
       "      <th>gpc_growth_sigmoid</th>\n",
       "    </tr>\n",
       "  </thead>\n",
       "  <tbody>\n",
       "    <tr>\n",
       "      <th>0</th>\n",
       "      <td>8802441342</td>\n",
       "      <td>5.727016</td>\n",
       "      <td>7100.861823</td>\n",
       "      <td>5.246497</td>\n",
       "      <td>1239630</td>\n",
       "      <td>73.85</td>\n",
       "      <td>73.85</td>\n",
       "      <td>-1.584182</td>\n",
       "      <td>2.045893</td>\n",
       "      <td>-1.580204</td>\n",
       "      <td>1.944092</td>\n",
       "      <td>0.829796</td>\n",
       "      <td>0.114468</td>\n",
       "      <td>0.829233</td>\n",
       "      <td>0.125199</td>\n",
       "    </tr>\n",
       "    <tr>\n",
       "      <th>1</th>\n",
       "      <td>9276625562</td>\n",
       "      <td>5.386963</td>\n",
       "      <td>7456.369246</td>\n",
       "      <td>5.006539</td>\n",
       "      <td>1244121</td>\n",
       "      <td>74.32</td>\n",
       "      <td>73.85</td>\n",
       "      <td>-1.164225</td>\n",
       "      <td>1.624673</td>\n",
       "      <td>-1.161873</td>\n",
       "      <td>1.614898</td>\n",
       "      <td>0.762100</td>\n",
       "      <td>0.164561</td>\n",
       "      <td>0.761673</td>\n",
       "      <td>0.165910</td>\n",
       "    </tr>\n",
       "  </tbody>\n",
       "</table>\n",
       "</div>"
      ],
      "text/plain": [
       "          gdp  gdp_growth          gpc  gpc_growth      pop    EPI  EPI_P  \\\n",
       "0  8802441342    5.727016  7100.861823    5.246497  1239630  73.85  73.85   \n",
       "1  9276625562    5.386963  7456.369246    5.006539  1244121  74.32  73.85   \n",
       "\n",
       "   gdp_scaled  gdp_growth_scaled  gpc_scaled  gpc_growth_scaled  gdp_sigmoid  \\\n",
       "0   -1.584182           2.045893   -1.580204           1.944092     0.829796   \n",
       "1   -1.164225           1.624673   -1.161873           1.614898     0.762100   \n",
       "\n",
       "   gdp_growth_sigmoid  gpc_sigmoid  gpc_growth_sigmoid  \n",
       "0            0.114468     0.829233            0.125199  \n",
       "1            0.164561     0.761673            0.165910  "
      ]
     },
     "execution_count": 55,
     "metadata": {},
     "output_type": "execute_result"
    }
   ],
   "source": [
    "for c in economics:\n",
    "    sig = 1/(1+np.exp(data[c+'_scaled']))\n",
    "    data[c+'_sigmoid'] = sig\n",
    "data.head(2)"
   ]
  },
  {
   "cell_type": "code",
   "execution_count": 59,
   "metadata": {},
   "outputs": [
    {
     "data": {
      "text/html": [
       "<div>\n",
       "<style>\n",
       "    .dataframe thead tr:only-child th {\n",
       "        text-align: right;\n",
       "    }\n",
       "\n",
       "    .dataframe thead th {\n",
       "        text-align: left;\n",
       "    }\n",
       "\n",
       "    .dataframe tbody tr th {\n",
       "        vertical-align: top;\n",
       "    }\n",
       "</style>\n",
       "<table border=\"1\" class=\"dataframe\">\n",
       "  <thead>\n",
       "    <tr style=\"text-align: right;\">\n",
       "      <th></th>\n",
       "      <th>gdp_sigmoid</th>\n",
       "      <th>gdp_growth_sigmoid</th>\n",
       "      <th>gpc_sigmoid</th>\n",
       "      <th>gpc_growth_sigmoid</th>\n",
       "      <th>EPI_P</th>\n",
       "    </tr>\n",
       "  </thead>\n",
       "  <tbody>\n",
       "    <tr>\n",
       "      <th>0</th>\n",
       "      <td>0.829796</td>\n",
       "      <td>0.114468</td>\n",
       "      <td>0.829233</td>\n",
       "      <td>0.125199</td>\n",
       "      <td>73.85</td>\n",
       "    </tr>\n",
       "    <tr>\n",
       "      <th>1</th>\n",
       "      <td>0.762100</td>\n",
       "      <td>0.164561</td>\n",
       "      <td>0.761673</td>\n",
       "      <td>0.165910</td>\n",
       "      <td>73.85</td>\n",
       "    </tr>\n",
       "  </tbody>\n",
       "</table>\n",
       "</div>"
      ],
      "text/plain": [
       "   gdp_sigmoid  gdp_growth_sigmoid  gpc_sigmoid  gpc_growth_sigmoid  EPI_P\n",
       "0     0.829796            0.114468     0.829233            0.125199  73.85\n",
       "1     0.762100            0.164561     0.761673            0.165910  73.85"
      ]
     },
     "execution_count": 59,
     "metadata": {},
     "output_type": "execute_result"
    }
   ],
   "source": [
    "data_sigmoid = data[np.concatenate(([c+'_sigmoid' for c in economics],['EPI_P']))]\n",
    "Y = data['EPI']\n",
    "data_sigmoid.head(2)"
   ]
  },
  {
   "cell_type": "code",
   "execution_count": 65,
   "metadata": {},
   "outputs": [
    {
     "data": {
      "image/png": "[encoded data removed]",
      "text/plain": [
       "<matplotlib.figure.Figure at 0x1a9c2519160>"
      ]
     },
     "metadata": {},
     "output_type": "display_data"
    }
   ],
   "source": [
    "from sklearn.linear_model import LinearRegression\n",
    "lin_mod = LinearRegression()\n",
    "\n",
    "lin_mod.fit(data_sigmoid, Y)\n",
    "pred = lin_mod.predict(data_sigmoid)\n",
    "plt.plot(pred,Y,'ro')\n",
    "plt.show()"
   ]
  },
  {
   "cell_type": "code",
   "execution_count": 66,
   "metadata": {
    "collapsed": true
   },
   "outputs": [],
   "source": [
    "def gdp_growth_next(gdp_growth):\n",
    "    return np.exp(-gdp_growth)"
   ]
  },
  {
   "cell_type": "code",
   "execution_count": 79,
   "metadata": {},
   "outputs": [],
   "source": [
    "last = data.loc[data.index[-1],:]"
   ]
  },
  {
   "cell_type": "code",
   "execution_count": 82,
   "metadata": {},
   "outputs": [],
   "source": [
    "years_to = 20\n",
    "future = pd.DataFrame()\n",
    "future = future.append(last)"
   ]
  },
  {
   "cell_type": "code",
   "execution_count": 81,
   "metadata": {},
   "outputs": [
    {
     "data": {
      "text/html": [
       "<div>\n",
       "<style>\n",
       "    .dataframe thead tr:only-child th {\n",
       "        text-align: right;\n",
       "    }\n",
       "\n",
       "    .dataframe thead th {\n",
       "        text-align: left;\n",
       "    }\n",
       "\n",
       "    .dataframe tbody tr th {\n",
       "        vertical-align: top;\n",
       "    }\n",
       "</style>\n",
       "<table border=\"1\" class=\"dataframe\">\n",
       "  <thead>\n",
       "    <tr style=\"text-align: right;\">\n",
       "      <th></th>\n",
       "    </tr>\n",
       "  </thead>\n",
       "  <tbody>\n",
       "  </tbody>\n",
       "</table>\n",
       "</div>"
      ],
      "text/plain": [
       "Empty DataFrame\n",
       "Columns: []\n",
       "Index: []"
      ]
     },
     "execution_count": 81,
     "metadata": {},
     "output_type": "execute_result"
    }
   ],
   "source": [
    "for idx in range(years_to):\n",
    "    last = fut"
   ]
  },
  {
   "cell_type": "code",
   "execution_count": null,
   "metadata": {
    "collapsed": true
   },
   "outputs": [],
   "source": []
  }
 ],
 "metadata": {
  "kernelspec": {
   "display_name": "Python 3",
   "language": "python",
   "name": "python3"
  },
  "language_info": {
   "codemirror_mode": {
    "name": "ipython",
    "version": 3
   },
   "file_extension": ".py",
   "mimetype": "text/x-python",
   "name": "python",
   "nbconvert_exporter": "python",
   "pygments_lexer": "ipython3",
   "version": "3.6.3"
  }
 },
 "nbformat": 4,
 "nbformat_minor": 2
}
