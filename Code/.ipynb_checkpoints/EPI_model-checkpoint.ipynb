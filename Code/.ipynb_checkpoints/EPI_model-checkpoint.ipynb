{
 "cells": [
  {
   "cell_type": "code",
   "execution_count": 5,
   "metadata": {
    "collapsed": true
   },
   "outputs": [],
   "source": [
    "import csv\n",
    "import numpy as np\n",
    "from sklearn.linear_model import LinearRegression"
   ]
  },
  {
   "cell_type": "code",
   "execution_count": 6,
   "metadata": {
    "collapsed": true
   },
   "outputs": [],
   "source": [
    "def read_data():\n",
    "    csvFile = open(\"Mauritius.csv\", \"r\")\n",
    "    reader = csv.reader(csvFile)\n",
    "    attr_dic = {}\n",
    "    years = []\n",
    "    for item in reader:\n",
    "        # ignore the first line\n",
    "        if reader.line_num == 1:\n",
    "            years = item[1:]\n",
    "            continue\n",
    "        attr_dic[item[0]] = [float(i) for i in item[1:]]\n",
    "    csvFile.close()\n",
    "    return attr_dic, years"
   ]
  },
  {
   "cell_type": "code",
   "execution_count": 7,
   "metadata": {},
   "outputs": [
    {
     "ename": "FileNotFoundError",
     "evalue": "[Errno 2] No such file or directory: 'Mauritius.csv'",
     "output_type": "error",
     "traceback": [
      "\u001b[1;31m---------------------------------------------------------------------------\u001b[0m",
      "\u001b[1;31mFileNotFoundError\u001b[0m                         Traceback (most recent call last)",
      "\u001b[1;32m<ipython-input-7-6c279e158f71>\u001b[0m in \u001b[0;36m<module>\u001b[1;34m()\u001b[0m\n\u001b[1;32m----> 1\u001b[1;33m \u001b[0mattr_dic\u001b[0m\u001b[1;33m,\u001b[0m \u001b[0myears\u001b[0m \u001b[1;33m=\u001b[0m \u001b[0mread_data\u001b[0m\u001b[1;33m(\u001b[0m\u001b[1;33m)\u001b[0m\u001b[1;33m\u001b[0m\u001b[0m\n\u001b[0m",
      "\u001b[1;32m<ipython-input-6-bfbf57cae41d>\u001b[0m in \u001b[0;36mread_data\u001b[1;34m()\u001b[0m\n\u001b[0;32m      1\u001b[0m \u001b[1;32mdef\u001b[0m \u001b[0mread_data\u001b[0m\u001b[1;33m(\u001b[0m\u001b[1;33m)\u001b[0m\u001b[1;33m:\u001b[0m\u001b[1;33m\u001b[0m\u001b[0m\n\u001b[1;32m----> 2\u001b[1;33m     \u001b[0mcsvFile\u001b[0m \u001b[1;33m=\u001b[0m \u001b[0mopen\u001b[0m\u001b[1;33m(\u001b[0m\u001b[1;34m\"Mauritius.csv\"\u001b[0m\u001b[1;33m,\u001b[0m \u001b[1;34m\"r\"\u001b[0m\u001b[1;33m)\u001b[0m\u001b[1;33m\u001b[0m\u001b[0m\n\u001b[0m\u001b[0;32m      3\u001b[0m     \u001b[0mreader\u001b[0m \u001b[1;33m=\u001b[0m \u001b[0mcsv\u001b[0m\u001b[1;33m.\u001b[0m\u001b[0mreader\u001b[0m\u001b[1;33m(\u001b[0m\u001b[0mcsvFile\u001b[0m\u001b[1;33m)\u001b[0m\u001b[1;33m\u001b[0m\u001b[0m\n\u001b[0;32m      4\u001b[0m     \u001b[0mattr_dic\u001b[0m \u001b[1;33m=\u001b[0m \u001b[1;33m{\u001b[0m\u001b[1;33m}\u001b[0m\u001b[1;33m\u001b[0m\u001b[0m\n\u001b[0;32m      5\u001b[0m     \u001b[0myears\u001b[0m \u001b[1;33m=\u001b[0m \u001b[1;33m[\u001b[0m\u001b[1;33m]\u001b[0m\u001b[1;33m\u001b[0m\u001b[0m\n",
      "\u001b[1;31mFileNotFoundError\u001b[0m: [Errno 2] No such file or directory: 'Mauritius.csv'"
     ]
    }
   ],
   "source": [
    "attr_dic, years = read_data()"
   ]
  },
  {
   "cell_type": "code",
   "execution_count": 4,
   "metadata": {},
   "outputs": [
    {
     "ename": "NameError",
     "evalue": "name 'attr_dic' is not defined",
     "output_type": "error",
     "traceback": [
      "\u001b[1;31m---------------------------------------------------------------------------\u001b[0m",
      "\u001b[1;31mNameError\u001b[0m                                 Traceback (most recent call last)",
      "\u001b[1;32m<ipython-input-4-ce7dbddd41b7>\u001b[0m in \u001b[0;36m<module>\u001b[1;34m()\u001b[0m\n\u001b[1;32m----> 1\u001b[1;33m \u001b[1;32mfor\u001b[0m \u001b[1;33m(\u001b[0m\u001b[0midx\u001b[0m\u001b[1;33m,\u001b[0m \u001b[0mitem\u001b[0m\u001b[1;33m)\u001b[0m \u001b[1;32min\u001b[0m \u001b[0menumerate\u001b[0m\u001b[1;33m(\u001b[0m\u001b[0mattr_dic\u001b[0m\u001b[1;33m)\u001b[0m\u001b[1;33m:\u001b[0m\u001b[1;33m\u001b[0m\u001b[0m\n\u001b[0m\u001b[0;32m      2\u001b[0m     \u001b[1;32mif\u001b[0m \u001b[0midx\u001b[0m \u001b[1;33m==\u001b[0m \u001b[1;36m0\u001b[0m\u001b[1;33m:\u001b[0m\u001b[1;33m\u001b[0m\u001b[0m\n\u001b[0;32m      3\u001b[0m         \u001b[0mGDP\u001b[0m \u001b[1;33m=\u001b[0m \u001b[0mnp\u001b[0m\u001b[1;33m.\u001b[0m\u001b[0marray\u001b[0m\u001b[1;33m(\u001b[0m\u001b[0mattr_dic\u001b[0m\u001b[1;33m[\u001b[0m\u001b[0mitem\u001b[0m\u001b[1;33m]\u001b[0m\u001b[1;33m)\u001b[0m\u001b[1;33m\u001b[0m\u001b[0m\n\u001b[0;32m      4\u001b[0m         \u001b[0mGDP_pre\u001b[0m \u001b[1;33m=\u001b[0m \u001b[0mGDP\u001b[0m\u001b[1;33m[\u001b[0m\u001b[1;36m1\u001b[0m\u001b[1;33m:\u001b[0m\u001b[1;33m]\u001b[0m\u001b[1;33m\u001b[0m\u001b[0m\n\u001b[0;32m      5\u001b[0m     \u001b[1;32melif\u001b[0m \u001b[0midx\u001b[0m \u001b[1;33m==\u001b[0m \u001b[1;36m1\u001b[0m\u001b[1;33m:\u001b[0m\u001b[1;33m\u001b[0m\u001b[0m\n",
      "\u001b[1;31mNameError\u001b[0m: name 'attr_dic' is not defined"
     ]
    }
   ],
   "source": [
    "for (idx, item) in enumerate(attr_dic):\n",
    "    if idx == 0:\n",
    "        GDP = np.array(attr_dic[item])\n",
    "        GDP_pre = GDP[1:]\n",
    "    elif idx == 1:\n",
    "        GDP_growth = np.array(attr_dic[item])\n",
    "        GDP_growth_pre = GDP_growth[1:]\n",
    "    elif idx == 2:\n",
    "        GPC = np.array(attr_dic[item])\n",
    "        GPC_pre = GPC_growth[1:]\n",
    "    elif idx == 3:\n",
    "        GPC_growth = np.array(attr_dic[item])\n",
    "        GPC_growth_pre = GPC_growth[1:]\n",
    "    elif idx == 4:\n",
    "        population = np.array(attr_dic[item])\n",
    "        population_pre = population[1:]\n",
    "    elif idx == 5:\n",
    "        EPI = np.array(attr_dic[item])\n",
    "    elif idx == 6:\n",
    "        EPI_pre = np.array(attr_dic[item])"
   ]
  },
  {
   "cell_type": "code",
   "execution_count": 237,
   "metadata": {
    "collapsed": true
   },
   "outputs": [],
   "source": [
    "beta = 0.9\n",
    "mov_avg = []\n",
    "for i in range(len(EPI)):\n",
    "    if i == 0 or i == 1:\n",
    "        mov_avg.append(EPI_pre[0])\n",
    "    else:\n",
    "        mov_avg.append(beta*mov_avg[i-1]+(1-beta)*EPI_pre[i])\n",
    "mov_avg = np.array(mov_avg)[1:]"
   ]
  },
  {
   "cell_type": "code",
   "execution_count": 238,
   "metadata": {},
   "outputs": [
    {
     "name": "stdout",
     "output_type": "stream",
     "text": [
      "[ 73.85        73.897       73.8993      73.77737     73.611633    73.4214697\n",
      "  73.19632273  72.99969046  72.91672141]\n"
     ]
    }
   ],
   "source": [
    "print(mov_avg)"
   ]
  },
  {
   "cell_type": "code",
   "execution_count": 241,
   "metadata": {
    "collapsed": true
   },
   "outputs": [],
   "source": [
    "GPC_growth_cross = GPC_growth*EPI"
   ]
  },
  {
   "cell_type": "code",
   "execution_count": 242,
   "metadata": {
    "collapsed": true
   },
   "outputs": [],
   "source": [
    "beta = 0.5\n",
    "for i in range(len(EPI)):\n",
    "    if i == 0:\n",
    "        GPC[i] = GPC[i]\n",
    "        GPC_growth[i] = GPC_growth[i]\n",
    "        GDP[i] = GDP[i]\n",
    "        GDP_growth[i] = GDP_growth[i]\n",
    "        GPC_growth_cross[i] = GPC_growth_cross[i]\n",
    "    else:\n",
    "        GPC[i] = beta*GPC[i-1]+(1-beta)*GPC[i]\n",
    "        GPC_growth[i] = beta*GPC_growth[i-1]+(1-beta)*GPC_growth[i]\n",
    "        GDP[i] = beta*GDP[i-1]+(1-beta)*GDP[i]\n",
    "        GDP_growth[i] = beta*GDP_growth[i-1]+(1-beta)*GDP_growth[i]\n",
    "        GPC_growth_cross[i] = beta*GPC_growth_cross[i-1]+(1-beta)*GPC_growth_cross[i]\n",
    "GPC = GPC[1:]\n",
    "GPC_growth = GPC_growth[1:]\n",
    "GDP = GDP[1:]\n",
    "GDP_growth = GDP_growth[1:]\n",
    "GPC_growth_cross = GPC_growth_cross[1:]"
   ]
  },
  {
   "cell_type": "code",
   "execution_count": 243,
   "metadata": {},
   "outputs": [
    {
     "name": "stdout",
     "output_type": "stream",
     "text": [
      "[ 5.18650748  4.63515836  4.3708312   4.18979193  3.89945899  3.635224\n",
      "  3.54958499  3.47371101  3.51848723] [ 6938.50650475  7124.37452275  7389.84200456  7908.00511687  8383.35152048\n",
      "  8815.60090377  9258.24757864  9369.45917845  9462.63329079] [ 384.22830926  343.05174395  320.75622913  304.93373508  281.87208207\n",
      "  260.89268505  253.81477833  249.51833838  250.98777706] [ 73.85        73.897       73.8993      73.77737     73.611633    73.4214697\n",
      "  73.19632273  72.99969046  72.91672141]\n"
     ]
    }
   ],
   "source": [
    "print(GPC_growth, GPC, GPC_growth_cross, mov_avg)"
   ]
  },
  {
   "cell_type": "code",
   "execution_count": 201,
   "metadata": {
    "collapsed": true
   },
   "outputs": [],
   "source": [
    "H = -61.15 + 71.41*GPC_growth -0.003785*GPC - 0.9681*GPC_growth_cross + 2.215 * mov_avg"
   ]
  },
  {
   "cell_type": "code",
   "execution_count": 204,
   "metadata": {},
   "outputs": [
    {
     "name": "stdout",
     "output_type": "stream",
     "text": [
      "[ 2008.  2009.  2010.  2011.  2012.  2013.  2014.  2015.  2016.]\n"
     ]
    }
   ],
   "source": [
    "t = np.linspace(2008, 2016, 9)\n",
    "print(t)"
   ]
  },
  {
   "cell_type": "code",
   "execution_count": 8,
   "metadata": {},
   "outputs": [
    {
     "ename": "SyntaxError",
     "evalue": "invalid syntax (<ipython-input-8-f82e5b6c5644>, line 3)",
     "output_type": "error",
     "traceback": [
      "\u001b[1;36m  File \u001b[1;32m\"<ipython-input-8-f82e5b6c5644>\"\u001b[1;36m, line \u001b[1;32m3\u001b[0m\n\u001b[1;33m    plt.scatter(t, EPI[1:], c = 'b')z\u001b[0m\n\u001b[1;37m                                    ^\u001b[0m\n\u001b[1;31mSyntaxError\u001b[0m\u001b[1;31m:\u001b[0m invalid syntax\n"
     ]
    }
   ],
   "source": [
    "import matplotlib.pyplot as plt\n",
    "plt.scatter(t, H, c = 'r')\n",
    "plt.scatter(t, EPI[1:], c = 'b')z"
   ]
  },
  {
   "cell_type": "code",
   "execution_count": 9,
   "metadata": {},
   "outputs": [
    {
     "ename": "NameError",
     "evalue": "name 'plt' is not defined",
     "output_type": "error",
     "traceback": [
      "\u001b[1;31m---------------------------------------------------------------------------\u001b[0m",
      "\u001b[1;31mNameError\u001b[0m                                 Traceback (most recent call last)",
      "\u001b[1;32m<ipython-input-9-c4e69632d98a>\u001b[0m in \u001b[0;36m<module>\u001b[1;34m()\u001b[0m\n\u001b[1;32m----> 1\u001b[1;33m \u001b[0mplt\u001b[0m\u001b[1;33m.\u001b[0m\u001b[0mshow\u001b[0m\u001b[1;33m(\u001b[0m\u001b[1;33m)\u001b[0m\u001b[1;33m\u001b[0m\u001b[0m\n\u001b[0m",
      "\u001b[1;31mNameError\u001b[0m: name 'plt' is not defined"
     ]
    }
   ],
   "source": [
    "plt.show()"
   ]
  },
  {
   "cell_type": "code",
   "execution_count": 10,
   "metadata": {
    "collapsed": true
   },
   "outputs": [],
   "source": [
    "def simulation():\n",
    "    csvFile = open(\"predict.csv\", \"r\")\n",
    "    reader = csv.reader(csvFile)\n",
    "    gpc_growth = []\n",
    "    gpc = []\n",
    "    gpc_growth_MA = []\n",
    "    gpc_MA = []\n",
    "    gpc_growth_cross = []\n",
    "    gpc_growth_cross_MA = []\n",
    "    EPI_MA = []\n",
    "    EPI_P = []\n",
    "    EPI = []\n",
    "    for item in reader:\n",
    "        i = reader.line_num - 2\n",
    "        # ignore the first line\n",
    "        if reader.line_num == 1:\n",
    "            continue\n",
    "        elif reader.line_num == 2:\n",
    "            gpc_growth.append(float(item[1]))\n",
    "            gpc.append(float(item[2]))\n",
    "            gpc_growth_MA.append(float(item[3]))\n",
    "            gpc_MA.append(float(item[4]))\n",
    "            gpc_growth_cross.append(float(item[5]))\n",
    "            gpc_growth_cross_MA.append(float(item[6]))\n",
    "            EPI_MA.append(float(item[7]))\n",
    "            EPI_P.append(float(item[8]))\n",
    "            EPI.append(predict(gpc_growth_MA[i], gpc_MA[i], gpc_growth_cross_MA[i], EPI_MA[i]))\n",
    "        else:\n",
    "            gpc_growth.append(float(item[1]))\n",
    "            gpc.append(float(item[2]))\n",
    "            gpc_growth_MA.append(float(item[3]))\n",
    "            gpc_MA.append(float(item[4]))\n",
    "            EPI_P.append(EPI[i-1])\n",
    "            gpc_growth_cross.append(cal_cross(gpc_growth[i],EPI_P[i]))\n",
    "            gpc_growth_cross_MA.append(0.5*gpc_growth_cross_MA[i-1]+0.5*gpc_growth_cross[i])\n",
    "            EPI_MA.append(0.9*EPI_MA[i-1]+0.1*EPI_P[i])\n",
    "            EPI.append(predict(gpc_growth_MA[i], gpc_MA[i], gpc_growth_cross_MA[i], EPI_MA[i]))\n",
    "    csvFile.close()\n",
    "    return gpc, EPI"
   ]
  },
  {
   "cell_type": "code",
   "execution_count": 11,
   "metadata": {
    "collapsed": true
   },
   "outputs": [],
   "source": [
    "def predict(GPC_growth, GPC, GPC_growth_cross, mov_avg):\n",
    "    H = -61.15 + 71.41*GPC_growth -0.003785*GPC - 0.9681*GPC_growth_cross + 2.215 * mov_avg\n",
    "    return H"
   ]
  },
  {
   "cell_type": "code",
   "execution_count": 12,
   "metadata": {
    "collapsed": true
   },
   "outputs": [],
   "source": [
    "def cal_cross(gpc_growth, EPI_P):\n",
    "    return gpc_growth*EPI_P"
   ]
  },
  {
   "cell_type": "code",
   "execution_count": 13,
   "metadata": {},
   "outputs": [
    {
     "ename": "FileNotFoundError",
     "evalue": "[Errno 2] No such file or directory: 'predict.csv'",
     "output_type": "error",
     "traceback": [
      "\u001b[1;31m---------------------------------------------------------------------------\u001b[0m",
      "\u001b[1;31mFileNotFoundError\u001b[0m                         Traceback (most recent call last)",
      "\u001b[1;32m<ipython-input-13-793bb39554a8>\u001b[0m in \u001b[0;36m<module>\u001b[1;34m()\u001b[0m\n\u001b[1;32m----> 1\u001b[1;33m \u001b[0mgpc\u001b[0m\u001b[1;33m,\u001b[0m \u001b[0mEPI\u001b[0m \u001b[1;33m=\u001b[0m  \u001b[0msimulation\u001b[0m\u001b[1;33m(\u001b[0m\u001b[1;33m)\u001b[0m\u001b[1;33m\u001b[0m\u001b[0m\n\u001b[0m",
      "\u001b[1;32m<ipython-input-10-be54e432e498>\u001b[0m in \u001b[0;36msimulation\u001b[1;34m()\u001b[0m\n\u001b[0;32m      1\u001b[0m \u001b[1;32mdef\u001b[0m \u001b[0msimulation\u001b[0m\u001b[1;33m(\u001b[0m\u001b[1;33m)\u001b[0m\u001b[1;33m:\u001b[0m\u001b[1;33m\u001b[0m\u001b[0m\n\u001b[1;32m----> 2\u001b[1;33m     \u001b[0mcsvFile\u001b[0m \u001b[1;33m=\u001b[0m \u001b[0mopen\u001b[0m\u001b[1;33m(\u001b[0m\u001b[1;34m\"predict.csv\"\u001b[0m\u001b[1;33m,\u001b[0m \u001b[1;34m\"r\"\u001b[0m\u001b[1;33m)\u001b[0m\u001b[1;33m\u001b[0m\u001b[0m\n\u001b[0m\u001b[0;32m      3\u001b[0m     \u001b[0mreader\u001b[0m \u001b[1;33m=\u001b[0m \u001b[0mcsv\u001b[0m\u001b[1;33m.\u001b[0m\u001b[0mreader\u001b[0m\u001b[1;33m(\u001b[0m\u001b[0mcsvFile\u001b[0m\u001b[1;33m)\u001b[0m\u001b[1;33m\u001b[0m\u001b[0m\n\u001b[0;32m      4\u001b[0m     \u001b[0mgpc_growth\u001b[0m \u001b[1;33m=\u001b[0m \u001b[1;33m[\u001b[0m\u001b[1;33m]\u001b[0m\u001b[1;33m\u001b[0m\u001b[0m\n\u001b[0;32m      5\u001b[0m     \u001b[0mgpc\u001b[0m \u001b[1;33m=\u001b[0m \u001b[1;33m[\u001b[0m\u001b[1;33m]\u001b[0m\u001b[1;33m\u001b[0m\u001b[0m\n",
      "\u001b[1;31mFileNotFoundError\u001b[0m: [Errno 2] No such file or directory: 'predict.csv'"
     ]
    }
   ],
   "source": [
    "gpc, EPI =  simulation()"
   ]
  },
  {
   "cell_type": "code",
   "execution_count": 247,
   "metadata": {
    "collapsed": true
   },
   "outputs": [],
   "source": [
    "EPI = np.array(EPI)\n",
    "gpc = np.array(gpc)\n",
    "frag1_index = np.where(EPI < 70)\n",
    "frag2_index = np.where(EPI < 50)"
   ]
  },
  {
   "cell_type": "code",
   "execution_count": 248,
   "metadata": {},
   "outputs": [
    {
     "name": "stdout",
     "output_type": "stream",
     "text": [
      "(array([  1,   3,   5,   7,   9,  11,  13,  15,  17,  19,  21,  23,  25,\n",
      "        27,  29,  31,  33,  35,  37,  39,  41,  43,  45,  47,  49,  51,\n",
      "        53,  55,  57,  59,  61,  63,  65,  67,  69,  71,  73,  75,  77,\n",
      "        79,  81,  83,  85,  87,  89,  91,  93,  95,  97,  99, 101, 103,\n",
      "       105, 107, 109, 111, 113, 115, 117, 119, 121, 123, 125, 127, 129,\n",
      "       131, 133, 135, 137, 139, 141, 143, 145, 147, 149, 151, 153, 155,\n",
      "       157, 159, 161, 163, 165, 167, 169, 171, 173, 175, 177, 179, 181,\n",
      "       183, 185, 187, 189, 191, 193, 195, 197, 199], dtype=int64),) (array([  1,   3,   5,   7,   9,  11,  13,  15,  17,  19,  21,  23,  25,\n",
      "        27,  29,  31,  33,  35,  37,  39,  41,  43,  45,  47,  49,  51,\n",
      "        53,  55,  57,  59,  61,  63,  65,  67,  69,  71,  73,  75,  77,\n",
      "        79,  81,  83,  85,  87,  89,  91,  93,  95,  97,  99, 101, 103,\n",
      "       105, 107, 109, 111, 113, 115, 117, 119, 121, 123, 125, 127, 129,\n",
      "       131, 133, 135, 137, 139, 141, 143, 145, 147, 149, 151, 153, 155,\n",
      "       157, 159, 161, 163, 165, 167, 169, 171, 173, 175, 177, 179, 181,\n",
      "       183, 185, 187, 189, 191, 193, 195, 197, 199], dtype=int64),)\n"
     ]
    }
   ],
   "source": [
    "print(frag1_index, frag2_index)"
   ]
  },
  {
   "cell_type": "code",
   "execution_count": 249,
   "metadata": {},
   "outputs": [
    {
     "name": "stdout",
     "output_type": "stream",
     "text": [
      "[  9.84459114e+01   3.42544145e+01   1.16778267e+02   1.31590587e+01\n",
      "   1.34369447e+02  -3.12694629e+00   1.52525264e+02  -3.63131453e+01\n",
      "   1.98682049e+02  -1.00144159e+02   2.74440823e+02  -1.86277336e+02\n",
      "   3.60943648e+02  -2.88100152e+02   4.85211880e+02  -4.53943902e+02\n",
      "   7.00319302e+02  -7.30109184e+02   1.02699049e+03  -1.11365744e+03\n",
      "   1.46792105e+03  -1.64212300e+03   2.11311423e+03  -2.45711136e+03\n",
      "   3.12814176e+03  -3.71059416e+03   4.63642827e+03  -5.51733797e+03\n",
      "   6.78953495e+03  -8.12567218e+03   9.97457562e+03  -1.20522965e+04\n",
      "   1.47928293e+04  -1.79405201e+04   2.19203556e+04  -2.65542216e+04\n",
      "   3.23262033e+04  -3.91977215e+04   4.77367390e+04  -5.80378405e+04\n",
      "   7.07265795e+04  -8.60355498e+04   1.04712862e+05  -1.27269505e+05\n",
      "   1.54750768e+05  -1.88120521e+05   2.28842307e+05  -2.78412378e+05\n",
      "   3.38793947e+05  -4.12190294e+05   5.01379683e+05  -6.09756683e+05\n",
      "   7.41503573e+05  -9.01833981e+05   1.09693658e+06  -1.33447105e+06\n",
      "   1.62338613e+06  -1.97484895e+06   2.40205202e+06  -2.92163257e+06\n",
      "   3.55338780e+06  -4.32211846e+06   5.25722142e+06  -6.39513220e+06\n",
      "   7.77909309e+06  -9.46261944e+06   1.15097645e+07  -1.39998389e+07\n",
      "   1.70282217e+07  -2.07124538e+07   2.51938766e+07  -3.06458014e+07\n",
      "   3.72769748e+07  -4.53430927e+07   5.51532830e+07  -6.70860990e+07\n",
      "   8.16000506e+07  -9.92554656e+07   1.20731060e+08  -1.46854696e+08\n",
      "   1.78629919e+08  -2.17280384e+08   2.64291517e+08  -3.21474309e+08\n",
      "   3.91028516e+08  -4.75633915e+08   5.78545504e+08  -7.03725987e+08\n",
      "   8.55990099e+08  -1.04119896e+09   1.26647748e+09  -1.54049867e+09\n",
      "   1.87380758e+09  -2.27923681e+09   2.77238839e+09  -3.37224490e+09\n",
      "   4.10188808e+09  -4.98940077e+09   6.06893597e+09  -7.38204622e+09\n",
      "   8.97926814e+09  -1.09220813e+10   1.32852563e+10  -1.61597484e+10\n",
      "   1.96561804e+10  -2.39091205e+10   2.90822453e+10  -3.53746605e+10\n",
      "   4.30285425e+10  -5.23384782e+10   6.36627766e+10  -7.74372810e+10\n",
      "   9.41921191e+10  -1.14572137e+11   1.39361692e+11  -1.69514876e+11\n",
      "   2.06192198e+11  -2.50805282e+11   3.05071149e+11  -3.71078342e+11\n",
      "   4.51367264e+11  -5.49028006e+11   6.67819233e+11  -8.12312900e+11\n",
      "   9.88070156e+11  -1.20185542e+12   1.46189667e+12  -1.77820213e+12\n",
      "   2.16294547e+12  -2.63093434e+12   3.20018028e+12  -3.89259195e+12\n",
      "   4.73481831e+12  -5.75927427e+12   7.00538819e+12  -8.52111939e+12\n",
      "   1.03648040e+13  -1.26074000e+13   1.53352186e+13  -1.86532456e+13\n",
      "   2.26891826e+13  -2.75983610e+13   3.35697211e+13  -4.08330834e+13\n",
      "   4.96679936e+13  -6.04144821e+13   7.34861503e+13  -8.93860893e+13\n",
      "   1.08726242e+14  -1.32250956e+14   1.60865629e+14  -1.95671557e+14\n",
      "   2.38008322e+14  -2.89505343e+14   3.52144592e+14  -4.28336875e+14\n",
      "   5.21014614e+14  -6.33744708e+14   7.70865816e+14  -9.37655333e+14\n",
      "   1.14053251e+15  -1.38730551e+15   1.68747190e+15  -2.05258425e+15\n",
      "   2.49669466e+15  -3.03689568e+15   3.69397808e+15  -4.49323109e+15\n",
      "   5.46541565e+15  -6.64794835e+15   8.08634148e+15  -9.83595467e+15\n",
      "   1.19641255e+16  -1.45527611e+16   1.77014907e+16  -2.15314998e+16\n",
      "   2.61901944e+16  -3.18568744e+16   3.87496339e+16  -4.71337555e+16\n",
      "   5.73319199e+16  -6.97366252e+16   8.48252928e+16  -1.03178642e+17\n",
      "   1.25503041e+17  -1.52657691e+17   1.85687697e+17  -2.25864289e+17\n",
      "   2.74733749e+17  -3.34176921e+17   4.06481602e+17  -4.94430592e+17\n",
      "   6.01408796e+17  -7.31533495e+17   8.89812817e+17  -1.08233848e+18\n",
      "   1.31652023e+18  -1.60137107e+18   1.94785408e+18  -2.36930440e+18]\n"
     ]
    }
   ],
   "source": [
    "print(EPI)"
   ]
  },
  {
   "cell_type": "code",
   "execution_count": 254,
   "metadata": {},
   "outputs": [
    {
     "data": {
      "text/plain": [
       "<matplotlib.collections.PathCollection at 0x292be831828>"
      ]
     },
     "execution_count": 254,
     "metadata": {},
     "output_type": "execute_result"
    }
   ],
   "source": [
    "x = range(10)\n",
    "plt.scatter(x, EPI[0:10])"
   ]
  },
  {
   "cell_type": "code",
   "execution_count": 255,
   "metadata": {},
   "outputs": [
    {
     "data": {
      "image/png": "[encoded data removed]",
      "text/plain": [
       "<matplotlib.figure.Figure at 0x292be7d4518>"
      ]
     },
     "metadata": {},
     "output_type": "display_data"
    }
   ],
   "source": [
    "plt.show()"
   ]
  },
  {
   "cell_type": "code",
   "execution_count": null,
   "metadata": {
    "collapsed": true
   },
   "outputs": [],
   "source": []
  }
 ],
 "metadata": {
  "kernelspec": {
   "display_name": "Python 3",
   "language": "python",
   "name": "python3"
  },
  "language_info": {
   "codemirror_mode": {
    "name": "ipython",
    "version": 3
   },
   "file_extension": ".py",
   "mimetype": "text/x-python",
   "name": "python",
   "nbconvert_exporter": "python",
   "pygments_lexer": "ipython3",
   "version": "3.6.3"
  }
 },
 "nbformat": 4,
 "nbformat_minor": 2
}
