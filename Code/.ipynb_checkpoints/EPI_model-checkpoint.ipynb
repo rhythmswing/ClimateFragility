{
 "cells": [
  {
   "cell_type": "code",
   "execution_count": 798,
   "metadata": {
    "collapsed": true
   },
   "outputs": [],
   "source": [
    "import pandas as pd\n",
    "import numpy as np\n",
    "import matplotlib.pyplot as plt"
   ]
  },
  {
   "cell_type": "code",
   "execution_count": 799,
   "metadata": {},
   "outputs": [
    {
     "data": {
      "text/html": [
       "<div>\n",
       "<style>\n",
       "    .dataframe thead tr:only-child th {\n",
       "        text-align: right;\n",
       "    }\n",
       "\n",
       "    .dataframe thead th {\n",
       "        text-align: left;\n",
       "    }\n",
       "\n",
       "    .dataframe tbody tr th {\n",
       "        vertical-align: top;\n",
       "    }\n",
       "</style>\n",
       "<table border=\"1\" class=\"dataframe\">\n",
       "  <thead>\n",
       "    <tr style=\"text-align: right;\">\n",
       "      <th></th>\n",
       "      <th>Unnamed: 0</th>\n",
       "      <th>agr</th>\n",
       "      <th>gdp</th>\n",
       "      <th>gpc</th>\n",
       "      <th>gpc_growth</th>\n",
       "      <th>gdp_growth</th>\n",
       "      <th>gdpp</th>\n",
       "      <th>gpcp</th>\n",
       "      <th>ind</th>\n",
       "      <th>ser</th>\n",
       "      <th>ser_growth</th>\n",
       "      <th>ind_growth</th>\n",
       "      <th>agr_growth</th>\n",
       "      <th>EPI_P</th>\n",
       "      <th>EPI</th>\n",
       "    </tr>\n",
       "  </thead>\n",
       "  <tbody>\n",
       "    <tr>\n",
       "      <th>0</th>\n",
       "      <td>11</td>\n",
       "      <td>10.282997</td>\n",
       "      <td>3.550000e+12</td>\n",
       "      <td>2695.365917</td>\n",
       "      <td>13.636345</td>\n",
       "      <td>14.231388</td>\n",
       "      <td>9.050000e+12</td>\n",
       "      <td>6863.981755</td>\n",
       "      <td>46.861034</td>\n",
       "      <td>42.855969</td>\n",
       "      <td>16.069748</td>\n",
       "      <td>15.050808</td>\n",
       "      <td>3.514837</td>\n",
       "      <td>64.24</td>\n",
       "      <td>64.24</td>\n",
       "    </tr>\n",
       "    <tr>\n",
       "      <th>1</th>\n",
       "      <td>12</td>\n",
       "      <td>10.250899</td>\n",
       "      <td>4.600000e+12</td>\n",
       "      <td>3471.248054</td>\n",
       "      <td>9.093872</td>\n",
       "      <td>9.654289</td>\n",
       "      <td>1.010000e+13</td>\n",
       "      <td>7635.072611</td>\n",
       "      <td>46.932478</td>\n",
       "      <td>42.816623</td>\n",
       "      <td>10.477871</td>\n",
       "      <td>9.839143</td>\n",
       "      <td>5.176733</td>\n",
       "      <td>64.24</td>\n",
       "      <td>64.20</td>\n",
       "    </tr>\n",
       "  </tbody>\n",
       "</table>\n",
       "</div>"
      ],
      "text/plain": [
       "   Unnamed: 0        agr           gdp          gpc  gpc_growth  gdp_growth  \\\n",
       "0          11  10.282997  3.550000e+12  2695.365917   13.636345   14.231388   \n",
       "1          12  10.250899  4.600000e+12  3471.248054    9.093872    9.654289   \n",
       "\n",
       "           gdpp         gpcp        ind        ser  ser_growth  ind_growth  \\\n",
       "0  9.050000e+12  6863.981755  46.861034  42.855969   16.069748   15.050808   \n",
       "1  1.010000e+13  7635.072611  46.932478  42.816623   10.477871    9.839143   \n",
       "\n",
       "   agr_growth  EPI_P    EPI  \n",
       "0    3.514837  64.24  64.24  \n",
       "1    5.176733  64.24  64.20  "
      ]
     },
     "execution_count": 799,
     "metadata": {},
     "output_type": "execute_result"
    }
   ],
   "source": [
    "data = pd.read_csv('epi_hist.csv')\n",
    "data.head(2)"
   ]
  },
  {
   "cell_type": "code",
   "execution_count": 800,
   "metadata": {
    "collapsed": true
   },
   "outputs": [],
   "source": [
    "beta_epi = 0.9\n",
    "beta_gdp = 0.9\n",
    "K_EPI = 120"
   ]
  },
  {
   "cell_type": "code",
   "execution_count": 801,
   "metadata": {},
   "outputs": [],
   "source": [
    "#economics = ['gdp','gdp_growth','gpc','gpc_growth']\n",
    "economics = ['gdp','gdp_growth']\n",
    "data = data[np.concatenate((economics,['EPI_P','EPI']))]\n",
    "metadata = {idx:{'mean':float('nan'), 'std':float('nan')} for idx in data.columns}"
   ]
  },
  {
   "cell_type": "code",
   "execution_count": 802,
   "metadata": {},
   "outputs": [],
   "source": [
    "for c in data.columns:\n",
    "    metadata[c]['mean'] = np.mean(data[c])\n",
    "    metadata[c]['std'] = np.std(data[c])"
   ]
  },
  {
   "cell_type": "code",
   "execution_count": 803,
   "metadata": {},
   "outputs": [
    {
     "data": {
      "text/plain": [
       "{'EPI': {'mean': 65.13, 'std': 0.7152761704404813},\n",
       " 'EPI_P': {'mean': 65.044, 'std': 0.7637695987665399},\n",
       " 'gdp': {'mean': 7790000000000.0, 'std': 2684663852328.63},\n",
       " 'gdp_growth': {'mean': 8.995919197800001, 'std': 2.154477149057917}}"
      ]
     },
     "execution_count": 803,
     "metadata": {},
     "output_type": "execute_result"
    }
   ],
   "source": [
    "metadata"
   ]
  },
  {
   "cell_type": "code",
   "execution_count": 804,
   "metadata": {},
   "outputs": [
    {
     "data": {
      "text/html": [
       "<div>\n",
       "<style>\n",
       "    .dataframe thead tr:only-child th {\n",
       "        text-align: right;\n",
       "    }\n",
       "\n",
       "    .dataframe thead th {\n",
       "        text-align: left;\n",
       "    }\n",
       "\n",
       "    .dataframe tbody tr th {\n",
       "        vertical-align: top;\n",
       "    }\n",
       "</style>\n",
       "<table border=\"1\" class=\"dataframe\">\n",
       "  <thead>\n",
       "    <tr style=\"text-align: right;\">\n",
       "      <th></th>\n",
       "      <th>gdp</th>\n",
       "      <th>gdp_growth</th>\n",
       "      <th>EPI_P</th>\n",
       "      <th>EPI</th>\n",
       "      <th>gdp_scaled</th>\n",
       "      <th>gdp_growth_scaled</th>\n",
       "      <th>EPI_P_scaled</th>\n",
       "      <th>EPI_scaled</th>\n",
       "    </tr>\n",
       "  </thead>\n",
       "  <tbody>\n",
       "    <tr>\n",
       "      <th>0</th>\n",
       "      <td>3.550000e+12</td>\n",
       "      <td>14.231388</td>\n",
       "      <td>64.24</td>\n",
       "      <td>64.24</td>\n",
       "      <td>-1.579341</td>\n",
       "      <td>2.430041</td>\n",
       "      <td>-1.052673</td>\n",
       "      <td>-1.244275</td>\n",
       "    </tr>\n",
       "    <tr>\n",
       "      <th>1</th>\n",
       "      <td>4.600000e+12</td>\n",
       "      <td>9.654289</td>\n",
       "      <td>64.24</td>\n",
       "      <td>64.20</td>\n",
       "      <td>-1.188231</td>\n",
       "      <td>0.305582</td>\n",
       "      <td>-1.052673</td>\n",
       "      <td>-1.300197</td>\n",
       "    </tr>\n",
       "  </tbody>\n",
       "</table>\n",
       "</div>"
      ],
      "text/plain": [
       "            gdp  gdp_growth  EPI_P    EPI  gdp_scaled  gdp_growth_scaled  \\\n",
       "0  3.550000e+12   14.231388  64.24  64.24   -1.579341           2.430041   \n",
       "1  4.600000e+12    9.654289  64.24  64.20   -1.188231           0.305582   \n",
       "\n",
       "   EPI_P_scaled  EPI_scaled  \n",
       "0     -1.052673   -1.244275  \n",
       "1     -1.052673   -1.300197  "
      ]
     },
     "execution_count": 804,
     "metadata": {},
     "output_type": "execute_result"
    }
   ],
   "source": [
    "for c in data.columns:\n",
    "    scaled = (data[c]-metadata[c]['mean']) / (metadata[c]['std'])\n",
    "    #scaled = data[c]\n",
    "    data[c+'_scaled'] = scaled\n",
    "data.head(2)"
   ]
  },
  {
   "cell_type": "code",
   "execution_count": 805,
   "metadata": {},
   "outputs": [
    {
     "data": {
      "text/html": [
       "<div>\n",
       "<style>\n",
       "    .dataframe thead tr:only-child th {\n",
       "        text-align: right;\n",
       "    }\n",
       "\n",
       "    .dataframe thead th {\n",
       "        text-align: left;\n",
       "    }\n",
       "\n",
       "    .dataframe tbody tr th {\n",
       "        vertical-align: top;\n",
       "    }\n",
       "</style>\n",
       "<table border=\"1\" class=\"dataframe\">\n",
       "  <thead>\n",
       "    <tr style=\"text-align: right;\">\n",
       "      <th></th>\n",
       "      <th>gdp</th>\n",
       "      <th>gdp_growth</th>\n",
       "      <th>EPI_P</th>\n",
       "      <th>EPI</th>\n",
       "      <th>gdp_scaled</th>\n",
       "      <th>gdp_growth_scaled</th>\n",
       "      <th>EPI_P_scaled</th>\n",
       "      <th>EPI_scaled</th>\n",
       "      <th>gdp_sigmoid</th>\n",
       "      <th>gdp_growth_sigmoid</th>\n",
       "    </tr>\n",
       "  </thead>\n",
       "  <tbody>\n",
       "    <tr>\n",
       "      <th>0</th>\n",
       "      <td>3.550000e+12</td>\n",
       "      <td>14.231388</td>\n",
       "      <td>64.24</td>\n",
       "      <td>64.24</td>\n",
       "      <td>-1.579341</td>\n",
       "      <td>2.430041</td>\n",
       "      <td>-1.052673</td>\n",
       "      <td>-1.244275</td>\n",
       "      <td>28.897969</td>\n",
       "      <td>14.231388</td>\n",
       "    </tr>\n",
       "    <tr>\n",
       "      <th>1</th>\n",
       "      <td>4.600000e+12</td>\n",
       "      <td>9.654289</td>\n",
       "      <td>64.24</td>\n",
       "      <td>64.20</td>\n",
       "      <td>-1.188231</td>\n",
       "      <td>0.305582</td>\n",
       "      <td>-1.052673</td>\n",
       "      <td>-1.300197</td>\n",
       "      <td>29.157077</td>\n",
       "      <td>9.654289</td>\n",
       "    </tr>\n",
       "  </tbody>\n",
       "</table>\n",
       "</div>"
      ],
      "text/plain": [
       "            gdp  gdp_growth  EPI_P    EPI  gdp_scaled  gdp_growth_scaled  \\\n",
       "0  3.550000e+12   14.231388  64.24  64.24   -1.579341           2.430041   \n",
       "1  4.600000e+12    9.654289  64.24  64.20   -1.188231           0.305582   \n",
       "\n",
       "   EPI_P_scaled  EPI_scaled  gdp_sigmoid  gdp_growth_sigmoid  \n",
       "0     -1.052673   -1.244275    28.897969           14.231388  \n",
       "1     -1.052673   -1.300197    29.157077            9.654289  "
      ]
     },
     "execution_count": 805,
     "metadata": {},
     "output_type": "execute_result"
    }
   ],
   "source": [
    "for c in economics:\n",
    "    sig = np.log(1+data[c])\n",
    "    if c=='gdp':\n",
    "        data[c+'_sigmoid'] = sig\n",
    "    else:\n",
    "         data[c+'_sigmoid'] = data[c]\n",
    "data.head(2)"
   ]
  },
  {
   "cell_type": "code",
   "execution_count": 806,
   "metadata": {},
   "outputs": [],
   "source": [
    "for c in economics:\n",
    "    cross = data[c+'_scaled']*data['EPI_P_scaled']\n",
    "    data[c+'_cross'] = cross"
   ]
  },
  {
   "cell_type": "code",
   "execution_count": 807,
   "metadata": {},
   "outputs": [
    {
     "data": {
      "text/html": [
       "<div>\n",
       "<style>\n",
       "    .dataframe thead tr:only-child th {\n",
       "        text-align: right;\n",
       "    }\n",
       "\n",
       "    .dataframe thead th {\n",
       "        text-align: left;\n",
       "    }\n",
       "\n",
       "    .dataframe tbody tr th {\n",
       "        vertical-align: top;\n",
       "    }\n",
       "</style>\n",
       "<table border=\"1\" class=\"dataframe\">\n",
       "  <thead>\n",
       "    <tr style=\"text-align: right;\">\n",
       "      <th></th>\n",
       "      <th>gdp_sigmoid</th>\n",
       "      <th>gdp_growth</th>\n",
       "      <th>gdp_cross</th>\n",
       "      <th>gdp_growth_cross</th>\n",
       "      <th>EPI_P</th>\n",
       "    </tr>\n",
       "  </thead>\n",
       "  <tbody>\n",
       "    <tr>\n",
       "      <th>0</th>\n",
       "      <td>28.897969</td>\n",
       "      <td>14.231388</td>\n",
       "      <td>1.662531</td>\n",
       "      <td>-2.558040</td>\n",
       "      <td>64.24</td>\n",
       "    </tr>\n",
       "    <tr>\n",
       "      <th>1</th>\n",
       "      <td>29.157077</td>\n",
       "      <td>9.654289</td>\n",
       "      <td>1.250819</td>\n",
       "      <td>-0.321678</td>\n",
       "      <td>64.24</td>\n",
       "    </tr>\n",
       "  </tbody>\n",
       "</table>\n",
       "</div>"
      ],
      "text/plain": [
       "   gdp_sigmoid  gdp_growth  gdp_cross  gdp_growth_cross  EPI_P\n",
       "0    28.897969   14.231388   1.662531         -2.558040  64.24\n",
       "1    29.157077    9.654289   1.250819         -0.321678  64.24"
      ]
     },
     "execution_count": 807,
     "metadata": {},
     "output_type": "execute_result"
    }
   ],
   "source": [
    "vars_to_use = ['gdp_sigmoid','gdp_growth','gdp_cross','gdp_growth_cross','EPI_P']\n",
    "#vars_to_use = ['gdp_sigmoid','gdp_growth','gdp_cross','EPI_P']\n",
    "#data_sigmoid = data[np.concatenate(([c+'_sigmoid' for c in economics],['EPI_P']))]\n",
    "data_sigmoid = data[vars_to_use]\n",
    "data_sigmoid.head(2)"
   ]
  },
  {
   "cell_type": "code",
   "execution_count": 808,
   "metadata": {},
   "outputs": [
    {
     "data": {
      "image/png": "[encoded data removed]",
      "text/plain": [
       "<matplotlib.figure.Figure at 0x1a9c25c58d0>"
      ]
     },
     "metadata": {},
     "output_type": "display_data"
    }
   ],
   "source": [
    "from sklearn.linear_model import LinearRegression\n",
    "lin_mod = LinearRegression()\n",
    "\n",
    "lin_mod.fit(data_sigmoid, Y)\n",
    "pred = lin_mod.predict(data_sigmoid)\n",
    "plt.plot(pred,Y,'ro')\n",
    "plt.show()"
   ]
  },
  {
   "cell_type": "code",
   "execution_count": 809,
   "metadata": {},
   "outputs": [
    {
     "data": {
      "text/plain": [
       "0.93810080554841901"
      ]
     },
     "execution_count": 809,
     "metadata": {},
     "output_type": "execute_result"
    }
   ],
   "source": [
    "lin_mod.score(data_sigmoid, Y)"
   ]
  },
  {
   "cell_type": "code",
   "execution_count": 810,
   "metadata": {},
   "outputs": [],
   "source": [
    "def gdp_growth_next(gdp_growth_last,last_noise):\n",
    "    return gdp_growth / (1+np.exp(-gdp_growth)) + np.random.randn()\n",
    "    #return gdp_growth + np.random.randn()\n",
    "    \n",
    "    #noise = np.random.randn()*1\n",
    "    #params = np.concatenate((gdp_growth_last, [noise]))\n",
    "    #coefs = [0.1964,0.2141,0.1927,0.1835,0.2061,0.1871]\n",
    "\n",
    "    #return np.sum([coefs[i]*params[i] for i in range(len(coefs))]), noise"
   ]
  },
  {
   "cell_type": "code",
   "execution_count": 811,
   "metadata": {},
   "outputs": [],
   "source": [
    "last = data.loc[data.index[-1],:]\n",
    "years_to = 50\n",
    "future = pd.DataFrame()\n",
    "future = future.append(last)\n",
    "\n",
    "last_noise = np.random.randn()\n",
    "last_gdp_growth_need = 5\n",
    "last_gdp_growth = list(data['gdp_growth'][:-last_gdp_growth_need])\n",
    "for idx in range(years_to):\n",
    "    nextyear = pd.Series(index=data.columns)\n",
    "    #nextyear['gdp_growth'] = gdp_growth_next(last['gdp_growth'])\n",
    "    nx_growth, cur_noise = gdp_growth_next(last_gdp_growth, last_noise)\n",
    "    #print(nx_growth)\n",
    "    nextyear['gdp_growth'] = nx_growth\n",
    "    last_noise = cur_noise\n",
    "    last_gdp_growth.append(nextyear['gdp_growth'])\n",
    "    last_gdp_growth = last_gdp_growth[1:]\n",
    "    nextyear['gdp'] = last['gdp'] * (100+last['gdp_growth']) / 100\n",
    "    \n",
    "    for c in metadata.keys():\n",
    "        #print(np.mean(np.array(data.append(future)[c])))\n",
    "        metadata[c]['mean'] = np.mean(np.array(data.append(future)[c]))\n",
    "        metadata[c]['std'] = np.std(np.array(data.append(future)[c]))\n",
    "    \n",
    "    #print(metadata)\n",
    "    for c in economics:\n",
    "        scaled = (nextyear[c]-metadata[c]['mean']) / (metadata[c]['std'])\n",
    "        #scaled = nextyear[c]\n",
    "        nextyear[c+'_scaled'] = scaled\n",
    "        \n",
    "    for c in economics:\n",
    "        if c=='gdp':\n",
    "            sig = np.log(1+nextyear[c])\n",
    "        else:\n",
    "            sig = nextyear[c]\n",
    "        nextyear[c+'_sigmoid'] = sig\n",
    "        \n",
    "    nextyear['EPI_P'] = last['EPI']\n",
    "    nextyear['EPI_P_scaled'] = (nextyear['EPI_P'] - metadata['EPI']['mean']) / metadata['EPI']['std']\n",
    "    #print(nextyear)\n",
    "    \n",
    "    for c in economics:\n",
    "        cross = nextyear[c+'_scaled']*nextyear['EPI_P_scaled']\n",
    "        nextyear[c+'_cross'] = cross\n",
    "        \n",
    "        \n",
    "    #next_sigmoid = nextyear[np.concatenate(([c+'_sigmoid' for c in economics],['EPI_P']))]\n",
    "    #print(next_sigmoid)\n",
    "    next_sigmoid = nextyear[vars_to_use]\n",
    "    next_sigmoid = np.array(next_sigmoid).reshape(1,-1)\n",
    "    #print(next_sigmoid)\n",
    "    EPI_pred = lin_mod.predict(next_sigmoid)\n",
    "    nextyear['EPI'] = EPI_pred\n",
    "    \n",
    "    future = future.append(nextyear,ignore_index=True)\n",
    "    last = future.loc[future.index[-1],:]"
   ]
  },
  {
   "cell_type": "code",
   "execution_count": 812,
   "metadata": {},
   "outputs": [
    {
     "data": {
      "image/png": "[encoded data removed]",
      "text/plain": [
       "<matplotlib.figure.Figure at 0x1a9c2a4f748>"
      ]
     },
     "metadata": {},
     "output_type": "display_data"
    }
   ],
   "source": [
    "plt.plot(future.EPI)\n",
    "plt.show()"
   ]
  },
  {
   "cell_type": "code",
   "execution_count": 813,
   "metadata": {},
   "outputs": [
    {
     "data": {
      "image/png": "[encoded data removed]",
      "text/plain": [
       "<matplotlib.figure.Figure at 0x1a9c2c57048>"
      ]
     },
     "metadata": {},
     "output_type": "display_data"
    }
   ],
   "source": [
    "plt.plot(future.gdp)\n",
    "plt.show()"
   ]
  },
  {
   "cell_type": "code",
   "execution_count": 814,
   "metadata": {},
   "outputs": [
    {
     "data": {
      "image/png": "[encoded data removed]",
      "text/plain": [
       "<matplotlib.figure.Figure at 0x1a9c28cae80>"
      ]
     },
     "metadata": {},
     "output_type": "display_data"
    }
   ],
   "source": [
    "plt.plot(future.gdp_growth)\n",
    "plt.show()"
   ]
  },
  {
   "cell_type": "code",
   "execution_count": null,
   "metadata": {
    "collapsed": true
   },
   "outputs": [],
   "source": []
  }
 ],
 "metadata": {
  "kernelspec": {
   "display_name": "Python 3",
   "language": "python",
   "name": "python3"
  },
  "language_info": {
   "codemirror_mode": {
    "name": "ipython",
    "version": 3
   },
   "file_extension": ".py",
   "mimetype": "text/x-python",
   "name": "python",
   "nbconvert_exporter": "python",
   "pygments_lexer": "ipython3",
   "version": "3.6.3"
  }
 },
 "nbformat": 4,
 "nbformat_minor": 2
}
