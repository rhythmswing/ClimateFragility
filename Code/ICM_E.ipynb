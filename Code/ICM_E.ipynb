{
 "cells": [
  {
   "cell_type": "code",
   "execution_count": 3,
   "metadata": {
    "collapsed": true
   },
   "outputs": [],
   "source": [
    "import csv\n",
    "import pandas as pd\n",
    "from sklearn.preprocessing import StandardScaler\n",
    "from sklearn.model_selection import train_test_split\n",
    "from sklearn.linear_model import LogisticRegression\n",
    "import numpy as np\n",
    "import matplotlib.pyplot as plt"
   ]
  },
  {
   "cell_type": "code",
   "execution_count": 4,
   "metadata": {
    "collapsed": true
   },
   "outputs": [],
   "source": [
    "def read_fsi():\n",
    "    csvFile = open(\"modified_fsi-2017.csv\", \"r\")\n",
    "    reader = csv.reader(csvFile)\n",
    "    attr_dic = {}\n",
    "    score_dic = {}\n",
    "    attributes = []\n",
    "    for item in reader:\n",
    "        # ignore the first line\n",
    "        if reader.line_num == 1:\n",
    "            attributes = item[4:]\n",
    "            continue\n",
    "        attr_dic[item[0]] = [float(i) for i in item[4:]]\n",
    "        score_dic[item[0]] = float(item[3])\n",
    "    csvFile.close()\n",
    "    return attr_dic, score_dic, attributes"
   ]
  },
  {
   "cell_type": "code",
   "execution_count": 5,
   "metadata": {
    "collapsed": true
   },
   "outputs": [],
   "source": [
    "def input_fsi():\n",
    "    attr_dic, score_dic, attributes = read_fsi()\n",
    "    for (idx, item) in enumerate(attr_dic):\n",
    "        if idx == 0:\n",
    "            attr = np.array(attr_dic[item])\n",
    "        new_attr = np.array(attr_dic[item])\n",
    "        attr = np.vstack((attr, new_attr))\n",
    "    for (idx, item) in enumerate(score_dic):\n",
    "        if idx == 0:\n",
    "            score = np.array(score_dic[item])\n",
    "        new_score = np.array(score_dic[item])\n",
    "        score = np.vstack((score, new_score))\n",
    "    return attr, score"
   ]
  },
  {
   "cell_type": "code",
   "execution_count": 6,
   "metadata": {
    "collapsed": true
   },
   "outputs": [],
   "source": [
    "def read_epi():\n",
    "    csvFile = open(\"modified_EPI.csv\", \"r\")\n",
    "    reader = csv.reader(csvFile)\n",
    "    attr_dic = {}\n",
    "    score_dic = {}\n",
    "    attributes = []\n",
    "    for item in reader:\n",
    "        # ignore the first line\n",
    "        if reader.line_num == 1:\n",
    "            attributes = item[3:10]\n",
    "            continue\n",
    "        attr_dic[item[2]] = [float(i) for i in item[3:10]]\n",
    "        score_dic[item[2]] = float(item[10])\n",
    "    csvFile.close()\n",
    "    return attr_dic, score_dic, attributes"
   ]
  },
  {
   "cell_type": "code",
   "execution_count": 7,
   "metadata": {
    "collapsed": true
   },
   "outputs": [],
   "source": [
    "def input_epi():\n",
    "    attr_dic, score_dic, attributes = read_epi()\n",
    "    for (idx, item) in enumerate(attr_dic):\n",
    "        if idx == 0:\n",
    "            attr = np.array(attr_dic[item])\n",
    "        new_attr = np.array(attr_dic[item])\n",
    "        attr = np.vstack((attr, new_attr))\n",
    "    for (idx, item) in enumerate(score_dic):\n",
    "        if idx == 0:\n",
    "            score = np.array(score_dic[item])\n",
    "        new_score = np.array(score_dic[item])\n",
    "        score = np.vstack((score, new_score))\n",
    "    return attr, score"
   ]
  },
  {
   "cell_type": "code",
   "execution_count": 8,
   "metadata": {
    "collapsed": true
   },
   "outputs": [],
   "source": [
    "attr, score = input_epi()"
   ]
  },
  {
   "cell_type": "code",
   "execution_count": 9,
   "metadata": {
    "collapsed": true
   },
   "outputs": [],
   "source": [
    "def share_country():\n",
    "    '''\n",
    "    Find shared countries of FSI and EPI data.\n",
    "    Return:\n",
    "        FSI_data -- FSI data sorted according to countries.\n",
    "        EPI_data -- EPI data sorted according to countries.\n",
    "    Note that these two dictionaries have the same number of countries.\n",
    "    And they also have the aligned attributes based on countries order.\n",
    "    '''\n",
    "    fsi_attrdic, fsi_scoredic, fsi_attributes = read_fsi()\n",
    "    epi_attrdic, epi_scoredic, epi_attributes = read_epi()\n",
    "    share_key = []\n",
    "    cnt = 0\n",
    "    # First, delete all keys and values in fsi but not in epi\n",
    "    for (idx, item) in enumerate(fsi_attrdic):\n",
    "        epi_key = list(epi_attrdic.keys())\n",
    "        if item in epi_key:\n",
    "            if cnt == 0:\n",
    "                fsi_attr = np.array(fsi_attrdic[item]).reshape(1,-1)\n",
    "                fsi_score = np.array(fsi_scoredic[item])\n",
    "                share_key.append(item)\n",
    "            else:\n",
    "                share_key.append(item)\n",
    "                fsi_attr = np.vstack((fsi_attr, fsi_attrdic[item]))\n",
    "                fsi_score = np.vstack((fsi_score, fsi_scoredic[item]))\n",
    "            cnt += 1\n",
    "    cnt = 0\n",
    "    # Second, delete all keys and values in epi but not in fsi\n",
    "    for (idx, item) in enumerate(epi_attrdic):\n",
    "        fsi_key = list(fsi_attrdic.keys())\n",
    "        if item in fsi_key:\n",
    "            if cnt == 0:\n",
    "                epi_attr = np.array(epi_attrdic[item]).reshape(1,-1)\n",
    "                epi_score = np.array(epi_scoredic[item])\n",
    "            else:\n",
    "                epi_attr = np.vstack((epi_attr, epi_attrdic[item]))\n",
    "                epi_score = np.vstack((epi_score, epi_scoredic[item]))\n",
    "            cnt += 1\n",
    "    df = pd.DataFrame(data = {'country': share_key,\n",
    "                              'FSI': fsi_score.ravel(),\n",
    "                              'EPI': epi_score.ravel(),\n",
    "                              fsi_attributes[0]: fsi_attr[:,0].ravel(),\n",
    "                              fsi_attributes[1]: fsi_attr[:,1].ravel(), \n",
    "                              fsi_attributes[2]: fsi_attr[:,2].ravel(),\n",
    "                              fsi_attributes[3]: fsi_attr[:,3].ravel(), \n",
    "                              fsi_attributes[4]: fsi_attr[:,4].ravel(),\n",
    "                              fsi_attributes[5]: fsi_attr[:,5].ravel(), \n",
    "                              fsi_attributes[6]: fsi_attr[:,6].ravel(),\n",
    "                              fsi_attributes[7]: fsi_attr[:,7].ravel(), \n",
    "                              fsi_attributes[8]: fsi_attr[:,8].ravel(),\n",
    "                              fsi_attributes[9]: fsi_attr[:,9].ravel(),\n",
    "                              fsi_attributes[10]: fsi_attr[:,10].ravel(), \n",
    "                              fsi_attributes[11]: fsi_attr[:,11].ravel(),\n",
    "                              epi_attributes[0]: epi_attr[:,0].ravel(),\n",
    "                              epi_attributes[1]: epi_attr[:,1].ravel(), \n",
    "                              epi_attributes[2]: epi_attr[:,2].ravel(),\n",
    "                              epi_attributes[3]: epi_attr[:,3].ravel(), \n",
    "                              epi_attributes[4]: epi_attr[:,4].ravel(),\n",
    "                              epi_attributes[5]: epi_attr[:,5].ravel(), \n",
    "                              epi_attributes[6]: epi_attr[:,6].ravel()})\n",
    "    df.to_csv('share_data1.csv')\n",
    "    return share_key, fsi_attr, epi_attr"
   ]
  },
  {
   "cell_type": "code",
   "execution_count": 10,
   "metadata": {
    "collapsed": true
   },
   "outputs": [],
   "source": [
    "country, fsi_attr, epi_attr = share_country()"
   ]
  },
  {
   "cell_type": "code",
   "execution_count": 11,
   "metadata": {
    "collapsed": true
   },
   "outputs": [],
   "source": [
    "def input_result():\n",
    "    csvFile = open(\"share_data.csv\", \"r\")\n",
    "    reader = csv.reader(csvFile)\n",
    "    fsi_dic = {}\n",
    "    epi_dic = {}\n",
    "    fsi = []\n",
    "    epi = []\n",
    "    for item in reader:\n",
    "        # ignore the first line\n",
    "        if reader.line_num == 1:\n",
    "            continue\n",
    "        fsi_dic[item[1]] = float(item[2])\n",
    "        epi_dic[item[1]] = float(item[3])\n",
    "        fsi.append(float(item[2]))\n",
    "        epi.append(float(item[3]))\n",
    "    csvFile.close()\n",
    "    return fsi, epi"
   ]
  },
  {
   "cell_type": "code",
   "execution_count": 12,
   "metadata": {
    "collapsed": true
   },
   "outputs": [],
   "source": [
    "fsi, epi = input_result()"
   ]
  },
  {
   "cell_type": "code",
   "execution_count": 13,
   "metadata": {},
   "outputs": [
    {
     "data": {
      "text/plain": [
       "<matplotlib.collections.PathCollection at 0x20ed11f28d0>"
      ]
     },
     "execution_count": 13,
     "metadata": {},
     "output_type": "execute_result"
    }
   ],
   "source": [
    "plt.scatter(fsi, epi)"
   ]
  },
  {
   "cell_type": "code",
   "execution_count": 14,
   "metadata": {},
   "outputs": [
    {
     "data": {
      "image/png": "[encoded data removed]",
      "text/plain": [
       "<matplotlib.figure.Figure at 0x20ecd565630>"
      ]
     },
     "metadata": {},
     "output_type": "display_data"
    }
   ],
   "source": [
    "plt.show()"
   ]
  },
  {
   "cell_type": "code",
   "execution_count": 15,
   "metadata": {
    "collapsed": true
   },
   "outputs": [],
   "source": [
    "from sklearn.cluster import KMeans"
   ]
  },
  {
   "cell_type": "code",
   "execution_count": 16,
   "metadata": {
    "collapsed": true
   },
   "outputs": [],
   "source": [
    "def cluster(data, n_clusters):\n",
    "    '''\n",
    "    Cluster data into n_clusters categories.\n",
    "    Input:\n",
    "        data -- The input data to be clustered.\n",
    "        n_clusters -- The number of categories to be clustered.\n",
    "    Return:\n",
    "        label_pred -- The category array corresponding to every data.\n",
    "    '''\n",
    "    estimator = KMeans(n_clusters = n_clusters)\n",
    "    estimator.fit(data)\n",
    "    label_pred = estimator.labels_\n",
    "    print(label_pred)\n",
    "    return label_pred"
   ]
  },
  {
   "cell_type": "code",
   "execution_count": 17,
   "metadata": {
    "collapsed": true
   },
   "outputs": [],
   "source": [
    "FSI_data = np.array([fsi]).reshape([-1,1])\n",
    "EPI_data = np.array([epi]).reshape([-1,1])\n",
    "#FSI_label = cluster(FSI_data, 2)\n",
    "#EPI_label = cluster(EPI_data, 2)\n",
    "FSI_label = FSI_data > 80\n",
    "EPI_label = EPI_data < 50"
   ]
  },
  {
   "cell_type": "code",
   "execution_count": 18,
   "metadata": {
    "collapsed": true
   },
   "outputs": [],
   "source": [
    "#FSI_label = 1-FSI_label"
   ]
  },
  {
   "cell_type": "code",
   "execution_count": 19,
   "metadata": {},
   "outputs": [
    {
     "data": {
      "text/plain": [
       "<matplotlib.collections.PathCollection at 0x20ed17618d0>"
      ]
     },
     "execution_count": 19,
     "metadata": {},
     "output_type": "execute_result"
    }
   ],
   "source": [
    "plt.scatter(FSI_data[FSI_label == 1], EPI_data[FSI_label == 1], c = 'r')\n",
    "plt.scatter(FSI_data[FSI_label == 0], EPI_data[FSI_label == 0], c = 'b')"
   ]
  },
  {
   "cell_type": "code",
   "execution_count": 20,
   "metadata": {},
   "outputs": [
    {
     "data": {
      "image/png": "[encoded data removed]",
      "text/plain": [
       "<matplotlib.figure.Figure at 0x20ed16fdac8>"
      ]
     },
     "metadata": {},
     "output_type": "display_data"
    }
   ],
   "source": [
    "plt.show()"
   ]
  },
  {
   "cell_type": "code",
   "execution_count": 21,
   "metadata": {},
   "outputs": [
    {
     "data": {
      "text/plain": [
       "<matplotlib.collections.PathCollection at 0x20ed17cf0b8>"
      ]
     },
     "execution_count": 21,
     "metadata": {},
     "output_type": "execute_result"
    }
   ],
   "source": [
    "plt.scatter(FSI_data[EPI_label == 1], EPI_data[EPI_label == 1], c = 'r')\n",
    "plt.scatter(FSI_data[EPI_label == 0], EPI_data[EPI_label == 0], c = 'b')"
   ]
  },
  {
   "cell_type": "code",
   "execution_count": 22,
   "metadata": {},
   "outputs": [
    {
     "data": {
      "image/png": "[encoded data removed]",
      "text/plain": [
       "<matplotlib.figure.Figure at 0x20ed16fd588>"
      ]
     },
     "metadata": {},
     "output_type": "display_data"
    }
   ],
   "source": [
    "plt.show()"
   ]
  },
  {
   "cell_type": "code",
   "execution_count": 23,
   "metadata": {
    "collapsed": true
   },
   "outputs": [],
   "source": [
    "def find_bound(data, label, mode = 1):\n",
    "    '''\n",
    "    Find the boundary of clusters.\n",
    "    Input:\n",
    "        data -- The input data to be clustered.\n",
    "        label -- The label corresponding to the input data.\n",
    "        mode -- mode = 1 means we need to find the minimum bound of data with label = 1 while maximum bound for label = 0.\n",
    "                mode = 0 means we need to find the maximum bound of data with label = 0 while maximum bound for label = 1.\n",
    "    Return:\n",
    "        bound -- The boundary of 1-dim cluster.\n",
    "    '''\n",
    "    if mode:\n",
    "        label1_min = min(data[label == 1])\n",
    "        label0_max = max(data[label == 0])\n",
    "        bound = (label1_min+label0_max)/2\n",
    "    else:\n",
    "        label1_max = max(data[label == 1])\n",
    "        label0_min = min(data[label == 0])\n",
    "        bound = (label1_max+label0_min)/2\n",
    "    return bound"
   ]
  },
  {
   "cell_type": "code",
   "execution_count": 24,
   "metadata": {},
   "outputs": [
    {
     "data": {
      "text/plain": [
       "Text(0,0.5,'EPI')"
      ]
     },
     "execution_count": 24,
     "metadata": {},
     "output_type": "execute_result"
    }
   ],
   "source": [
    "FSI_bound = find_bound(FSI_data, FSI_label)\n",
    "EPI_bound = find_bound(EPI_data, EPI_label)\n",
    "plt.scatter(FSI_data[(FSI_label == 1) & (EPI_label == 1)], EPI_data[(FSI_label == 1) & (EPI_label == 1)], c = 'r')\n",
    "plt.scatter(FSI_data[(FSI_label == 1) & (EPI_label == 0)], EPI_data[(FSI_label == 1) & (EPI_label == 0)], c = 'b')\n",
    "plt.scatter(FSI_data[(FSI_label == 0) & (EPI_label == 1)], EPI_data[(FSI_label == 0) & (EPI_label == 1)], c = 'm')\n",
    "plt.scatter(FSI_data[(FSI_label == 0) & (EPI_label == 0)], EPI_data[(FSI_label == 0) & (EPI_label == 0)], c = 'y')\n",
    "FSI_bound_y = np.linspace(min(EPI_data), max(EPI_data), 1000)\n",
    "FSI_bound_x = np.full(FSI_bound_y.shape, FSI_bound)\n",
    "EPI_bound_x = np.linspace(min(FSI_data), max(FSI_data), 1000)\n",
    "EPI_bound_y = np.full(EPI_bound_x.shape, EPI_bound)\n",
    "plt.plot(FSI_bound_x, FSI_bound_y, c = 'k')\n",
    "plt.plot(EPI_bound_x, EPI_bound_y, c = 'k')\n",
    "plt.xlabel('FSI')\n",
    "plt.ylabel('EPI')"
   ]
  },
  {
   "cell_type": "code",
   "execution_count": 25,
   "metadata": {},
   "outputs": [
    {
     "data": {
      "image/png": "[encoded data removed]",
      "text/plain": [
       "<matplotlib.figure.Figure at 0x20ed1806a90>"
      ]
     },
     "metadata": {},
     "output_type": "display_data"
    }
   ],
   "source": [
    "plt.show()"
   ]
  },
  {
   "cell_type": "code",
   "execution_count": 26,
   "metadata": {
    "collapsed": true
   },
   "outputs": [],
   "source": [
    "def logistic_util(X, Y, test_size, random_state):\n",
    "    '''\n",
    "    Implement logistic regression with sklearn.\n",
    "    Input:\n",
    "        X -- The independent variables set.\n",
    "        Y -- The dependent variable/target set.\n",
    "        test_size -- Test size of the whole set.\n",
    "        random_state -- Param for train_test_split.\n",
    "    Output:\n",
    "        lr -- Logistic Regression Result.\n",
    "    '''\n",
    "    #X_train, X_test, Y_train, Y_test = train_test_split(X, Y, test_size = test_size, random_state = random_state)\n",
    "    #Y_train, Y_test = Y_train.ravel(), Y_test.ravel()\n",
    "    #print(X_train.shape, X_test.shape, Y_train.shape, Y_test.shape)\n",
    "    # Normalize the data\n",
    "    X_train=X\n",
    "    Y_train=Y.flatten()\n",
    "    sc = StandardScaler()\n",
    "    sc.fit(X_train)\n",
    "    X_train_std = np.array(list(sc.transform(X_train)))\n",
    "    #X_test_std = np.array(list(sc.transform(X_test)))\n",
    "    # Combine the train and test data\n",
    "    #X_combined_std = np.vstack((X_train_std, X_test_std))\n",
    "    #Y_combined = np.hstack((Y_train, Y_test))\n",
    "    # Implement logistic regression\n",
    "    lr = LogisticRegression(C = 0.01, random_state = 0)\n",
    "    lr.fit(X_train_std, Y_train)\n",
    "    #print(lr.predict_proba(X_test_std[2,:].reshape(1,-1))[0,0], Y_test[2])\n",
    "    #scores = cross_val_score(lr, X_combined_std, Y_combined, cv = 5, scoring = 'accuracy')\n",
    "    #print(scores)\n",
    "    return lr,X_train_std, Y# X_combined_std, Y_combined\n",
    "    '''\n",
    "    plot_decision_regions(X_combined_std, Y_combined, clf = lr, res = 0.02)\n",
    "    plt.xlabel('petal length')\n",
    "    plt.ylabel('petal width')\n",
    "    plt.legend(loc = 'upper left')\n",
    "    plt.show()\n",
    "    '''"
   ]
  },
  {
   "cell_type": "code",
   "execution_count": 27,
   "metadata": {},
   "outputs": [
    {
     "name": "stderr",
     "output_type": "stream",
     "text": [
      "C:\\Users\\rhythmswing\\Anaconda3\\lib\\site-packages\\sklearn\\cross_validation.py:41: DeprecationWarning: This module was deprecated in version 0.18 in favor of the model_selection module into which all the refactored classes and functions are moved. Also note that the interface of the new CV iterators are different from that of this module. This module will be removed in 0.20.\n",
      "  \"This module will be removed in 0.20.\", DeprecationWarning)\n"
     ]
    }
   ],
   "source": [
    "from sklearn.cross_validation import cross_val_score"
   ]
  },
  {
   "cell_type": "code",
   "execution_count": 28,
   "metadata": {
    "collapsed": true
   },
   "outputs": [],
   "source": [
    "lr1, fsi_attr_std, _ = logistic_util(fsi_attr, EPI_label, 0.1, 0)\n",
    "probE0_H = lr1.predict_proba(fsi_attr_std)[:,0]\n",
    "probE1_H = np.ones(probE0_H.shape)-probE0_H"
   ]
  },
  {
   "cell_type": "code",
   "execution_count": 29,
   "metadata": {
    "collapsed": true
   },
   "outputs": [],
   "source": [
    "lr2, fsi_attr_std, _ = logistic_util(fsi_attr, (EPI_label == 0) & (FSI_label == 1), 0.1, 0)\n",
    "prob_other = lr2.predict_proba(fsi_attr_std)[:,0]\n",
    "probE0F1_H = np.ones(prob_other.shape)-prob_other"
   ]
  },
  {
   "cell_type": "code",
   "execution_count": 30,
   "metadata": {
    "collapsed": true
   },
   "outputs": [],
   "source": [
    "lr3, fsi_attr_std, _ = logistic_util(fsi_attr, (EPI_label == 1) & (FSI_label == 1), 0.1, 0)\n",
    "prob_other = lr3.predict_proba(fsi_attr_std)[:,0]\n",
    "probE1F1_H = np.ones(prob_other.shape)-prob_other"
   ]
  },
  {
   "cell_type": "code",
   "execution_count": 31,
   "metadata": {},
   "outputs": [
    {
     "name": "stdout",
     "output_type": "stream",
     "text": [
      "(148,) (148,)\n"
     ]
    }
   ],
   "source": [
    "probF1_E0H = probE0F1_H / probE0_H\n",
    "probF1_E1H = probE1F1_H / probE1_H\n",
    "print(probF1_E0H.shape, probF1_E1H.shape)"
   ]
  },
  {
   "cell_type": "code",
   "execution_count": 32,
   "metadata": {},
   "outputs": [
    {
     "name": "stdout",
     "output_type": "stream",
     "text": [
      "0.312127275482 [False] 0.888897051004\n"
     ]
    }
   ],
   "source": [
    "fragile_value = []\n",
    "for i in range(len(fsi_attr_std)):\n",
    "    if EPI_label[i] == 1:\n",
    "        fragile_value.append(probF1_E1H[i])\n",
    "    else:\n",
    "        fragile_value.append(probF1_E0H[i])\n",
    "print(fragile_value[129], EPI_label[129], probF1_E1H[129])"
   ]
  },
  {
   "cell_type": "code",
   "execution_count": 33,
   "metadata": {
    "collapsed": true
   },
   "outputs": [],
   "source": [
    "fragile_value = np.array(fragile_value).reshape(-1,1)\n",
    "sc = StandardScaler()\n",
    "sc.fit(np.log(fragile_value))\n",
    "fragile_std = (255*(np.array(list(sc.transform(fragile_value)))+1)/2).astype(np.uint8)\n",
    "fragile_std = fragile_std.reshape(len(fragile_std))"
   ]
  },
  {
   "cell_type": "code",
   "execution_count": 34,
   "metadata": {
    "collapsed": true
   },
   "outputs": [],
   "source": [
    "import seaborn as sn\n",
    "pal = np.array(sn.color_palette(\"Blues\", 155))\n",
    "sorted_idx = sorted(range(len(fragile_value)), key=lambda k: fragile_value[k])\n",
    "color = pal[sorted_idx]"
   ]
  },
  {
   "cell_type": "code",
   "execution_count": 35,
   "metadata": {},
   "outputs": [
    {
     "data": {
      "text/plain": [
       "Text(0,0.5,'EPI')"
      ]
     },
     "execution_count": 35,
     "metadata": {},
     "output_type": "execute_result"
    }
   ],
   "source": [
    "FSI_bound = find_bound(FSI_data, FSI_label)\n",
    "EPI_bound = find_bound(EPI_data, EPI_label)\n",
    "plt.scatter(FSI_data[(FSI_label == 1) & (EPI_label == 1)], EPI_data[(FSI_label == 1) & (EPI_label == 1)], c = color, cmap = plt.cm.Blues)\n",
    "plt.scatter(FSI_data[(FSI_label == 1) & (EPI_label == 0)], EPI_data[(FSI_label == 1) & (EPI_label == 0)], c = color, cmap = plt.cm.Blues)\n",
    "plt.scatter(FSI_data[(FSI_label == 0) & (EPI_label == 1)], EPI_data[(FSI_label == 0) & (EPI_label == 1)], c = color, cmap = plt.cm.Blues)\n",
    "plt.scatter(FSI_data[(FSI_label == 0) & (EPI_label == 0)], EPI_data[(FSI_label == 0) & (EPI_label == 0)], c = color, cmap = plt.cm.Blues)\n",
    "FSI_bound_y = np.linspace(min(EPI_data), max(EPI_data), 1000)\n",
    "FSI_bound_x = np.full(FSI_bound_y.shape, FSI_bound)\n",
    "EPI_bound_x = np.linspace(min(FSI_data), max(FSI_data), 1000)\n",
    "EPI_bound_y = np.full(EPI_bound_x.shape, EPI_bound)\n",
    "plt.plot(FSI_bound_x, FSI_bound_y, c = 'k')\n",
    "plt.plot(EPI_bound_x, EPI_bound_y, c = 'k')\n",
    "plt.xlabel('FSI')\n",
    "plt.ylabel('EPI')"
   ]
  },
  {
   "cell_type": "code",
   "execution_count": 36,
   "metadata": {
    "scrolled": true
   },
   "outputs": [
    {
     "data": {
      "image/png": "[encoded data removed]",
      "text/plain": [
       "<matplotlib.figure.Figure at 0x20ed1bfc908>"
      ]
     },
     "metadata": {},
     "output_type": "display_data"
    }
   ],
   "source": [
    "plt.show()"
   ]
  },
  {
   "cell_type": "code",
   "execution_count": 37,
   "metadata": {},
   "outputs": [
    {
     "name": "stdout",
     "output_type": "stream",
     "text": [
      "(148,)\n",
      "['Central African Republic' \"Cote d'Ivoire\" 'Egypt' 'Guatemala' 'Lebanon'\n",
      " 'Nigeria' 'Philippines' 'Sri Lanka' 'Sudan' 'Tanzania' 'Zambia']\n"
     ]
    }
   ],
   "source": [
    "country = np.array(country)\n",
    "print(country.shape)\n",
    "print(country[fragile_value.reshape(len(country)) > 1.0])"
   ]
  },
  {
   "cell_type": "code",
   "execution_count": 38,
   "metadata": {
    "collapsed": true
   },
   "outputs": [],
   "source": [
    "df_fragile = pd.DataFrame(data={'country':country,'fragility':fragile_value.flatten()})"
   ]
  },
  {
   "cell_type": "code",
   "execution_count": 42,
   "metadata": {
    "collapsed": true,
    "scrolled": true
   },
   "outputs": [],
   "source": [
    "df_fragile['FSI']=FSI_data.flatten()\n",
    "df_fragile['EPI']=EPI_data.flatten()\n",
    "df_fragile['fragility_log']=np.log(1+df_fragile.fragility)"
   ]
  },
  {
   "cell_type": "code",
   "execution_count": 43,
   "metadata": {},
   "outputs": [
    {
     "data": {
      "image/png": "[encoded data removed]",
      "text/plain": [
       "<matplotlib.figure.Figure at 0x20ed1c4c630>"
      ]
     },
     "metadata": {},
     "output_type": "display_data"
    }
   ],
   "source": [
    "plt.scatter(df_fragile.EPI+df_fragile.FSI,df_fragile.fragility)\n",
    "plt.show()"
   ]
  },
  {
   "cell_type": "code",
   "execution_count": 44,
   "metadata": {},
   "outputs": [
    {
     "data": {
      "image/png": "[encoded data removed]",
      "text/plain": [
       "<matplotlib.figure.Figure at 0x20ed1da2f98>"
      ]
     },
     "metadata": {},
     "output_type": "display_data"
    }
   ],
   "source": [
    "plt.scatter(df_fragile.FSI, (df_fragile.fragility_log))\n",
    "plt.show()"
   ]
  },
  {
   "cell_type": "code",
   "execution_count": 45,
   "metadata": {},
   "outputs": [
    {
     "data": {
      "image/png": "[encoded data removed]",
      "text/plain": [
       "<matplotlib.figure.Figure at 0x20ed1e43a90>"
      ]
     },
     "metadata": {},
     "output_type": "display_data"
    }
   ],
   "source": [
    "plt.scatter(df_fragile.EPI, (df_fragile.fragility_log))\n",
    "plt.show()"
   ]
  },
  {
   "cell_type": "code",
   "execution_count": 46,
   "metadata": {},
   "outputs": [
    {
     "data": {
      "text/html": [
       "<div>\n",
       "<style>\n",
       "    .dataframe thead tr:only-child th {\n",
       "        text-align: right;\n",
       "    }\n",
       "\n",
       "    .dataframe thead th {\n",
       "        text-align: left;\n",
       "    }\n",
       "\n",
       "    .dataframe tbody tr th {\n",
       "        vertical-align: top;\n",
       "    }\n",
       "</style>\n",
       "<table border=\"1\" class=\"dataframe\">\n",
       "  <thead>\n",
       "    <tr style=\"text-align: right;\">\n",
       "      <th></th>\n",
       "      <th>country</th>\n",
       "      <th>fragility</th>\n",
       "      <th>FSI</th>\n",
       "      <th>EPI</th>\n",
       "      <th>fragility_log</th>\n",
       "    </tr>\n",
       "  </thead>\n",
       "  <tbody>\n",
       "    <tr>\n",
       "      <th>0</th>\n",
       "      <td>Afghanistan</td>\n",
       "      <td>0.989551</td>\n",
       "      <td>107.3</td>\n",
       "      <td>37.74</td>\n",
       "      <td>0.687909</td>\n",
       "    </tr>\n",
       "    <tr>\n",
       "      <th>1</th>\n",
       "      <td>Albania</td>\n",
       "      <td>0.586099</td>\n",
       "      <td>60.5</td>\n",
       "      <td>65.46</td>\n",
       "      <td>0.461278</td>\n",
       "    </tr>\n",
       "    <tr>\n",
       "      <th>2</th>\n",
       "      <td>Algeria</td>\n",
       "      <td>0.883318</td>\n",
       "      <td>76.8</td>\n",
       "      <td>57.18</td>\n",
       "      <td>0.633035</td>\n",
       "    </tr>\n",
       "    <tr>\n",
       "      <th>3</th>\n",
       "      <td>Angola</td>\n",
       "      <td>0.964826</td>\n",
       "      <td>91.1</td>\n",
       "      <td>37.44</td>\n",
       "      <td>0.675404</td>\n",
       "    </tr>\n",
       "    <tr>\n",
       "      <th>4</th>\n",
       "      <td>Argentina</td>\n",
       "      <td>0.463124</td>\n",
       "      <td>48.2</td>\n",
       "      <td>59.30</td>\n",
       "      <td>0.380574</td>\n",
       "    </tr>\n",
       "    <tr>\n",
       "      <th>5</th>\n",
       "      <td>Armenia</td>\n",
       "      <td>0.729100</td>\n",
       "      <td>71.0</td>\n",
       "      <td>62.07</td>\n",
       "      <td>0.547601</td>\n",
       "    </tr>\n",
       "    <tr>\n",
       "      <th>6</th>\n",
       "      <td>Australia</td>\n",
       "      <td>0.319031</td>\n",
       "      <td>22.3</td>\n",
       "      <td>74.12</td>\n",
       "      <td>0.276897</td>\n",
       "    </tr>\n",
       "    <tr>\n",
       "      <th>7</th>\n",
       "      <td>Austria</td>\n",
       "      <td>0.353223</td>\n",
       "      <td>27.7</td>\n",
       "      <td>78.97</td>\n",
       "      <td>0.302489</td>\n",
       "    </tr>\n",
       "    <tr>\n",
       "      <th>8</th>\n",
       "      <td>Azerbaijan</td>\n",
       "      <td>0.816384</td>\n",
       "      <td>76.3</td>\n",
       "      <td>62.33</td>\n",
       "      <td>0.596848</td>\n",
       "    </tr>\n",
       "    <tr>\n",
       "      <th>9</th>\n",
       "      <td>Bahrain</td>\n",
       "      <td>0.597213</td>\n",
       "      <td>64.9</td>\n",
       "      <td>55.15</td>\n",
       "      <td>0.468260</td>\n",
       "    </tr>\n",
       "    <tr>\n",
       "      <th>10</th>\n",
       "      <td>Bangladesh</td>\n",
       "      <td>0.960161</td>\n",
       "      <td>89.1</td>\n",
       "      <td>29.56</td>\n",
       "      <td>0.673027</td>\n",
       "    </tr>\n",
       "    <tr>\n",
       "      <th>11</th>\n",
       "      <td>Barbados</td>\n",
       "      <td>0.484805</td>\n",
       "      <td>49.6</td>\n",
       "      <td>55.76</td>\n",
       "      <td>0.395283</td>\n",
       "    </tr>\n",
       "    <tr>\n",
       "      <th>12</th>\n",
       "      <td>Belarus</td>\n",
       "      <td>0.716438</td>\n",
       "      <td>72.4</td>\n",
       "      <td>64.98</td>\n",
       "      <td>0.540251</td>\n",
       "    </tr>\n",
       "    <tr>\n",
       "      <th>13</th>\n",
       "      <td>Belgium</td>\n",
       "      <td>0.361717</td>\n",
       "      <td>30.8</td>\n",
       "      <td>77.38</td>\n",
       "      <td>0.308746</td>\n",
       "    </tr>\n",
       "    <tr>\n",
       "      <th>14</th>\n",
       "      <td>Belize</td>\n",
       "      <td>0.681206</td>\n",
       "      <td>65.5</td>\n",
       "      <td>57.79</td>\n",
       "      <td>0.519512</td>\n",
       "    </tr>\n",
       "    <tr>\n",
       "      <th>15</th>\n",
       "      <td>Benin</td>\n",
       "      <td>0.939926</td>\n",
       "      <td>77.6</td>\n",
       "      <td>38.17</td>\n",
       "      <td>0.662650</td>\n",
       "    </tr>\n",
       "    <tr>\n",
       "      <th>16</th>\n",
       "      <td>Bhutan</td>\n",
       "      <td>0.941835</td>\n",
       "      <td>76.0</td>\n",
       "      <td>47.22</td>\n",
       "      <td>0.663633</td>\n",
       "    </tr>\n",
       "    <tr>\n",
       "      <th>17</th>\n",
       "      <td>Bolivia</td>\n",
       "      <td>0.895782</td>\n",
       "      <td>76.8</td>\n",
       "      <td>55.98</td>\n",
       "      <td>0.639632</td>\n",
       "    </tr>\n",
       "    <tr>\n",
       "      <th>18</th>\n",
       "      <td>Bosnia and Herzegovina</td>\n",
       "      <td>0.981976</td>\n",
       "      <td>73.0</td>\n",
       "      <td>41.84</td>\n",
       "      <td>0.684094</td>\n",
       "    </tr>\n",
       "    <tr>\n",
       "      <th>19</th>\n",
       "      <td>Botswana</td>\n",
       "      <td>0.724478</td>\n",
       "      <td>63.8</td>\n",
       "      <td>51.70</td>\n",
       "      <td>0.544925</td>\n",
       "    </tr>\n",
       "    <tr>\n",
       "      <th>20</th>\n",
       "      <td>Brazil</td>\n",
       "      <td>0.730283</td>\n",
       "      <td>68.2</td>\n",
       "      <td>60.70</td>\n",
       "      <td>0.548285</td>\n",
       "    </tr>\n",
       "    <tr>\n",
       "      <th>21</th>\n",
       "      <td>Bulgaria</td>\n",
       "      <td>0.528905</td>\n",
       "      <td>53.7</td>\n",
       "      <td>67.85</td>\n",
       "      <td>0.424552</td>\n",
       "    </tr>\n",
       "    <tr>\n",
       "      <th>22</th>\n",
       "      <td>Burkina Faso</td>\n",
       "      <td>0.955617</td>\n",
       "      <td>88.0</td>\n",
       "      <td>42.83</td>\n",
       "      <td>0.670706</td>\n",
       "    </tr>\n",
       "    <tr>\n",
       "      <th>23</th>\n",
       "      <td>Burundi</td>\n",
       "      <td>0.992444</td>\n",
       "      <td>98.9</td>\n",
       "      <td>27.43</td>\n",
       "      <td>0.689362</td>\n",
       "    </tr>\n",
       "    <tr>\n",
       "      <th>24</th>\n",
       "      <td>Cambodia</td>\n",
       "      <td>0.961185</td>\n",
       "      <td>85.7</td>\n",
       "      <td>45.25</td>\n",
       "      <td>0.673549</td>\n",
       "    </tr>\n",
       "    <tr>\n",
       "      <th>25</th>\n",
       "      <td>Cameroon</td>\n",
       "      <td>0.974263</td>\n",
       "      <td>95.6</td>\n",
       "      <td>43.23</td>\n",
       "      <td>0.680195</td>\n",
       "    </tr>\n",
       "    <tr>\n",
       "      <th>26</th>\n",
       "      <td>Canada</td>\n",
       "      <td>0.875770</td>\n",
       "      <td>22.6</td>\n",
       "      <td>40.81</td>\n",
       "      <td>0.629019</td>\n",
       "    </tr>\n",
       "    <tr>\n",
       "      <th>27</th>\n",
       "      <td>Central African Republic</td>\n",
       "      <td>2.729351</td>\n",
       "      <td>112.6</td>\n",
       "      <td>72.18</td>\n",
       "      <td>1.316234</td>\n",
       "    </tr>\n",
       "    <tr>\n",
       "      <th>28</th>\n",
       "      <td>Chad</td>\n",
       "      <td>0.985993</td>\n",
       "      <td>109.4</td>\n",
       "      <td>36.42</td>\n",
       "      <td>0.686119</td>\n",
       "    </tr>\n",
       "    <tr>\n",
       "      <th>29</th>\n",
       "      <td>Chile</td>\n",
       "      <td>0.881539</td>\n",
       "      <td>41.1</td>\n",
       "      <td>45.34</td>\n",
       "      <td>0.632090</td>\n",
       "    </tr>\n",
       "    <tr>\n",
       "      <th>...</th>\n",
       "      <td>...</td>\n",
       "      <td>...</td>\n",
       "      <td>...</td>\n",
       "      <td>...</td>\n",
       "      <td>...</td>\n",
       "    </tr>\n",
       "    <tr>\n",
       "      <th>118</th>\n",
       "      <td>Sierra Leone</td>\n",
       "      <td>0.968627</td>\n",
       "      <td>89.3</td>\n",
       "      <td>42.54</td>\n",
       "      <td>0.677336</td>\n",
       "    </tr>\n",
       "    <tr>\n",
       "      <th>119</th>\n",
       "      <td>Singapore</td>\n",
       "      <td>0.354823</td>\n",
       "      <td>32.5</td>\n",
       "      <td>64.23</td>\n",
       "      <td>0.303671</td>\n",
       "    </tr>\n",
       "    <tr>\n",
       "      <th>120</th>\n",
       "      <td>Slovenia</td>\n",
       "      <td>0.368254</td>\n",
       "      <td>32.4</td>\n",
       "      <td>67.57</td>\n",
       "      <td>0.313535</td>\n",
       "    </tr>\n",
       "    <tr>\n",
       "      <th>121</th>\n",
       "      <td>South Africa</td>\n",
       "      <td>0.951627</td>\n",
       "      <td>72.3</td>\n",
       "      <td>44.73</td>\n",
       "      <td>0.668663</td>\n",
       "    </tr>\n",
       "    <tr>\n",
       "      <th>122</th>\n",
       "      <td>South Korea</td>\n",
       "      <td>0.378333</td>\n",
       "      <td>38.1</td>\n",
       "      <td>62.30</td>\n",
       "      <td>0.320874</td>\n",
       "    </tr>\n",
       "    <tr>\n",
       "      <th>123</th>\n",
       "      <td>Spain</td>\n",
       "      <td>0.397916</td>\n",
       "      <td>37.9</td>\n",
       "      <td>78.39</td>\n",
       "      <td>0.334983</td>\n",
       "    </tr>\n",
       "    <tr>\n",
       "      <th>124</th>\n",
       "      <td>Sri Lanka</td>\n",
       "      <td>1.117832</td>\n",
       "      <td>86.6</td>\n",
       "      <td>60.61</td>\n",
       "      <td>0.750393</td>\n",
       "    </tr>\n",
       "    <tr>\n",
       "      <th>125</th>\n",
       "      <td>Sudan</td>\n",
       "      <td>2.457370</td>\n",
       "      <td>110.6</td>\n",
       "      <td>51.49</td>\n",
       "      <td>1.240508</td>\n",
       "    </tr>\n",
       "    <tr>\n",
       "      <th>126</th>\n",
       "      <td>Suriname</td>\n",
       "      <td>0.690139</td>\n",
       "      <td>65.9</td>\n",
       "      <td>54.20</td>\n",
       "      <td>0.524811</td>\n",
       "    </tr>\n",
       "    <tr>\n",
       "      <th>127</th>\n",
       "      <td>Swaziland</td>\n",
       "      <td>0.981130</td>\n",
       "      <td>88.8</td>\n",
       "      <td>40.32</td>\n",
       "      <td>0.683667</td>\n",
       "    </tr>\n",
       "    <tr>\n",
       "      <th>128</th>\n",
       "      <td>Sweden</td>\n",
       "      <td>0.318909</td>\n",
       "      <td>22.1</td>\n",
       "      <td>80.51</td>\n",
       "      <td>0.276805</td>\n",
       "    </tr>\n",
       "    <tr>\n",
       "      <th>129</th>\n",
       "      <td>Switzerland</td>\n",
       "      <td>0.312127</td>\n",
       "      <td>21.1</td>\n",
       "      <td>87.42</td>\n",
       "      <td>0.271650</td>\n",
       "    </tr>\n",
       "    <tr>\n",
       "      <th>130</th>\n",
       "      <td>Tajikistan</td>\n",
       "      <td>0.983178</td>\n",
       "      <td>81.8</td>\n",
       "      <td>47.85</td>\n",
       "      <td>0.684700</td>\n",
       "    </tr>\n",
       "    <tr>\n",
       "      <th>131</th>\n",
       "      <td>Tanzania</td>\n",
       "      <td>1.115631</td>\n",
       "      <td>80.3</td>\n",
       "      <td>50.83</td>\n",
       "      <td>0.749353</td>\n",
       "    </tr>\n",
       "    <tr>\n",
       "      <th>132</th>\n",
       "      <td>Thailand</td>\n",
       "      <td>0.955649</td>\n",
       "      <td>76.2</td>\n",
       "      <td>49.88</td>\n",
       "      <td>0.670722</td>\n",
       "    </tr>\n",
       "    <tr>\n",
       "      <th>133</th>\n",
       "      <td>Timor-Leste</td>\n",
       "      <td>0.969300</td>\n",
       "      <td>90.5</td>\n",
       "      <td>49.54</td>\n",
       "      <td>0.677678</td>\n",
       "    </tr>\n",
       "    <tr>\n",
       "      <th>134</th>\n",
       "      <td>Togo</td>\n",
       "      <td>0.956063</td>\n",
       "      <td>83.9</td>\n",
       "      <td>41.78</td>\n",
       "      <td>0.670934</td>\n",
       "    </tr>\n",
       "    <tr>\n",
       "      <th>135</th>\n",
       "      <td>Trinidad and Tobago</td>\n",
       "      <td>0.555886</td>\n",
       "      <td>56.7</td>\n",
       "      <td>67.36</td>\n",
       "      <td>0.442045</td>\n",
       "    </tr>\n",
       "    <tr>\n",
       "      <th>136</th>\n",
       "      <td>Tunisia</td>\n",
       "      <td>0.778063</td>\n",
       "      <td>74.2</td>\n",
       "      <td>62.35</td>\n",
       "      <td>0.575525</td>\n",
       "    </tr>\n",
       "    <tr>\n",
       "      <th>137</th>\n",
       "      <td>Turkey</td>\n",
       "      <td>0.900806</td>\n",
       "      <td>80.8</td>\n",
       "      <td>52.96</td>\n",
       "      <td>0.642278</td>\n",
       "    </tr>\n",
       "    <tr>\n",
       "      <th>138</th>\n",
       "      <td>Turkmenistan</td>\n",
       "      <td>0.766531</td>\n",
       "      <td>74.4</td>\n",
       "      <td>66.10</td>\n",
       "      <td>0.569018</td>\n",
       "    </tr>\n",
       "    <tr>\n",
       "      <th>139</th>\n",
       "      <td>Uganda</td>\n",
       "      <td>0.972626</td>\n",
       "      <td>96.0</td>\n",
       "      <td>44.28</td>\n",
       "      <td>0.679366</td>\n",
       "    </tr>\n",
       "    <tr>\n",
       "      <th>140</th>\n",
       "      <td>Ukraine</td>\n",
       "      <td>0.750723</td>\n",
       "      <td>74.0</td>\n",
       "      <td>52.87</td>\n",
       "      <td>0.560029</td>\n",
       "    </tr>\n",
       "    <tr>\n",
       "      <th>141</th>\n",
       "      <td>United Arab Emirates</td>\n",
       "      <td>0.421131</td>\n",
       "      <td>43.7</td>\n",
       "      <td>58.90</td>\n",
       "      <td>0.351453</td>\n",
       "    </tr>\n",
       "    <tr>\n",
       "      <th>142</th>\n",
       "      <td>United Kingdom</td>\n",
       "      <td>0.376668</td>\n",
       "      <td>33.2</td>\n",
       "      <td>79.89</td>\n",
       "      <td>0.319666</td>\n",
       "    </tr>\n",
       "    <tr>\n",
       "      <th>143</th>\n",
       "      <td>Uruguay</td>\n",
       "      <td>0.389627</td>\n",
       "      <td>36.8</td>\n",
       "      <td>64.65</td>\n",
       "      <td>0.329035</td>\n",
       "    </tr>\n",
       "    <tr>\n",
       "      <th>144</th>\n",
       "      <td>Uzbekistan</td>\n",
       "      <td>0.983218</td>\n",
       "      <td>81.5</td>\n",
       "      <td>45.88</td>\n",
       "      <td>0.684721</td>\n",
       "    </tr>\n",
       "    <tr>\n",
       "      <th>145</th>\n",
       "      <td>Venezuela</td>\n",
       "      <td>0.989573</td>\n",
       "      <td>82.9</td>\n",
       "      <td>63.89</td>\n",
       "      <td>0.687920</td>\n",
       "    </tr>\n",
       "    <tr>\n",
       "      <th>146</th>\n",
       "      <td>Zambia</td>\n",
       "      <td>1.381675</td>\n",
       "      <td>87.8</td>\n",
       "      <td>50.97</td>\n",
       "      <td>0.867804</td>\n",
       "    </tr>\n",
       "    <tr>\n",
       "      <th>147</th>\n",
       "      <td>Zimbabwe</td>\n",
       "      <td>0.985410</td>\n",
       "      <td>101.6</td>\n",
       "      <td>43.41</td>\n",
       "      <td>0.685826</td>\n",
       "    </tr>\n",
       "  </tbody>\n",
       "</table>\n",
       "<p>148 rows × 5 columns</p>\n",
       "</div>"
      ],
      "text/plain": [
       "                      country  fragility    FSI    EPI  fragility_log\n",
       "0                 Afghanistan   0.989551  107.3  37.74       0.687909\n",
       "1                     Albania   0.586099   60.5  65.46       0.461278\n",
       "2                     Algeria   0.883318   76.8  57.18       0.633035\n",
       "3                      Angola   0.964826   91.1  37.44       0.675404\n",
       "4                   Argentina   0.463124   48.2  59.30       0.380574\n",
       "5                     Armenia   0.729100   71.0  62.07       0.547601\n",
       "6                   Australia   0.319031   22.3  74.12       0.276897\n",
       "7                     Austria   0.353223   27.7  78.97       0.302489\n",
       "8                  Azerbaijan   0.816384   76.3  62.33       0.596848\n",
       "9                     Bahrain   0.597213   64.9  55.15       0.468260\n",
       "10                 Bangladesh   0.960161   89.1  29.56       0.673027\n",
       "11                   Barbados   0.484805   49.6  55.76       0.395283\n",
       "12                    Belarus   0.716438   72.4  64.98       0.540251\n",
       "13                    Belgium   0.361717   30.8  77.38       0.308746\n",
       "14                     Belize   0.681206   65.5  57.79       0.519512\n",
       "15                      Benin   0.939926   77.6  38.17       0.662650\n",
       "16                     Bhutan   0.941835   76.0  47.22       0.663633\n",
       "17                    Bolivia   0.895782   76.8  55.98       0.639632\n",
       "18     Bosnia and Herzegovina   0.981976   73.0  41.84       0.684094\n",
       "19                   Botswana   0.724478   63.8  51.70       0.544925\n",
       "20                     Brazil   0.730283   68.2  60.70       0.548285\n",
       "21                   Bulgaria   0.528905   53.7  67.85       0.424552\n",
       "22               Burkina Faso   0.955617   88.0  42.83       0.670706\n",
       "23                    Burundi   0.992444   98.9  27.43       0.689362\n",
       "24                   Cambodia   0.961185   85.7  45.25       0.673549\n",
       "25                   Cameroon   0.974263   95.6  43.23       0.680195\n",
       "26                     Canada   0.875770   22.6  40.81       0.629019\n",
       "27   Central African Republic   2.729351  112.6  72.18       1.316234\n",
       "28                       Chad   0.985993  109.4  36.42       0.686119\n",
       "29                      Chile   0.881539   41.1  45.34       0.632090\n",
       "..                        ...        ...    ...    ...            ...\n",
       "118              Sierra Leone   0.968627   89.3  42.54       0.677336\n",
       "119                 Singapore   0.354823   32.5  64.23       0.303671\n",
       "120                  Slovenia   0.368254   32.4  67.57       0.313535\n",
       "121              South Africa   0.951627   72.3  44.73       0.668663\n",
       "122               South Korea   0.378333   38.1  62.30       0.320874\n",
       "123                     Spain   0.397916   37.9  78.39       0.334983\n",
       "124                 Sri Lanka   1.117832   86.6  60.61       0.750393\n",
       "125                     Sudan   2.457370  110.6  51.49       1.240508\n",
       "126                  Suriname   0.690139   65.9  54.20       0.524811\n",
       "127                 Swaziland   0.981130   88.8  40.32       0.683667\n",
       "128                    Sweden   0.318909   22.1  80.51       0.276805\n",
       "129               Switzerland   0.312127   21.1  87.42       0.271650\n",
       "130                Tajikistan   0.983178   81.8  47.85       0.684700\n",
       "131                  Tanzania   1.115631   80.3  50.83       0.749353\n",
       "132                  Thailand   0.955649   76.2  49.88       0.670722\n",
       "133               Timor-Leste   0.969300   90.5  49.54       0.677678\n",
       "134                      Togo   0.956063   83.9  41.78       0.670934\n",
       "135       Trinidad and Tobago   0.555886   56.7  67.36       0.442045\n",
       "136                   Tunisia   0.778063   74.2  62.35       0.575525\n",
       "137                    Turkey   0.900806   80.8  52.96       0.642278\n",
       "138              Turkmenistan   0.766531   74.4  66.10       0.569018\n",
       "139                    Uganda   0.972626   96.0  44.28       0.679366\n",
       "140                   Ukraine   0.750723   74.0  52.87       0.560029\n",
       "141      United Arab Emirates   0.421131   43.7  58.90       0.351453\n",
       "142            United Kingdom   0.376668   33.2  79.89       0.319666\n",
       "143                   Uruguay   0.389627   36.8  64.65       0.329035\n",
       "144                Uzbekistan   0.983218   81.5  45.88       0.684721\n",
       "145                 Venezuela   0.989573   82.9  63.89       0.687920\n",
       "146                    Zambia   1.381675   87.8  50.97       0.867804\n",
       "147                  Zimbabwe   0.985410  101.6  43.41       0.685826\n",
       "\n",
       "[148 rows x 5 columns]"
      ]
     },
     "execution_count": 46,
     "metadata": {},
     "output_type": "execute_result"
    }
   ],
   "source": [
    "df_fragile"
   ]
  },
  {
   "cell_type": "code",
   "execution_count": 47,
   "metadata": {
    "collapsed": true
   },
   "outputs": [],
   "source": [
    "def reverse_num(FSI_data, EPI_data, fragile):\n",
    "    cnt = 0\n",
    "    rate = []\n",
    "    for i in range(len(FSI_data)):\n",
    "        mask = (EPI_data > EPI_data[i]+5) & (FSI_data+1 < FSI_data[i]) & (fragile > fragile[i])\n",
    "        rate.append(1.0*sum(mask)/(len(FSI_data)-1))\n",
    "    avg_rate = np.mean(rate)\n",
    "    print(avg_rate)"
   ]
  },
  {
   "cell_type": "code",
   "execution_count": 48,
   "metadata": {},
   "outputs": [
    {
     "name": "stdout",
     "output_type": "stream",
     "text": [
      "0.0147545504688\n"
     ]
    }
   ],
   "source": [
    "reverse_num(df_fragile.FSI,df_fragile.EPI,df_fragile.fragility)"
   ]
  },
  {
   "cell_type": "code",
   "execution_count": 49,
   "metadata": {},
   "outputs": [
    {
     "data": {
      "text/plain": [
       "51"
      ]
     },
     "execution_count": 49,
     "metadata": {},
     "output_type": "execute_result"
    }
   ],
   "source": [
    "(df_fragile.FSI>80).sum()"
   ]
  },
  {
   "cell_type": "code",
   "execution_count": 50,
   "metadata": {},
   "outputs": [
    {
     "data": {
      "text/plain": [
       "49"
      ]
     },
     "execution_count": 50,
     "metadata": {},
     "output_type": "execute_result"
    }
   ],
   "source": [
    "(df_fragile.EPI<50).sum()"
   ]
  },
  {
   "cell_type": "code",
   "execution_count": 54,
   "metadata": {},
   "outputs": [
    {
     "data": {
      "image/png": "[encoded data removed]",
      "text/plain": [
       "<matplotlib.figure.Figure at 0x20ed1eddcf8>"
      ]
     },
     "metadata": {},
     "output_type": "display_data"
    }
   ],
   "source": [
    "plt.hist(EPI_data,100)\n",
    "plt.show()"
   ]
  },
  {
   "cell_type": "code",
   "execution_count": 55,
   "metadata": {},
   "outputs": [
    {
     "data": {
      "image/png": "[encoded data removed]",
      "text/plain": [
       "<matplotlib.figure.Figure at 0x20ed1f876a0>"
      ]
     },
     "metadata": {},
     "output_type": "display_data"
    }
   ],
   "source": [
    "plt.hist(FSI_data,100)\n",
    "plt.show()"
   ]
  },
  {
   "cell_type": "code",
   "execution_count": 69,
   "metadata": {},
   "outputs": [],
   "source": [
    "cn_clean = pd.read_csv('epi_historical.csv',encoding='utf-8')\n",
    "years = np.arange(1997,2018,1)\n",
    "cn_clean['years']=years"
   ]
  },
  {
   "cell_type": "code",
   "execution_count": 70,
   "metadata": {},
   "outputs": [
    {
     "data": {
      "text/html": [
       "<div>\n",
       "<style>\n",
       "    .dataframe thead tr:only-child th {\n",
       "        text-align: right;\n",
       "    }\n",
       "\n",
       "    .dataframe thead th {\n",
       "        text-align: left;\n",
       "    }\n",
       "\n",
       "    .dataframe tbody tr th {\n",
       "        vertical-align: top;\n",
       "    }\n",
       "</style>\n",
       "<table border=\"1\" class=\"dataframe\">\n",
       "  <thead>\n",
       "    <tr style=\"text-align: right;\">\n",
       "      <th></th>\n",
       "      <th>Agriculture, value added (% of GDP)</th>\n",
       "      <th>GDP (current US$)</th>\n",
       "      <th>GDP per capita (current US$)</th>\n",
       "      <th>GDP per capita growth (annual %)</th>\n",
       "      <th>GDP growth (annual %)</th>\n",
       "      <th>GDP, PPP (current international $)</th>\n",
       "      <th>GDP per capita, PPP (current international $)</th>\n",
       "      <th>Industry, value added (% of GDP)</th>\n",
       "      <th>Services, etc., value added (% of GDP)</th>\n",
       "      <th>Services, etc., value added (annual % growth)</th>\n",
       "      <th>Industry, value added (annual % growth)</th>\n",
       "      <th>Agriculture, value added (annual % growth)</th>\n",
       "      <th>EPI</th>\n",
       "      <th>CCE</th>\n",
       "      <th>years</th>\n",
       "    </tr>\n",
       "  </thead>\n",
       "  <tbody>\n",
       "    <tr>\n",
       "      <th>0</th>\n",
       "      <td>17.895277</td>\n",
       "      <td>9.616040e+11</td>\n",
       "      <td>781.744164</td>\n",
       "      <td>8.118548</td>\n",
       "      <td>9.230769</td>\n",
       "      <td>2.801140e+12</td>\n",
       "      <td>2277.206851</td>\n",
       "      <td>47.100259</td>\n",
       "      <td>35.004464</td>\n",
       "      <td>10.438820</td>\n",
       "      <td>10.470369</td>\n",
       "      <td>3.429971</td>\n",
       "      <td>6.096559</td>\n",
       "      <td>-3.087120</td>\n",
       "      <td>1997</td>\n",
       "    </tr>\n",
       "    <tr>\n",
       "      <th>1</th>\n",
       "      <td>17.159035</td>\n",
       "      <td>1.029040e+12</td>\n",
       "      <td>828.580479</td>\n",
       "      <td>6.807806</td>\n",
       "      <td>7.837614</td>\n",
       "      <td>3.053460e+12</td>\n",
       "      <td>2458.630661</td>\n",
       "      <td>45.798809</td>\n",
       "      <td>37.042156</td>\n",
       "      <td>8.394359</td>\n",
       "      <td>8.912677</td>\n",
       "      <td>3.434662</td>\n",
       "      <td>6.073147</td>\n",
       "      <td>-3.095449</td>\n",
       "      <td>1998</td>\n",
       "    </tr>\n",
       "    <tr>\n",
       "      <th>2</th>\n",
       "      <td>16.064788</td>\n",
       "      <td>1.094000e+12</td>\n",
       "      <td>873.287062</td>\n",
       "      <td>6.739270</td>\n",
       "      <td>7.667486</td>\n",
       "      <td>3.337890e+12</td>\n",
       "      <td>2664.485031</td>\n",
       "      <td>45.361028</td>\n",
       "      <td>38.574184</td>\n",
       "      <td>9.258101</td>\n",
       "      <td>8.194368</td>\n",
       "      <td>2.748092</td>\n",
       "      <td>6.063112</td>\n",
       "      <td>-3.109263</td>\n",
       "      <td>1999</td>\n",
       "    </tr>\n",
       "    <tr>\n",
       "      <th>3</th>\n",
       "      <td>14.676242</td>\n",
       "      <td>1.211350e+12</td>\n",
       "      <td>959.372484</td>\n",
       "      <td>7.640002</td>\n",
       "      <td>8.491508</td>\n",
       "      <td>3.703740e+12</td>\n",
       "      <td>2933.314817</td>\n",
       "      <td>45.537279</td>\n",
       "      <td>39.786480</td>\n",
       "      <td>9.767548</td>\n",
       "      <td>9.482495</td>\n",
       "      <td>2.303120</td>\n",
       "      <td>6.049667</td>\n",
       "      <td>-3.117060</td>\n",
       "      <td>2000</td>\n",
       "    </tr>\n",
       "    <tr>\n",
       "      <th>4</th>\n",
       "      <td>13.983461</td>\n",
       "      <td>1.339400e+12</td>\n",
       "      <td>1053.108243</td>\n",
       "      <td>7.555802</td>\n",
       "      <td>8.339911</td>\n",
       "      <td>4.104070e+12</td>\n",
       "      <td>3226.848456</td>\n",
       "      <td>44.794571</td>\n",
       "      <td>41.221968</td>\n",
       "      <td>10.264970</td>\n",
       "      <td>8.484057</td>\n",
       "      <td>2.650690</td>\n",
       "      <td>6.042956</td>\n",
       "      <td>-3.122740</td>\n",
       "      <td>2001</td>\n",
       "    </tr>\n",
       "    <tr>\n",
       "      <th>5</th>\n",
       "      <td>13.301488</td>\n",
       "      <td>1.470550e+12</td>\n",
       "      <td>1148.508290</td>\n",
       "      <td>8.401915</td>\n",
       "      <td>9.130646</td>\n",
       "      <td>4.547550e+12</td>\n",
       "      <td>3551.663652</td>\n",
       "      <td>44.451717</td>\n",
       "      <td>42.246796</td>\n",
       "      <td>10.482498</td>\n",
       "      <td>9.900309</td>\n",
       "      <td>2.688362</td>\n",
       "      <td>6.082633</td>\n",
       "      <td>-3.127682</td>\n",
       "      <td>2002</td>\n",
       "    </tr>\n",
       "    <tr>\n",
       "      <th>6</th>\n",
       "      <td>12.348999</td>\n",
       "      <td>1.660290e+12</td>\n",
       "      <td>1288.643252</td>\n",
       "      <td>9.352364</td>\n",
       "      <td>10.035603</td>\n",
       "      <td>5.103710e+12</td>\n",
       "      <td>3961.273893</td>\n",
       "      <td>45.623964</td>\n",
       "      <td>42.027037</td>\n",
       "      <td>9.539305</td>\n",
       "      <td>12.668126</td>\n",
       "      <td>2.376852</td>\n",
       "      <td>6.125395</td>\n",
       "      <td>-3.126576</td>\n",
       "      <td>2003</td>\n",
       "    </tr>\n",
       "    <tr>\n",
       "      <th>7</th>\n",
       "      <td>12.916648</td>\n",
       "      <td>1.955350e+12</td>\n",
       "      <td>1508.668098</td>\n",
       "      <td>9.459175</td>\n",
       "      <td>10.111223</td>\n",
       "      <td>5.774280e+12</td>\n",
       "      <td>4455.205022</td>\n",
       "      <td>45.901402</td>\n",
       "      <td>41.181950</td>\n",
       "      <td>10.123515</td>\n",
       "      <td>11.139645</td>\n",
       "      <td>6.123822</td>\n",
       "      <td>6.129292</td>\n",
       "      <td>-3.124252</td>\n",
       "      <td>2004</td>\n",
       "    </tr>\n",
       "    <tr>\n",
       "      <th>8</th>\n",
       "      <td>11.641496</td>\n",
       "      <td>2.285970e+12</td>\n",
       "      <td>1753.417829</td>\n",
       "      <td>10.742552</td>\n",
       "      <td>11.395776</td>\n",
       "      <td>6.639270e+12</td>\n",
       "      <td>5092.559837</td>\n",
       "      <td>47.023771</td>\n",
       "      <td>41.334733</td>\n",
       "      <td>12.358912</td>\n",
       "      <td>12.133891</td>\n",
       "      <td>5.072923</td>\n",
       "      <td>6.069582</td>\n",
       "      <td>-3.127133</td>\n",
       "      <td>2005</td>\n",
       "    </tr>\n",
       "    <tr>\n",
       "      <th>9</th>\n",
       "      <td>10.625761</td>\n",
       "      <td>2.752130e+12</td>\n",
       "      <td>2099.229435</td>\n",
       "      <td>12.091836</td>\n",
       "      <td>12.719479</td>\n",
       "      <td>7.713670e+12</td>\n",
       "      <td>5883.719377</td>\n",
       "      <td>47.558567</td>\n",
       "      <td>41.815673</td>\n",
       "      <td>14.133182</td>\n",
       "      <td>13.449543</td>\n",
       "      <td>4.737477</td>\n",
       "      <td>6.038891</td>\n",
       "      <td>-3.134563</td>\n",
       "      <td>2006</td>\n",
       "    </tr>\n",
       "    <tr>\n",
       "      <th>10</th>\n",
       "      <td>10.282997</td>\n",
       "      <td>3.552180e+12</td>\n",
       "      <td>2695.365917</td>\n",
       "      <td>13.636345</td>\n",
       "      <td>14.231388</td>\n",
       "      <td>9.045940e+12</td>\n",
       "      <td>6863.981755</td>\n",
       "      <td>46.861034</td>\n",
       "      <td>42.855969</td>\n",
       "      <td>16.069748</td>\n",
       "      <td>15.050808</td>\n",
       "      <td>3.514837</td>\n",
       "      <td>6.020888</td>\n",
       "      <td>-3.145038</td>\n",
       "      <td>2007</td>\n",
       "    </tr>\n",
       "    <tr>\n",
       "      <th>11</th>\n",
       "      <td>10.250899</td>\n",
       "      <td>4.598210e+12</td>\n",
       "      <td>3471.248054</td>\n",
       "      <td>9.093872</td>\n",
       "      <td>9.654289</td>\n",
       "      <td>1.011380e+13</td>\n",
       "      <td>7635.072611</td>\n",
       "      <td>46.932478</td>\n",
       "      <td>42.816623</td>\n",
       "      <td>10.477871</td>\n",
       "      <td>9.839143</td>\n",
       "      <td>5.176733</td>\n",
       "      <td>6.020355</td>\n",
       "      <td>-3.155310</td>\n",
       "      <td>2008</td>\n",
       "    </tr>\n",
       "    <tr>\n",
       "      <th>12</th>\n",
       "      <td>9.786189</td>\n",
       "      <td>5.109950e+12</td>\n",
       "      <td>3838.433972</td>\n",
       "      <td>8.857030</td>\n",
       "      <td>9.399813</td>\n",
       "      <td>1.114850e+13</td>\n",
       "      <td>8374.432271</td>\n",
       "      <td>45.883773</td>\n",
       "      <td>44.330038</td>\n",
       "      <td>9.587740</td>\n",
       "      <td>10.290176</td>\n",
       "      <td>3.995766</td>\n",
       "      <td>5.987112</td>\n",
       "      <td>-3.161547</td>\n",
       "      <td>2009</td>\n",
       "    </tr>\n",
       "    <tr>\n",
       "      <th>13</th>\n",
       "      <td>9.530193</td>\n",
       "      <td>6.100620e+12</td>\n",
       "      <td>4560.512586</td>\n",
       "      <td>10.103101</td>\n",
       "      <td>10.636140</td>\n",
       "      <td>1.248500e+13</td>\n",
       "      <td>9333.124237</td>\n",
       "      <td>46.396054</td>\n",
       "      <td>44.073753</td>\n",
       "      <td>9.666745</td>\n",
       "      <td>12.683150</td>\n",
       "      <td>4.249364</td>\n",
       "      <td>5.811974</td>\n",
       "      <td>-3.166993</td>\n",
       "      <td>2010</td>\n",
       "    </tr>\n",
       "    <tr>\n",
       "      <th>14</th>\n",
       "      <td>9.434516</td>\n",
       "      <td>7.572550e+12</td>\n",
       "      <td>5633.795717</td>\n",
       "      <td>9.012854</td>\n",
       "      <td>9.536443</td>\n",
       "      <td>1.395790e+13</td>\n",
       "      <td>10384.366600</td>\n",
       "      <td>46.400685</td>\n",
       "      <td>44.164799</td>\n",
       "      <td>9.489943</td>\n",
       "      <td>10.689838</td>\n",
       "      <td>4.173786</td>\n",
       "      <td>5.581443</td>\n",
       "      <td>-3.172029</td>\n",
       "      <td>2011</td>\n",
       "    </tr>\n",
       "    <tr>\n",
       "      <th>15</th>\n",
       "      <td>9.419936</td>\n",
       "      <td>8.560550e+12</td>\n",
       "      <td>6337.883323</td>\n",
       "      <td>7.332031</td>\n",
       "      <td>7.856262</td>\n",
       "      <td>1.533180e+13</td>\n",
       "      <td>11351.062060</td>\n",
       "      <td>45.273502</td>\n",
       "      <td>45.306562</td>\n",
       "      <td>8.011285</td>\n",
       "      <td>8.364160</td>\n",
       "      <td>4.475164</td>\n",
       "      <td>5.392113</td>\n",
       "      <td>-3.180977</td>\n",
       "      <td>2012</td>\n",
       "    </tr>\n",
       "    <tr>\n",
       "      <th>16</th>\n",
       "      <td>9.295190</td>\n",
       "      <td>9.607220e+12</td>\n",
       "      <td>7077.770765</td>\n",
       "      <td>7.226936</td>\n",
       "      <td>7.757635</td>\n",
       "      <td>1.678800e+13</td>\n",
       "      <td>12367.965010</td>\n",
       "      <td>44.008152</td>\n",
       "      <td>46.696658</td>\n",
       "      <td>8.300935</td>\n",
       "      <td>7.986971</td>\n",
       "      <td>3.812514</td>\n",
       "      <td>5.559623</td>\n",
       "      <td>-3.187699</td>\n",
       "      <td>2013</td>\n",
       "    </tr>\n",
       "    <tr>\n",
       "      <th>17</th>\n",
       "      <td>9.059922</td>\n",
       "      <td>1.048240e+13</td>\n",
       "      <td>7683.502613</td>\n",
       "      <td>6.755778</td>\n",
       "      <td>7.297666</td>\n",
       "      <td>1.833570e+13</td>\n",
       "      <td>13439.906710</td>\n",
       "      <td>43.102956</td>\n",
       "      <td>47.837122</td>\n",
       "      <td>7.807724</td>\n",
       "      <td>7.393822</td>\n",
       "      <td>4.061352</td>\n",
       "      <td>5.441350</td>\n",
       "      <td>-3.196392</td>\n",
       "      <td>2014</td>\n",
       "    </tr>\n",
       "    <tr>\n",
       "      <th>18</th>\n",
       "      <td>8.832724</td>\n",
       "      <td>1.106470e+13</td>\n",
       "      <td>8069.213024</td>\n",
       "      <td>6.358383</td>\n",
       "      <td>6.900205</td>\n",
       "      <td>1.985270e+13</td>\n",
       "      <td>14478.147550</td>\n",
       "      <td>40.931636</td>\n",
       "      <td>50.235640</td>\n",
       "      <td>8.194376</td>\n",
       "      <td>6.197196</td>\n",
       "      <td>3.902844</td>\n",
       "      <td>5.367446</td>\n",
       "      <td>-3.196158</td>\n",
       "      <td>2015</td>\n",
       "    </tr>\n",
       "    <tr>\n",
       "      <th>19</th>\n",
       "      <td>8.556427</td>\n",
       "      <td>1.119910e+13</td>\n",
       "      <td>8123.180873</td>\n",
       "      <td>6.113211</td>\n",
       "      <td>6.689350</td>\n",
       "      <td>2.145100e+13</td>\n",
       "      <td>15559.231350</td>\n",
       "      <td>39.809860</td>\n",
       "      <td>51.633713</td>\n",
       "      <td>7.755688</td>\n",
       "      <td>6.112733</td>\n",
       "      <td>3.296703</td>\n",
       "      <td>5.440320</td>\n",
       "      <td>-3.201965</td>\n",
       "      <td>2016</td>\n",
       "    </tr>\n",
       "    <tr>\n",
       "      <th>20</th>\n",
       "      <td>NaN</td>\n",
       "      <td>NaN</td>\n",
       "      <td>NaN</td>\n",
       "      <td>NaN</td>\n",
       "      <td>NaN</td>\n",
       "      <td>NaN</td>\n",
       "      <td>NaN</td>\n",
       "      <td>NaN</td>\n",
       "      <td>NaN</td>\n",
       "      <td>NaN</td>\n",
       "      <td>NaN</td>\n",
       "      <td>NaN</td>\n",
       "      <td>5.264028</td>\n",
       "      <td>-3.207772</td>\n",
       "      <td>2017</td>\n",
       "    </tr>\n",
       "  </tbody>\n",
       "</table>\n",
       "</div>"
      ],
      "text/plain": [
       "    Agriculture, value added (% of GDP)  GDP (current US$)  \\\n",
       "0                             17.895277       9.616040e+11   \n",
       "1                             17.159035       1.029040e+12   \n",
       "2                             16.064788       1.094000e+12   \n",
       "3                             14.676242       1.211350e+12   \n",
       "4                             13.983461       1.339400e+12   \n",
       "5                             13.301488       1.470550e+12   \n",
       "6                             12.348999       1.660290e+12   \n",
       "7                             12.916648       1.955350e+12   \n",
       "8                             11.641496       2.285970e+12   \n",
       "9                             10.625761       2.752130e+12   \n",
       "10                            10.282997       3.552180e+12   \n",
       "11                            10.250899       4.598210e+12   \n",
       "12                             9.786189       5.109950e+12   \n",
       "13                             9.530193       6.100620e+12   \n",
       "14                             9.434516       7.572550e+12   \n",
       "15                             9.419936       8.560550e+12   \n",
       "16                             9.295190       9.607220e+12   \n",
       "17                             9.059922       1.048240e+13   \n",
       "18                             8.832724       1.106470e+13   \n",
       "19                             8.556427       1.119910e+13   \n",
       "20                                  NaN                NaN   \n",
       "\n",
       "    GDP per capita (current US$)  GDP per capita growth (annual %)  \\\n",
       "0                     781.744164                          8.118548   \n",
       "1                     828.580479                          6.807806   \n",
       "2                     873.287062                          6.739270   \n",
       "3                     959.372484                          7.640002   \n",
       "4                    1053.108243                          7.555802   \n",
       "5                    1148.508290                          8.401915   \n",
       "6                    1288.643252                          9.352364   \n",
       "7                    1508.668098                          9.459175   \n",
       "8                    1753.417829                         10.742552   \n",
       "9                    2099.229435                         12.091836   \n",
       "10                   2695.365917                         13.636345   \n",
       "11                   3471.248054                          9.093872   \n",
       "12                   3838.433972                          8.857030   \n",
       "13                   4560.512586                         10.103101   \n",
       "14                   5633.795717                          9.012854   \n",
       "15                   6337.883323                          7.332031   \n",
       "16                   7077.770765                          7.226936   \n",
       "17                   7683.502613                          6.755778   \n",
       "18                   8069.213024                          6.358383   \n",
       "19                   8123.180873                          6.113211   \n",
       "20                           NaN                               NaN   \n",
       "\n",
       "    GDP growth (annual %)  GDP, PPP (current international $)  \\\n",
       "0                9.230769                        2.801140e+12   \n",
       "1                7.837614                        3.053460e+12   \n",
       "2                7.667486                        3.337890e+12   \n",
       "3                8.491508                        3.703740e+12   \n",
       "4                8.339911                        4.104070e+12   \n",
       "5                9.130646                        4.547550e+12   \n",
       "6               10.035603                        5.103710e+12   \n",
       "7               10.111223                        5.774280e+12   \n",
       "8               11.395776                        6.639270e+12   \n",
       "9               12.719479                        7.713670e+12   \n",
       "10              14.231388                        9.045940e+12   \n",
       "11               9.654289                        1.011380e+13   \n",
       "12               9.399813                        1.114850e+13   \n",
       "13              10.636140                        1.248500e+13   \n",
       "14               9.536443                        1.395790e+13   \n",
       "15               7.856262                        1.533180e+13   \n",
       "16               7.757635                        1.678800e+13   \n",
       "17               7.297666                        1.833570e+13   \n",
       "18               6.900205                        1.985270e+13   \n",
       "19               6.689350                        2.145100e+13   \n",
       "20                    NaN                                 NaN   \n",
       "\n",
       "    GDP per capita, PPP (current international $)  \\\n",
       "0                                     2277.206851   \n",
       "1                                     2458.630661   \n",
       "2                                     2664.485031   \n",
       "3                                     2933.314817   \n",
       "4                                     3226.848456   \n",
       "5                                     3551.663652   \n",
       "6                                     3961.273893   \n",
       "7                                     4455.205022   \n",
       "8                                     5092.559837   \n",
       "9                                     5883.719377   \n",
       "10                                    6863.981755   \n",
       "11                                    7635.072611   \n",
       "12                                    8374.432271   \n",
       "13                                    9333.124237   \n",
       "14                                   10384.366600   \n",
       "15                                   11351.062060   \n",
       "16                                   12367.965010   \n",
       "17                                   13439.906710   \n",
       "18                                   14478.147550   \n",
       "19                                   15559.231350   \n",
       "20                                            NaN   \n",
       "\n",
       "    Industry, value added (% of GDP)  Services, etc., value added (% of GDP)  \\\n",
       "0                          47.100259                               35.004464   \n",
       "1                          45.798809                               37.042156   \n",
       "2                          45.361028                               38.574184   \n",
       "3                          45.537279                               39.786480   \n",
       "4                          44.794571                               41.221968   \n",
       "5                          44.451717                               42.246796   \n",
       "6                          45.623964                               42.027037   \n",
       "7                          45.901402                               41.181950   \n",
       "8                          47.023771                               41.334733   \n",
       "9                          47.558567                               41.815673   \n",
       "10                         46.861034                               42.855969   \n",
       "11                         46.932478                               42.816623   \n",
       "12                         45.883773                               44.330038   \n",
       "13                         46.396054                               44.073753   \n",
       "14                         46.400685                               44.164799   \n",
       "15                         45.273502                               45.306562   \n",
       "16                         44.008152                               46.696658   \n",
       "17                         43.102956                               47.837122   \n",
       "18                         40.931636                               50.235640   \n",
       "19                         39.809860                               51.633713   \n",
       "20                               NaN                                     NaN   \n",
       "\n",
       "    Services, etc., value added (annual % growth)  \\\n",
       "0                                       10.438820   \n",
       "1                                        8.394359   \n",
       "2                                        9.258101   \n",
       "3                                        9.767548   \n",
       "4                                       10.264970   \n",
       "5                                       10.482498   \n",
       "6                                        9.539305   \n",
       "7                                       10.123515   \n",
       "8                                       12.358912   \n",
       "9                                       14.133182   \n",
       "10                                      16.069748   \n",
       "11                                      10.477871   \n",
       "12                                       9.587740   \n",
       "13                                       9.666745   \n",
       "14                                       9.489943   \n",
       "15                                       8.011285   \n",
       "16                                       8.300935   \n",
       "17                                       7.807724   \n",
       "18                                       8.194376   \n",
       "19                                       7.755688   \n",
       "20                                            NaN   \n",
       "\n",
       "    Industry, value added (annual % growth)  \\\n",
       "0                                 10.470369   \n",
       "1                                  8.912677   \n",
       "2                                  8.194368   \n",
       "3                                  9.482495   \n",
       "4                                  8.484057   \n",
       "5                                  9.900309   \n",
       "6                                 12.668126   \n",
       "7                                 11.139645   \n",
       "8                                 12.133891   \n",
       "9                                 13.449543   \n",
       "10                                15.050808   \n",
       "11                                 9.839143   \n",
       "12                                10.290176   \n",
       "13                                12.683150   \n",
       "14                                10.689838   \n",
       "15                                 8.364160   \n",
       "16                                 7.986971   \n",
       "17                                 7.393822   \n",
       "18                                 6.197196   \n",
       "19                                 6.112733   \n",
       "20                                      NaN   \n",
       "\n",
       "    Agriculture, value added (annual % growth)           EPI       CCE  years  \n",
       "0                                     3.429971      6.096559 -3.087120   1997  \n",
       "1                                     3.434662      6.073147 -3.095449   1998  \n",
       "2                                     2.748092      6.063112 -3.109263   1999  \n",
       "3                                     2.303120      6.049667 -3.117060   2000  \n",
       "4                                     2.650690      6.042956 -3.122740   2001  \n",
       "5                                     2.688362      6.082633 -3.127682   2002  \n",
       "6                                     2.376852      6.125395 -3.126576   2003  \n",
       "7                                     6.123822      6.129292 -3.124252   2004  \n",
       "8                                     5.072923      6.069582 -3.127133   2005  \n",
       "9                                     4.737477      6.038891 -3.134563   2006  \n",
       "10                                    3.514837      6.020888 -3.145038   2007  \n",
       "11                                    5.176733      6.020355 -3.155310   2008  \n",
       "12                                    3.995766      5.987112 -3.161547   2009  \n",
       "13                                    4.249364      5.811974 -3.166993   2010  \n",
       "14                                    4.173786      5.581443 -3.172029   2011  \n",
       "15                                    4.475164      5.392113 -3.180977   2012  \n",
       "16                                    3.812514      5.559623 -3.187699   2013  \n",
       "17                                    4.061352      5.441350 -3.196392   2014  \n",
       "18                                    3.902844      5.367446 -3.196158   2015  \n",
       "19                                    3.296703      5.440320 -3.201965   2016  \n",
       "20                                         NaN      5.264028 -3.207772   2017  "
      ]
     },
     "execution_count": 70,
     "metadata": {},
     "output_type": "execute_result"
    }
   ],
   "source": [
    "cn_clean"
   ]
  },
  {
   "cell_type": "code",
   "execution_count": null,
   "metadata": {
    "collapsed": true
   },
   "outputs": [],
   "source": []
  }
 ],
 "metadata": {
  "kernelspec": {
   "display_name": "Python 3",
   "language": "python",
   "name": "python3"
  },
  "language_info": {
   "codemirror_mode": {
    "name": "ipython",
    "version": 3
   },
   "file_extension": ".py",
   "mimetype": "text/x-python",
   "name": "python",
   "nbconvert_exporter": "python",
   "pygments_lexer": "ipython3",
   "version": "3.6.3"
  }
 },
 "nbformat": 4,
 "nbformat_minor": 2
}
