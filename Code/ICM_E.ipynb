{
 "cells": [
  {
   "cell_type": "code",
   "execution_count": 1468,
   "metadata": {
    "collapsed": true
   },
   "outputs": [],
   "source": [
    "import csv\n",
    "import pandas as pd\n",
    "from sklearn.preprocessing import StandardScaler\n",
    "from sklearn.model_selection import train_test_split\n",
    "from sklearn.linear_model import LogisticRegression\n",
    "import numpy as np\n",
    "import matplotlib.pyplot as plt"
   ]
  },
  {
   "cell_type": "code",
   "execution_count": 1469,
   "metadata": {
    "collapsed": true
   },
   "outputs": [],
   "source": [
    "def read_fsi():\n",
    "    csvFile = open(\"modified_fsi-2017.csv\", \"r\")\n",
    "    reader = csv.reader(csvFile)\n",
    "    attr_dic = {}\n",
    "    score_dic = {}\n",
    "    attributes = []\n",
    "    for item in reader:\n",
    "        # ignore the first line\n",
    "        if reader.line_num == 1:\n",
    "            attributes = item[4:]\n",
    "            continue\n",
    "        attr_dic[item[0]] = [float(i) for i in item[4:]]\n",
    "        score_dic[item[0]] = float(item[3])\n",
    "    csvFile.close()\n",
    "    return attr_dic, score_dic, attributes"
   ]
  },
  {
   "cell_type": "code",
   "execution_count": 1470,
   "metadata": {
    "collapsed": true
   },
   "outputs": [],
   "source": [
    "def input_fsi():\n",
    "    attr_dic, score_dic, attributes = read_fsi()\n",
    "    for (idx, item) in enumerate(attr_dic):\n",
    "        if idx == 0:\n",
    "            attr = np.array(attr_dic[item])\n",
    "        new_attr = np.array(attr_dic[item])\n",
    "        attr = np.vstack((attr, new_attr))\n",
    "    for (idx, item) in enumerate(score_dic):\n",
    "        if idx == 0:\n",
    "            score = np.array(score_dic[item])\n",
    "        new_score = np.array(score_dic[item])\n",
    "        score = np.vstack((score, new_score))\n",
    "    return attr, score"
   ]
  },
  {
   "cell_type": "code",
   "execution_count": 1471,
   "metadata": {
    "collapsed": true
   },
   "outputs": [],
   "source": [
    "def read_epi():\n",
    "    csvFile = open(\"modified_EPI.csv\", \"r\")\n",
    "    reader = csv.reader(csvFile)\n",
    "    attr_dic = {}\n",
    "    score_dic = {}\n",
    "    attributes = []\n",
    "    for item in reader:\n",
    "        # ignore the first line\n",
    "        if reader.line_num == 1:\n",
    "            attributes = item[3:10]\n",
    "            continue\n",
    "        attr_dic[item[2]] = [float(i) for i in item[3:10]]\n",
    "        score_dic[item[2]] = float(item[10])\n",
    "    csvFile.close()\n",
    "    return attr_dic, score_dic, attributes"
   ]
  },
  {
   "cell_type": "code",
   "execution_count": 1472,
   "metadata": {
    "collapsed": true
   },
   "outputs": [],
   "source": [
    "def input_epi():\n",
    "    attr_dic, score_dic, attributes = read_epi()\n",
    "    for (idx, item) in enumerate(attr_dic):\n",
    "        if idx == 0:\n",
    "            attr = np.array(attr_dic[item])\n",
    "        new_attr = np.array(attr_dic[item])\n",
    "        attr = np.vstack((attr, new_attr))\n",
    "    for (idx, item) in enumerate(score_dic):\n",
    "        if idx == 0:\n",
    "            score = np.array(score_dic[item])\n",
    "        new_score = np.array(score_dic[item])\n",
    "        score = np.vstack((score, new_score))\n",
    "    return attr, score"
   ]
  },
  {
   "cell_type": "code",
   "execution_count": 1473,
   "metadata": {},
   "outputs": [],
   "source": [
    "attr, score = input_epi()"
   ]
  },
  {
   "cell_type": "code",
   "execution_count": 1474,
   "metadata": {
    "collapsed": true
   },
   "outputs": [],
   "source": [
    "def share_country():\n",
    "    '''\n",
    "    Find shared countries of FSI and EPI data.\n",
    "    Return:\n",
    "        FSI_data -- FSI data sorted according to countries.\n",
    "        EPI_data -- EPI data sorted according to countries.\n",
    "    Note that these two dictionaries have the same number of countries.\n",
    "    And they also have the aligned attributes based on countries order.\n",
    "    '''\n",
    "    fsi_attrdic, fsi_scoredic, fsi_attributes = read_fsi()\n",
    "    epi_attrdic, epi_scoredic, epi_attributes = read_epi()\n",
    "    share_key = []\n",
    "    cnt = 0\n",
    "    # First, delete all keys and values in fsi but not in epi\n",
    "    for (idx, item) in enumerate(fsi_attrdic):\n",
    "        epi_key = list(epi_attrdic.keys())\n",
    "        if item in epi_key:\n",
    "            if cnt == 0:\n",
    "                fsi_attr = np.array(fsi_attrdic[item]).reshape(1,-1)\n",
    "                fsi_score = np.array(fsi_scoredic[item])\n",
    "                share_key.append(item)\n",
    "            else:\n",
    "                share_key.append(item)\n",
    "                fsi_attr = np.vstack((fsi_attr, fsi_attrdic[item]))\n",
    "                fsi_score = np.vstack((fsi_score, fsi_scoredic[item]))\n",
    "            cnt += 1\n",
    "    cnt = 0\n",
    "    # Second, delete all keys and values in epi but not in fsi\n",
    "    for (idx, item) in enumerate(epi_attrdic):\n",
    "        fsi_key = list(fsi_attrdic.keys())\n",
    "        if item in fsi_key:\n",
    "            if cnt == 0:\n",
    "                epi_attr = np.array(epi_attrdic[item]).reshape(1,-1)\n",
    "                epi_score = np.array(epi_scoredic[item])\n",
    "            else:\n",
    "                epi_attr = np.vstack((epi_attr, epi_attrdic[item]))\n",
    "                epi_score = np.vstack((epi_score, epi_scoredic[item]))\n",
    "            cnt += 1\n",
    "    df = pd.DataFrame(data = {'country': share_key,\n",
    "                              'FSI': fsi_score.ravel(),\n",
    "                              'EPI': epi_score.ravel(),\n",
    "                              fsi_attributes[0]: fsi_attr[:,0].ravel(),\n",
    "                              fsi_attributes[1]: fsi_attr[:,1].ravel(), \n",
    "                              fsi_attributes[2]: fsi_attr[:,2].ravel(),\n",
    "                              fsi_attributes[3]: fsi_attr[:,3].ravel(), \n",
    "                              fsi_attributes[4]: fsi_attr[:,4].ravel(),\n",
    "                              fsi_attributes[5]: fsi_attr[:,5].ravel(), \n",
    "                              fsi_attributes[6]: fsi_attr[:,6].ravel(),\n",
    "                              fsi_attributes[7]: fsi_attr[:,7].ravel(), \n",
    "                              fsi_attributes[8]: fsi_attr[:,8].ravel(),\n",
    "                              fsi_attributes[9]: fsi_attr[:,9].ravel(),\n",
    "                              fsi_attributes[10]: fsi_attr[:,10].ravel(), \n",
    "                              fsi_attributes[11]: fsi_attr[:,11].ravel(),\n",
    "                              epi_attributes[0]: epi_attr[:,0].ravel(),\n",
    "                              epi_attributes[1]: epi_attr[:,1].ravel(), \n",
    "                              epi_attributes[2]: epi_attr[:,2].ravel(),\n",
    "                              epi_attributes[3]: epi_attr[:,3].ravel(), \n",
    "                              epi_attributes[4]: epi_attr[:,4].ravel(),\n",
    "                              epi_attributes[5]: epi_attr[:,5].ravel(), \n",
    "                              epi_attributes[6]: epi_attr[:,6].ravel()})\n",
    "    df.to_csv('share_data1.csv')\n",
    "    return share_key, fsi_attr, epi_attr"
   ]
  },
  {
   "cell_type": "code",
   "execution_count": 1475,
   "metadata": {},
   "outputs": [],
   "source": [
    "country, fsi_attr, epi_attr = share_country()"
   ]
  },
  {
   "cell_type": "code",
   "execution_count": 1476,
   "metadata": {
    "collapsed": true
   },
   "outputs": [],
   "source": [
    "def input_result():\n",
    "    csvFile = open(\"share_data.csv\", \"r\")\n",
    "    reader = csv.reader(csvFile)\n",
    "    fsi_dic = {}\n",
    "    epi_dic = {}\n",
    "    fsi = []\n",
    "    epi = []\n",
    "    for item in reader:\n",
    "        # ignore the first line\n",
    "        if reader.line_num == 1:\n",
    "            continue\n",
    "        fsi_dic[item[1]] = float(item[2])\n",
    "        epi_dic[item[1]] = float(item[3])\n",
    "        fsi.append(float(item[2]))\n",
    "        epi.append(float(item[3]))\n",
    "    csvFile.close()\n",
    "    return fsi, epi"
   ]
  },
  {
   "cell_type": "code",
   "execution_count": 1477,
   "metadata": {
    "collapsed": true
   },
   "outputs": [],
   "source": [
    "fsi, epi = input_result()"
   ]
  },
  {
   "cell_type": "code",
   "execution_count": 1478,
   "metadata": {},
   "outputs": [
    {
     "data": {
      "text/plain": [
       "<matplotlib.collections.PathCollection at 0x1a3f30b7d30>"
      ]
     },
     "execution_count": 1478,
     "metadata": {},
     "output_type": "execute_result"
    }
   ],
   "source": [
    "plt.scatter(fsi, epi)"
   ]
  },
  {
   "cell_type": "code",
   "execution_count": 1479,
   "metadata": {},
   "outputs": [
    {
     "data": {
      "image/png": "[encoded data removed]",
      "text/plain": [
       "<matplotlib.figure.Figure at 0x1a3f3090080>"
      ]
     },
     "metadata": {},
     "output_type": "display_data"
    }
   ],
   "source": [
    "plt.show()"
   ]
  },
  {
   "cell_type": "code",
   "execution_count": 1480,
   "metadata": {
    "collapsed": true
   },
   "outputs": [],
   "source": [
    "from sklearn.cluster import KMeans"
   ]
  },
  {
   "cell_type": "code",
   "execution_count": 1481,
   "metadata": {
    "collapsed": true
   },
   "outputs": [],
   "source": [
    "def cluster(data, n_clusters):\n",
    "    '''\n",
    "    Cluster data into n_clusters categories.\n",
    "    Input:\n",
    "        data -- The input data to be clustered.\n",
    "        n_clusters -- The number of categories to be clustered.\n",
    "    Return:\n",
    "        label_pred -- The category array corresponding to every data.\n",
    "    '''\n",
    "    estimator = KMeans(n_clusters = n_clusters)\n",
    "    estimator.fit(data)\n",
    "    label_pred = estimator.labels_\n",
    "    print(label_pred)\n",
    "    return label_pred"
   ]
  },
  {
   "cell_type": "code",
   "execution_count": 1482,
   "metadata": {},
   "outputs": [],
   "source": [
    "FSI_data = np.array([fsi]).reshape([-1,1])\n",
    "EPI_data = np.array([epi]).reshape([-1,1])\n",
    "#FSI_label = cluster(FSI_data, 2)\n",
    "#EPI_label = cluster(EPI_data, 2)\n",
    "FSI_label = FSI_data > 80\n",
    "EPI_label = EPI_data < 50"
   ]
  },
  {
   "cell_type": "code",
   "execution_count": 1483,
   "metadata": {
    "collapsed": true
   },
   "outputs": [],
   "source": [
    "#FSI_label = 1-FSI_label"
   ]
  },
  {
   "cell_type": "code",
   "execution_count": 1484,
   "metadata": {},
   "outputs": [
    {
     "data": {
      "text/plain": [
       "<matplotlib.collections.PathCollection at 0x1a3f31105f8>"
      ]
     },
     "execution_count": 1484,
     "metadata": {},
     "output_type": "execute_result"
    }
   ],
   "source": [
    "plt.scatter(FSI_data[FSI_label == 1], EPI_data[FSI_label == 1], c = 'r')\n",
    "plt.scatter(FSI_data[FSI_label == 0], EPI_data[FSI_label == 0], c = 'b')"
   ]
  },
  {
   "cell_type": "code",
   "execution_count": 1485,
   "metadata": {},
   "outputs": [
    {
     "data": {
      "image/png": "[encoded data removed]",
      "text/plain": [
       "<matplotlib.figure.Figure at 0x1a3f30b13c8>"
      ]
     },
     "metadata": {},
     "output_type": "display_data"
    }
   ],
   "source": [
    "plt.show()"
   ]
  },
  {
   "cell_type": "code",
   "execution_count": 1486,
   "metadata": {},
   "outputs": [
    {
     "data": {
      "text/plain": [
       "<matplotlib.collections.PathCollection at 0x1a3f316e2e8>"
      ]
     },
     "execution_count": 1486,
     "metadata": {},
     "output_type": "execute_result"
    }
   ],
   "source": [
    "plt.scatter(FSI_data[EPI_label == 1], EPI_data[EPI_label == 1], c = 'r')\n",
    "plt.scatter(FSI_data[EPI_label == 0], EPI_data[EPI_label == 0], c = 'b')"
   ]
  },
  {
   "cell_type": "code",
   "execution_count": 1487,
   "metadata": {},
   "outputs": [
    {
     "data": {
      "image/png": "[encoded data removed]",
      "text/plain": [
       "<matplotlib.figure.Figure at 0x1a3f30e5160>"
      ]
     },
     "metadata": {},
     "output_type": "display_data"
    }
   ],
   "source": [
    "plt.show()"
   ]
  },
  {
   "cell_type": "code",
   "execution_count": 1488,
   "metadata": {
    "collapsed": true
   },
   "outputs": [],
   "source": [
    "def find_bound(data, label, mode = 1):\n",
    "    '''\n",
    "    Find the boundary of clusters.\n",
    "    Input:\n",
    "        data -- The input data to be clustered.\n",
    "        label -- The label corresponding to the input data.\n",
    "        mode -- mode = 1 means we need to find the minimum bound of data with label = 1 while maximum bound for label = 0.\n",
    "                mode = 0 means we need to find the maximum bound of data with label = 0 while maximum bound for label = 1.\n",
    "    Return:\n",
    "        bound -- The boundary of 1-dim cluster.\n",
    "    '''\n",
    "    if mode:\n",
    "        label1_min = min(data[label == 1])\n",
    "        label0_max = max(data[label == 0])\n",
    "        bound = (label1_min+label0_max)/2\n",
    "    else:\n",
    "        label1_max = max(data[label == 1])\n",
    "        label0_min = min(data[label == 0])\n",
    "        bound = (label1_max+label0_min)/2\n",
    "    return bound"
   ]
  },
  {
   "cell_type": "code",
   "execution_count": 1489,
   "metadata": {},
   "outputs": [
    {
     "data": {
      "text/plain": [
       "Text(0,0.5,'EPI')"
      ]
     },
     "execution_count": 1489,
     "metadata": {},
     "output_type": "execute_result"
    }
   ],
   "source": [
    "FSI_bound = find_bound(FSI_data, FSI_label)\n",
    "EPI_bound = find_bound(EPI_data, EPI_label)\n",
    "plt.scatter(FSI_data[(FSI_label == 1) & (EPI_label == 1)], EPI_data[(FSI_label == 1) & (EPI_label == 1)], c = 'r')\n",
    "plt.scatter(FSI_data[(FSI_label == 1) & (EPI_label == 0)], EPI_data[(FSI_label == 1) & (EPI_label == 0)], c = 'b')\n",
    "plt.scatter(FSI_data[(FSI_label == 0) & (EPI_label == 1)], EPI_data[(FSI_label == 0) & (EPI_label == 1)], c = 'm')\n",
    "plt.scatter(FSI_data[(FSI_label == 0) & (EPI_label == 0)], EPI_data[(FSI_label == 0) & (EPI_label == 0)], c = 'y')\n",
    "FSI_bound_y = np.linspace(min(EPI_data), max(EPI_data), 1000)\n",
    "FSI_bound_x = np.full(FSI_bound_y.shape, FSI_bound)\n",
    "EPI_bound_x = np.linspace(min(FSI_data), max(FSI_data), 1000)\n",
    "EPI_bound_y = np.full(EPI_bound_x.shape, EPI_bound)\n",
    "plt.plot(FSI_bound_x, FSI_bound_y, c = 'k')\n",
    "plt.plot(EPI_bound_x, EPI_bound_y, c = 'k')\n",
    "plt.xlabel('FSI')\n",
    "plt.ylabel('EPI')"
   ]
  },
  {
   "cell_type": "code",
   "execution_count": 1490,
   "metadata": {},
   "outputs": [
    {
     "data": {
      "image/png": "[encoded data removed]",
      "text/plain": [
       "<matplotlib.figure.Figure at 0x1a3f31a1a20>"
      ]
     },
     "metadata": {},
     "output_type": "display_data"
    }
   ],
   "source": [
    "plt.show()"
   ]
  },
  {
   "cell_type": "code",
   "execution_count": 1491,
   "metadata": {
    "collapsed": true
   },
   "outputs": [],
   "source": [
    "def logistic_util(X, Y, test_size, random_state):\n",
    "    '''\n",
    "    Implement logistic regression with sklearn.\n",
    "    Input:\n",
    "        X -- The independent variables set.\n",
    "        Y -- The dependent variable/target set.\n",
    "        test_size -- Test size of the whole set.\n",
    "        random_state -- Param for train_test_split.\n",
    "    Output:\n",
    "        lr -- Logistic Regression Result.\n",
    "    '''\n",
    "    #X_train, X_test, Y_train, Y_test = train_test_split(X, Y, test_size = test_size, random_state = random_state)\n",
    "    #Y_train, Y_test = Y_train.ravel(), Y_test.ravel()\n",
    "    #print(X_train.shape, X_test.shape, Y_train.shape, Y_test.shape)\n",
    "    # Normalize the data\n",
    "    X_train=X\n",
    "    Y_train=Y.flatten()\n",
    "    sc = StandardScaler()\n",
    "    sc.fit(X_train)\n",
    "    X_train_std = np.array(list(sc.transform(X_train)))\n",
    "    #X_test_std = np.array(list(sc.transform(X_test)))\n",
    "    # Combine the train and test data\n",
    "    #X_combined_std = np.vstack((X_train_std, X_test_std))\n",
    "    #Y_combined = np.hstack((Y_train, Y_test))\n",
    "    # Implement logistic regression\n",
    "    lr = LogisticRegression(C = 0.01, random_state = 0)\n",
    "    lr.fit(X_train_std, Y_train)\n",
    "    #print(lr.predict_proba(X_test_std[2,:].reshape(1,-1))[0,0], Y_test[2])\n",
    "    #scores = cross_val_score(lr, X_combined_std, Y_combined, cv = 5, scoring = 'accuracy')\n",
    "    #print(scores)\n",
    "    return lr,X_train_std, Y# X_combined_std, Y_combined\n",
    "    '''\n",
    "    plot_decision_regions(X_combined_std, Y_combined, clf = lr, res = 0.02)\n",
    "    plt.xlabel('petal length')\n",
    "    plt.ylabel('petal width')\n",
    "    plt.legend(loc = 'upper left')\n",
    "    plt.show()\n",
    "    '''"
   ]
  },
  {
   "cell_type": "code",
   "execution_count": 1492,
   "metadata": {},
   "outputs": [],
   "source": [
    "from sklearn.cross_validation import cross_val_score"
   ]
  },
  {
   "cell_type": "code",
   "execution_count": 1493,
   "metadata": {},
   "outputs": [],
   "source": [
    "lr1, fsi_attr_std, _ = logistic_util(fsi_attr, EPI_label, 0.1, 0)\n",
    "probE0_H = lr1.predict_proba(fsi_attr_std)[:,0]\n",
    "probE1_H = np.ones(probE0_H.shape)-probE0_H"
   ]
  },
  {
   "cell_type": "code",
   "execution_count": 1494,
   "metadata": {},
   "outputs": [],
   "source": [
    "lr2, fsi_attr_std, _ = logistic_util(fsi_attr, (EPI_label == 0) & (FSI_label == 1), 0.1, 0)\n",
    "prob_other = lr2.predict_proba(fsi_attr_std)[:,0]\n",
    "probE0F1_H = np.ones(prob_other.shape)-prob_other"
   ]
  },
  {
   "cell_type": "code",
   "execution_count": 1495,
   "metadata": {},
   "outputs": [],
   "source": [
    "lr3, fsi_attr_std, _ = logistic_util(fsi_attr, (EPI_label == 1) & (FSI_label == 1), 0.1, 0)\n",
    "prob_other = lr3.predict_proba(fsi_attr_std)[:,0]\n",
    "probE1F1_H = np.ones(prob_other.shape)-prob_other"
   ]
  },
  {
   "cell_type": "code",
   "execution_count": 1496,
   "metadata": {},
   "outputs": [
    {
     "name": "stdout",
     "output_type": "stream",
     "text": [
      "(148,) (148,)\n"
     ]
    }
   ],
   "source": [
    "probF1_E0H = probE0F1_H / probE0_H\n",
    "probF1_E1H = probE1F1_H / probE1_H\n",
    "print(probF1_E0H.shape, probF1_E1H.shape)"
   ]
  },
  {
   "cell_type": "code",
   "execution_count": 1497,
   "metadata": {},
   "outputs": [
    {
     "name": "stdout",
     "output_type": "stream",
     "text": [
      "0.312127275482 [False] 0.888897051004\n"
     ]
    }
   ],
   "source": [
    "fragile_value = []\n",
    "for i in range(len(fsi_attr_std)):\n",
    "    if EPI_label[i] == 1:\n",
    "        fragile_value.append(probF1_E1H[i])\n",
    "    else:\n",
    "        fragile_value.append(probF1_E0H[i])\n",
    "print(fragile_value[129], EPI_label[129], probF1_E1H[129])"
   ]
  },
  {
   "cell_type": "code",
   "execution_count": 1498,
   "metadata": {},
   "outputs": [],
   "source": [
    "fragile_value = np.array(fragile_value).reshape(-1,1)\n",
    "sc = StandardScaler()\n",
    "sc.fit(np.log(fragile_value))\n",
    "fragile_std = (255*(np.array(list(sc.transform(fragile_value)))+1)/2).astype(np.uint8)\n",
    "fragile_std = fragile_std.reshape(len(fragile_std))"
   ]
  },
  {
   "cell_type": "code",
   "execution_count": 1499,
   "metadata": {},
   "outputs": [],
   "source": [
    "import seaborn as sn\n",
    "pal = np.array(sn.color_palette(\"Blues\", 155))\n",
    "sorted_idx = sorted(range(len(fragile_value)), key=lambda k: fragile_value[k])\n",
    "color = pal[sorted_idx]"
   ]
  },
  {
   "cell_type": "code",
   "execution_count": 1500,
   "metadata": {},
   "outputs": [
    {
     "data": {
      "text/plain": [
       "Text(0,0.5,'EPI')"
      ]
     },
     "execution_count": 1500,
     "metadata": {},
     "output_type": "execute_result"
    }
   ],
   "source": [
    "FSI_bound = find_bound(FSI_data, FSI_label)\n",
    "EPI_bound = find_bound(EPI_data, EPI_label)\n",
    "plt.scatter(FSI_data[(FSI_label == 1) & (EPI_label == 1)], EPI_data[(FSI_label == 1) & (EPI_label == 1)], c = color, cmap = plt.cm.Blues)\n",
    "plt.scatter(FSI_data[(FSI_label == 1) & (EPI_label == 0)], EPI_data[(FSI_label == 1) & (EPI_label == 0)], c = color, cmap = plt.cm.Blues)\n",
    "plt.scatter(FSI_data[(FSI_label == 0) & (EPI_label == 1)], EPI_data[(FSI_label == 0) & (EPI_label == 1)], c = color, cmap = plt.cm.Blues)\n",
    "plt.scatter(FSI_data[(FSI_label == 0) & (EPI_label == 0)], EPI_data[(FSI_label == 0) & (EPI_label == 0)], c = color, cmap = plt.cm.Blues)\n",
    "FSI_bound_y = np.linspace(min(EPI_data), max(EPI_data), 1000)\n",
    "FSI_bound_x = np.full(FSI_bound_y.shape, FSI_bound)\n",
    "EPI_bound_x = np.linspace(min(FSI_data), max(FSI_data), 1000)\n",
    "EPI_bound_y = np.full(EPI_bound_x.shape, EPI_bound)\n",
    "plt.plot(FSI_bound_x, FSI_bound_y, c = 'k')\n",
    "plt.plot(EPI_bound_x, EPI_bound_y, c = 'k')\n",
    "plt.xlabel('FSI')\n",
    "plt.ylabel('EPI')"
   ]
  },
  {
   "cell_type": "code",
   "execution_count": 1501,
   "metadata": {
    "scrolled": true
   },
   "outputs": [
    {
     "data": {
      "image/png": "[encoded data removed]",
      "text/plain": [
       "<matplotlib.figure.Figure at 0x1a3f3210f98>"
      ]
     },
     "metadata": {},
     "output_type": "display_data"
    }
   ],
   "source": [
    "plt.show()"
   ]
  },
  {
   "cell_type": "code",
   "execution_count": 1502,
   "metadata": {},
   "outputs": [
    {
     "name": "stdout",
     "output_type": "stream",
     "text": [
      "(148,)\n",
      "['Central African Republic' \"Cote d'Ivoire\" 'Egypt' 'Guatemala' 'Lebanon'\n",
      " 'Nigeria' 'Philippines' 'Sri Lanka' 'Sudan' 'Tanzania' 'Zambia']\n"
     ]
    }
   ],
   "source": [
    "country = np.array(country)\n",
    "print(country.shape)\n",
    "print(country[fragile_value.reshape(len(country)) > 1.0])"
   ]
  },
  {
   "cell_type": "code",
   "execution_count": 1503,
   "metadata": {},
   "outputs": [],
   "source": [
    "df_fragile = pd.DataFrame(data={'country':country,'fragility':fragile_value.flatten()})"
   ]
  },
  {
   "cell_type": "code",
   "execution_count": 1504,
   "metadata": {
    "scrolled": true
   },
   "outputs": [],
   "source": [
    "df_fragile['FSI']=FSI_data.flatten()\n",
    "df_fragile['EPI']=EPI_data.flatten()"
   ]
  },
  {
   "cell_type": "code",
   "execution_count": 1505,
   "metadata": {},
   "outputs": [
    {
     "data": {
      "image/png": "[encoded data removed]",
      "text/plain": [
       "<matplotlib.figure.Figure at 0x1a3f2d558d0>"
      ]
     },
     "metadata": {},
     "output_type": "display_data"
    }
   ],
   "source": [
    "plt.scatter(df_fragile.EPI+df_fragile.FSI,df_fragile.fragility)\n",
    "plt.show()"
   ]
  },
  {
   "cell_type": "code",
   "execution_count": 1506,
   "metadata": {},
   "outputs": [
    {
     "data": {
      "image/png": "[encoded data removed]",
      "text/plain": [
       "<matplotlib.figure.Figure at 0x1a3f326fe80>"
      ]
     },
     "metadata": {},
     "output_type": "display_data"
    }
   ],
   "source": [
    "plt.scatter(df_fragile.FSI, (df_fragile.fragility))\n",
    "plt.show()"
   ]
  },
  {
   "cell_type": "code",
   "execution_count": 1507,
   "metadata": {},
   "outputs": [
    {
     "data": {
      "image/png": "[encoded data removed]",
      "text/plain": [
       "<matplotlib.figure.Figure at 0x1a3f42d40f0>"
      ]
     },
     "metadata": {},
     "output_type": "display_data"
    }
   ],
   "source": [
    "plt.scatter(df_fragile.EPI, (df_fragile.fragility))\n",
    "plt.show()"
   ]
  },
  {
   "cell_type": "code",
   "execution_count": 1508,
   "metadata": {},
   "outputs": [],
   "source": [
    "df_fragile['fragility_log']=np.log(df_fragile.fragility)"
   ]
  },
  {
   "cell_type": "code",
   "execution_count": 1509,
   "metadata": {},
   "outputs": [
    {
     "data": {
      "text/html": [
       "<div>\n",
       "<style>\n",
       "    .dataframe thead tr:only-child th {\n",
       "        text-align: right;\n",
       "    }\n",
       "\n",
       "    .dataframe thead th {\n",
       "        text-align: left;\n",
       "    }\n",
       "\n",
       "    .dataframe tbody tr th {\n",
       "        vertical-align: top;\n",
       "    }\n",
       "</style>\n",
       "<table border=\"1\" class=\"dataframe\">\n",
       "  <thead>\n",
       "    <tr style=\"text-align: right;\">\n",
       "      <th></th>\n",
       "      <th>country</th>\n",
       "      <th>fragility</th>\n",
       "      <th>FSI</th>\n",
       "      <th>EPI</th>\n",
       "      <th>fragility_log</th>\n",
       "    </tr>\n",
       "  </thead>\n",
       "  <tbody>\n",
       "  </tbody>\n",
       "</table>\n",
       "</div>"
      ],
      "text/plain": [
       "Empty DataFrame\n",
       "Columns: [country, fragility, FSI, EPI, fragility_log]\n",
       "Index: []"
      ]
     },
     "execution_count": 1509,
     "metadata": {},
     "output_type": "execute_result"
    }
   ],
   "source": [
    "df_fragile[df_fragile['country']=='Switzerland'] \n",
    "df_fragile[df_fragile['country']=='United States of America']"
   ]
  },
  {
   "cell_type": "code",
   "execution_count": 1510,
   "metadata": {
    "collapsed": true
   },
   "outputs": [],
   "source": [
    "def reverse_num(FSI_data, EPI_data, fragile):\n",
    "    cnt = 0\n",
    "    rate = []\n",
    "    for i in range(len(FSI_data)):\n",
    "        mask = (EPI_data > EPI_data[i]+5) & (FSI_data+1 < FSI_data[i]) & (fragile > fragile[i])\n",
    "        rate.append(1.0*sum(mask)/(len(FSI_data)-1))\n",
    "    avg_rate = np.mean(rate)\n",
    "    print(avg_rate)"
   ]
  },
  {
   "cell_type": "code",
   "execution_count": 1511,
   "metadata": {},
   "outputs": [
    {
     "name": "stdout",
     "output_type": "stream",
     "text": [
      "0.0147545504688\n"
     ]
    }
   ],
   "source": [
    "reverse_num(df_fragile.FSI,df_fragile.EPI,df_fragile.fragility)"
   ]
  },
  {
   "cell_type": "code",
   "execution_count": 1514,
   "metadata": {},
   "outputs": [
    {
     "data": {
      "text/plain": [
       "51"
      ]
     },
     "execution_count": 1514,
     "metadata": {},
     "output_type": "execute_result"
    }
   ],
   "source": [
    "(df_fragile.FSI>80).sum()"
   ]
  },
  {
   "cell_type": "code",
   "execution_count": 1515,
   "metadata": {},
   "outputs": [
    {
     "data": {
      "text/plain": [
       "49"
      ]
     },
     "execution_count": 1515,
     "metadata": {},
     "output_type": "execute_result"
    }
   ],
   "source": [
    "(df_fragile.EPI<50).sum()"
   ]
  },
  {
   "cell_type": "code",
   "execution_count": null,
   "metadata": {
    "collapsed": true
   },
   "outputs": [],
   "source": []
  }
 ],
 "metadata": {
  "kernelspec": {
   "display_name": "Python 3",
   "language": "python",
   "name": "python3"
  },
  "language_info": {
   "codemirror_mode": {
    "name": "ipython",
    "version": 3
   },
   "file_extension": ".py",
   "mimetype": "text/x-python",
   "name": "python",
   "nbconvert_exporter": "python",
   "pygments_lexer": "ipython3",
   "version": "3.6.3"
  }
 },
 "nbformat": 4,
 "nbformat_minor": 2
}
