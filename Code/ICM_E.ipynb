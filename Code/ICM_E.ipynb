{
 "cells": [
  {
   "cell_type": "code",
   "execution_count": 140,
   "metadata": {},
   "outputs": [],
   "source": [
    "import csv\n",
    "import pandas as pd\n",
    "from sklearn.preprocessing import StandardScaler\n",
    "from sklearn.model_selection import train_test_split\n",
    "from sklearn.linear_model import LogisticRegression\n",
    "import numpy as np\n",
    "import matplotlib.pyplot as plt"
   ]
  },
  {
   "cell_type": "code",
   "execution_count": 147,
   "metadata": {},
   "outputs": [],
   "source": [
    "def read_fsi():\n",
    "    csvFile = open(\"modified_fsi-2017.csv\", \"r\")\n",
    "    reader = csv.reader(csvFile)\n",
    "    attr_dic = {}\n",
    "    score_dic = {}\n",
    "    attributes = []\n",
    "    for item in reader:\n",
    "        # ignore the first line\n",
    "        if reader.line_num == 1:\n",
    "            attributes = item[4:]\n",
    "            continue\n",
    "        attr_dic[item[0]] = [float(i) for i in item[4:]]\n",
    "        score_dic[item[0]] = float(item[3])\n",
    "    csvFile.close()\n",
    "    return attr_dic, score_dic, attributes"
   ]
  },
  {
   "cell_type": "code",
   "execution_count": 148,
   "metadata": {},
   "outputs": [],
   "source": [
    "def input_fsi():\n",
    "    attr_dic, score_dic, attributes = read_fsi()\n",
    "    for (idx, item) in enumerate(attr_dic):\n",
    "        if idx == 0:\n",
    "            attr = np.array(attr_dic[item])\n",
    "        new_attr = np.array(attr_dic[item])\n",
    "        attr = np.vstack((attr, new_attr))\n",
    "    for (idx, item) in enumerate(score_dic):\n",
    "        if idx == 0:\n",
    "            score = np.array(score_dic[item])\n",
    "        new_score = np.array(score_dic[item])\n",
    "        score = np.vstack((score, new_score))\n",
    "    return attr, score"
   ]
  },
  {
   "cell_type": "code",
   "execution_count": 153,
   "metadata": {
    "collapsed": true
   },
   "outputs": [],
   "source": [
    "def read_epi():\n",
    "    csvFile = open(\"modified_EPI.csv\", \"r\")\n",
    "    reader = csv.reader(csvFile)\n",
    "    attr_dic = {}\n",
    "    score_dic = {}\n",
    "    attributes = []\n",
    "    for item in reader:\n",
    "        # ignore the first line\n",
    "        if reader.line_num == 1:\n",
    "            attributes = item[3:10]\n",
    "            continue\n",
    "        attr_dic[item[2]] = [float(i) for i in item[3:10]]\n",
    "        score_dic[item[2]] = float(item[10])\n",
    "    csvFile.close()\n",
    "    return attr_dic, score_dic, attributes"
   ]
  },
  {
   "cell_type": "code",
   "execution_count": 154,
   "metadata": {
    "collapsed": true
   },
   "outputs": [],
   "source": [
    "def input_epi():\n",
    "    attr_dic, score_dic, attributes = read_epi()\n",
    "    for (idx, item) in enumerate(attr_dic):\n",
    "        if idx == 0:\n",
    "            attr = np.array(attr_dic[item])\n",
    "        new_attr = np.array(attr_dic[item])\n",
    "        attr = np.vstack((attr, new_attr))\n",
    "    for (idx, item) in enumerate(score_dic):\n",
    "        if idx == 0:\n",
    "            score = np.array(score_dic[item])\n",
    "        new_score = np.array(score_dic[item])\n",
    "        score = np.vstack((score, new_score))\n",
    "    return attr, score"
   ]
  },
  {
   "cell_type": "code",
   "execution_count": 116,
   "metadata": {},
   "outputs": [
    {
     "name": "stdout",
     "output_type": "stream",
     "text": [
      "{'Afghanistan': [34.656032, 2.689163473, 53.08340532, 60.28705023, 652860.0, 1739.583177, 46.8, 37.74, 168.0], 'Albania': [2.876101, -0.159880412, 104.9671898, 32.66991645, 27400.0, 11359.09916, 68.9, 65.46, 40.0], 'Algeria': [40.606052, 1.825463432, 17.04889491, 565.284, 2381741.0, 13921.17608, 68.8, 57.18, 88.0], 'Angola': [28.813463, 3.367572131, 23.11178551, 172.438, 1246700.0, 5984.632947, 50.2, 37.44, 170.0], 'Argentina': [43.84743, 0.984741906, 16.0220668, 810.714, 2736690.0, 18489.43028, 72.5, 59.3, 74.0], 'Armenia': [2.924816, 0.269302288, 102.7332631, 23.95494292, 28470.0, 8190.239289, 71.7, 62.07, 63.0], 'Australia': [24.127159, 1.410063834, 3.140616612, 1071.58, 7682300.0, 44413.84914, 75.9, 74.12, 21.0], 'Austria': [8.747358, 1.314006681, 105.9990306, 388.015, 82523.0, 44357.965, 81.4, 78.97, 8.0], 'Azerbaijan': [9.762274, 1.163574223, 118.0972624, 156.138, 82663.0, 15994.01943, 70.8, 62.33, 59.0], 'Bahrain': [1.425171, 3.812796793, 1848.470817, 64.33731963, 771.0, 45143.579, 64.6, 55.15, 96.0], 'Bangladesh': [162.95156, 1.080165239, 1251.836521, 540.894, 130170.0, 3319.354537, 56.2, 29.56, 179.0], 'Barbados': [0.284996, 0.273711418, 662.7813953, 4.773832887, 430.0, 16750.52593, 66.0, 55.76, 93.0], 'Belarus': [9.50712, 0.184284342, 46.8538761, 159.171, 202910.0, 16742.2942, 77.1, 64.98, 44.0], 'Belgium': [11.348159, 0.653895349, 374.7740753, 477.288, 30280.0, 42058.62819, 80.0, 77.38, 15.0], 'Belize': [0.366954, 2.111220431, 16.0874178, 2.879126894, 22810.0, 7846.015833, 66.0, 57.79, 81.0], 'Benin': [10.872298, 2.763534181, 96.41981199, 21.85289913, 112760.0, 2009.961384, 49.5, 38.17, 167.0], 'Bhutan': [0.797765, 1.309546955, 20.92937534, 6.584188915, 38117.0, 8253.293783, 65.5, 47.22, 131.0], 'Bolivia': [10.887882, 1.510046906, 10.05066187, 73.03543539, 1083300.0, 6707.956184, 64.7, 55.98, 92.0], 'Bosnia and Herzegovina': [3.516816, -0.54290805, 68.6878125, 39.8364244, 51200.0, 11327.41218, 65.5, 41.84, 158.0], 'Botswana': [2.25026, 1.841666401, 3.970603286, 35.38137144, 566730.0, 15723.23707, 58.3, 51.7, 113.0], 'Brazil': [207.652865, 0.817555711, 24.84438703, 2912.06, 8358140.0, 14023.69286, 69.5, 60.7, 69.0], 'Bulgaria': [7.127822, -0.701382098, 65.65790346, 126.835, 108560.0, 17794.3557, 72.5, 67.85, 30.0], 'Burkina Faso': [18.646433, 2.915614034, 68.1521674, 30.62090813, 273600.0, 1642.185834, 49.9, 42.83, 154.0], 'Burundi': [10.524117, 3.135333146, 409.8176402, 7.589746511, 25680.0, 721.1765615, 51.8, 27.43, 180.0], \"C么te d'Ivoire\": [23.695919, 2.510353568, 74.51546855, 81.15293531, 318000.0, 3424.76421, 53.3, 45.25, 139.0], 'Cambodia': [15.76237, 1.564833471, 89.29509404, 54.61859125, 176520.0, 3465.125565, 58.2, 43.23, 150.0], 'Cameroon': [23.439189, 2.613585149, 49.58471156, 78.44669479, 472710.0, 3346.817793, 52.8, 40.81, 161.0], 'Canada': [36.286425, 1.213891076, 3.990365107, 1563.5, 9093510.0, 43087.73873, 78.0, 72.18, 25.0], 'Central African Republic': [4.594621, 1.06165489, 7.375230344, 2.976765097, 622980.0, 647.8804448, 36.7, 36.42, 171.0], 'Chad': [14.452543, 3.114092441, 11.47755956, 26.67816128, 1259200.0, 1845.914679, 41.5, 45.34, 137.0], 'Chile': [17.909754, 0.824579726, 24.08740175, 406.672, 743532.0, 22706.73288, 71.6, 57.49, 84.0], 'China': [1378.665, 0.541478512, 146.850662, 19852.0, 9388211.0, 14399.43714, 67.1, 50.74, 120.0], 'Colombia': [48.653419, 0.876786632, 43.85166201, 638.543, 1109500.0, 13124.31918, 64.8, 65.22, 42.0], 'Costa Rica': [4.857274, 1.022696047, 95.12875049, 74.8092691, 51060.0, 15401.4925, 69.8, 67.85, 30.0], 'Croatia': [4.1706, -0.788234222, 74.52823445, 89.86469266, 55960.0, 21547.18569, 76.9, 65.45, 41.0], 'Cuba': [11.475982, 0.126866978, 110.3247645, 239.3704429, 104020.0, 20858.38431, 75.5, 63.42, 55.0], 'Cyprus': [1.170125, 0.784179797, 126.6369048, 26.68059236, 9240.0, 22801.48903, 70.6, 72.6, 24.0], 'Czech Republic': [10.561633, 0.147567084, 136.7909986, 331.137, 77210.0, 31352.82205, 81.9, 67.68, 33.0], 'Dem. Rep. Congo': [78.736153, 3.278533569, 34.73066452, 58.57137876, 2267050.0, 743.8943424, 42.7, 30.41, 178.0], 'Denmark': [5.731118, 0.834637611, 135.6092471, 263.438, 42262.0, 45966.24952, 84.2, 81.6, 3.0], 'Djibouti': [0.942333, 1.595864748, 40.65284728, 3.178944562, 23180.0, 3373.483218, 49.6, 40.04, 163.0], 'Dominican Republic': [10.648791, 1.137056669, 220.4262265, 150.136, 48310.0, 14098.87752, 67.2, 64.71, 46.0], 'Ecuador': [16.385068, 1.479917408, 65.97305524, 170.802, 248360.0, 10424.24725, 69.0, 57.42, 87.0], 'Egypt': [95.688681, 2.016789456, 96.12605455, 987.436, 995450.0, 10319.25605, 64.9, 61.21, 66.0], 'El Salvador': [6.344722, 0.509497673, 306.2124517, 50.69431137, 20720.0, 7989.997256, 62.9, 53.91, 106.0], 'Estonia': [1.316481, 0.08161442, 31.05640481, 36.98661617, 42390.0, 28095.06265, 78.6, 64.31, 48.0], 'Ethiopia': [102.403196, 2.501821378, 102.403196, 164.694, 1000000.0, 1608.289648, 53.5, 44.78, 141.0], 'Finland': [5.495096, 0.283654477, 18.0825167, 217.183, 303890.0, 39523.05838, 84.0, 78.64, 10.0], 'France': [66.896109, 0.407491036, 122.1719547, 2545.99, 547557.0, 38058.86528, 80.3, 83.95, 2.0], 'Gabon': [1.979786, 2.537808568, 7.683416773, 33.23268922, 257670.0, 16786.00072, 65.1, 45.05, 140.0], 'Gambia': [2.038501, 3.03358022, 201.4329051, 3.169632857, 10120.0, 1554.884132, 47.8, 42.42, 156.0], 'Georgia': [3.7193, 0.059168417, 64.96028552, 34.50307669, 69490.0, 9276.766243, 68.6, 55.69, 94.0], 'Germany': [82.667685, 1.193866758, 236.9380482, 3658.9, 348900.0, 44260.34187, 81.7, 78.37, 13.0], 'Ghana': [28.206728, 2.236737965, 123.9638217, 112.268, 227540.0, 3980.185153, 59.9, 49.66, 124.0], 'Greece': [10.74674, -0.687542545, 83.37269201, 260.905, 128900.0, 24277.59488, 72.9, 73.6, 22.0], 'Guatemala': [16.582469, 2.010367845, 154.7449515, 122.159, 107160.0, 7366.755819, 58.3, 52.33, 110.0], 'Guinea': [12.395924, 2.48622533, 50.44735471, 22.60196905, 245720.0, 1823.338788, 48.8, 46.62, 134.0], 'Guyana': [0.773303, 0.621217097, 3.928387097, 5.619078875, 196850.0, 7266.335285, 64.7, 47.93, 128.0], 'Haiti': [10.847334, 1.264238966, 393.5897678, 17.94107659, 27560.0, 1653.961848, 44.1, 33.74, 174.0], 'Honduras': [9.112867, 1.682462584, 81.44487443, 40.0261354, 111890.0, 4392.265947, 61.7, 51.51, 114.0], 'Hungary': [9.817958, -0.255022953, 108.4497736, 251.868, 90530.0, 25653.80703, 78.0, 65.01, 43.0], 'Iceland': [0.334252, 1.033589277, 3.334184539, 15.13374348, 100250.0, 45276.44855, 79.3, 78.57, 11.0], 'India': [1324.171354, 1.148214693, 445.3705797, 8067.71, 2973190.0, 6092.648037, 58.1, 30.57, 177.0], 'Indonesia': [261.115456, 1.137493711, 144.1376574, 2810.79, 1811570.0, 10764.54854, 62.9, 46.92, 133.0], 'Iran': [80.277428, 1.1487886, 49.28745058, 1484.95, 1628760.0, 18497.72766, 64.7, 58.16, 80.0], 'Iraq': [37.202572, 2.965163696, 85.65705471, 598.475, 434320.0, 16086.92539, 56.6, 43.2, 152.0], 'Ireland': [4.773095, 2.037334235, 69.28574539, 300.666, 68890.0, 62991.83234, 77.9, 78.77, 9.0], 'Israel': [8.5471, 1.973219653, 394.9676525, 279.355, 21640.0, 32684.18528, 70.1, 75.01, 19.0], 'Italy': [60.60059, -0.214276426, 206.026348, 2103.77, 294140.0, 34715.33858, 75.5, 76.96, 16.0], 'Jamaica': [2.881355, 0.327499919, 266.0530933, 23.56838997, 10830.0, 8179.62034, 66.6, 58.58, 78.0], 'Japan': [126.994511, -0.115284177, 348.350096, 4857.83, 364560.0, 38252.2832, 80.2, 74.69, 20.0], 'Jordan': [9.455802, 3.185854645, 106.5082451, 79.33043971, 88780.0, 8389.604574, 66.0, 62.2, 62.0], 'Kazakhstan': [17.797032, 1.431250879, 6.592225803, 417.217, 2699700.0, 23443.06624, 71.1, 54.56, 101.0], 'Kenya': [48.461567, 2.560925398, 85.14876305, 141.779, 569140.0, 2925.59669, 54.9, 47.25, 130.0], 'Kuwait': [4.052584, 2.924206194, 227.4177329, 279.068, 17820.0, 68861.74352, 62.4, 62.28, 61.0], 'Kyrgyzstan': [6.0827, 2.089846482, 31.71376434, 20.02405521, 191800.0, 3291.96824, 70.7, 54.86, 99.0], 'Laos': [6.758353, 1.406426845, 29.28229203, 38.75592581, 230800.0, 5734.522274, 61.4, 42.94, 153.0], 'Latvia': [1.960424, -0.868629779, 31.52820843, 46.49657079, 62180.0, 23717.60945, 75.2, 66.12, 37.0], 'Lebanon': [6.006668, 2.617573568, 587.1620723, 79.69578445, 10230.0, 13267.8857, 64.9, 61.08, 67.0], 'Lesotho': [2.203821, 1.332723919, 72.58962451, 6.03043638, 30360.0, 2736.354895, 53.0, 33.78, 173.0], 'Liberia': [4.613823, 2.50636265, 47.9009863, 3.476780367, 96320.0, 753.557379, 42.8, 41.62, 160.0], 'Lithuania': [2.872298, -1.129000251, 45.84673583, 80.14887985, 62650.0, 27904.09625, 73.6, 69.33, 29.0], 'Luxembourg': [0.582972, 2.319777521, 225.0857143, 55.24532687, 2590.0, 94764.97477, 75.0, 79.12, 7.0], 'Macedonia': [2.081206, 0.091238733, 82.522046, 27.16968015, 25220.0, 13054.77697, 69.4, 61.06, 68.0], 'Madagascar': [24.894551, 2.688870712, 42.78884668, 34.76946297, 581800.0, 1396.669615, 43.5, 33.73, 175.0], 'Malawi': [18.091575, 2.904818605, 191.8919707, 19.60767469, 94280.0, 1083.801421, 48.0, 49.21, 127.0], 'Malaysia': [31.187265, 1.499323358, 94.92395374, 800.542, 328550.0, 25668.87478, 69.7, 59.22, 75.0], 'Mali': [17.994837, 2.971968633, 14.74756964, 35.46934392, 1220190.0, 1971.08448, 48.5, 43.71, 147.0], 'Malta': [0.436947, 1.167802724, 1365.459375, 15.61795686, 320.0, 35743.36671, 77.0, 80.9, 4.0], 'Mauritania': [4.301018, 2.798060125, 4.172909673, 15.36444295, 1030700.0, 3572.28055, 51.1, 39.24, 166.0], 'Mauritius': [1.263473, 0.068723138, 622.4004926, 24.72299486, 2030.0, 19567.48966, 62.1, 56.63, 90.0], 'Mexico': [127.540423, 1.301730941, 65.60890095, 2146.82, 1943950.0, 16832.4673, 69.1, 59.69, 72.0], 'Moldova': [3.552, -0.059329244, 123.5587139, 17.56228027, 32870.0, 4944.335661, 74.2, 51.97, 112.0], 'Mongolia': [3.027398, 1.682874029, 1.948684312, 34.39428811, 1553560.0, 11361.00642, 64.2, 57.51, 83.0], 'Montenegro': [0.622781, 0.099924503, 46.30342007, 9.793141792, 13450.0, 15724.8564, 67.3, 61.33, 65.0], 'Morocco': [35.276786, 1.351228522, 79.04276496, 260.949, 446300.0, 7397.187488, 66.7, 63.47, 54.0], 'Mozambique': [28.829476, 2.881207724, 36.6609985, 32.52770083, 786380.0, 1128.279294, 49.2, 46.37, 135.0], 'Myanmar': [52.885223, 0.914735351, 80.9781696, 280.559, 653080.0, 5305.054684, 59.5, 45.32, 138.0], 'Namibia': [2.479713, 2.207998983, 3.01195569, 24.43021954, 823290.0, 9852.035111, 59.3, 58.46, 79.0], 'Nepal': [28.982771, 1.132886385, 202.1818696, 66.59233737, 143350.0, 2297.652539, 61.6, 31.44, 176.0], 'Netherlands': [17.018408, 0.4622438, 505.1471653, 805.017, 33690.0, 47302.72068, 79.9, 75.46, 18.0], 'New Zealand': [4.6927, 2.088702607, 17.82195891, 165.518, 263310.0, 35271.37895, 77.6, 75.96, 17.0], 'Nicaragua': [6.149928, 1.110103051, 51.10460362, 31.59120583, 120340.0, 5136.841574, 63.1, 55.04, 97.0], 'Niger': [20.672987, 3.826066467, 16.32034973, 18.90476514, 1266700.0, 914.4670358, 44.8, 35.74, 172.0], 'Nigeria': [185.98964, 2.619033526, 204.2114255, 1010.8, 910770.0, 5434.71131, 48.6, 54.76, 100.0], 'Norway': [5.232929, 0.850589917, 14.32717491, 335.844, 365245.0, 64178.97128, 83.9, 77.49, 14.0], 'Oman': [4.424762, 5.217720553, 14.29648465, 3.756071553, 309500.0, 848.8753864, 64.3, 51.32, 116.0], 'Pakistan': [193.203476, 1.998562594, 250.6271741, 937.932, 770880.0, 4854.633154, 55.6, 37.5, 169.0], 'Panama': [4.034119, 1.621103031, 54.26579231, 86.06768552, 74340.0, 21334.93968, 63.9, 62.71, 56.0], 'Paraguay': [6.725308, 1.289844973, 16.92753083, 59.66275979, 397300.0, 8871.37954, 66.1, 53.93, 105.0], 'Peru': [31.773839, 1.257862325, 24.82331172, 383.561, 1280000.0, 12071.59764, 66.0, 61.92, 64.0], 'Philippines': [103.320222, 1.564497131, 346.5144783, 747.673, 298170.0, 7236.463352, 64.3, 57.65, 82.0], 'Poland': [37.948016, -0.101129367, 123.9361704, 988.583, 306190.0, 26050.97985, 75.8, 64.11, 50.0], 'Portugal': [10.324611, -0.323604271, 112.7079417, 279.847, 91605.0, 27104.84686, 75.6, 71.91, 26.0], 'Qatar': [2.569804, 3.495069918, 221.3440138, 303.769, 11610.0, 118207.0695, 63.1, 67.8, 32.0], 'Republic of Congo': [5.125821, 2.57235739, 15.00972474, 27.17400664, 341500.0, 5301.395941, 50.9, 42.39, 157.0], 'Romania': [19.705301, -0.557581505, 85.64543202, 425.792, 230080.0, 21607.99269, 74.1, 64.78, 45.0], 'Russia': [144.342396, 0.170244546, 8.813796287, 3581.3, 16376870.0, 24811.14419, 68.9, 63.79, 52.0], 'Rwanda': [11.917508, 2.445904867, 483.0769355, 21.13868558, 24670.0, 1773.750484, 55.0, 43.68, 148.0], 'Saudi Arabia': [32.275687, 2.251422474, 15.01411227, 1628.57, 2149690.0, 50458.10489, 62.7, 57.47, 86.0], 'Senegal': [15.411614, 2.860609064, 80.04785748, 36.67118441, 192530.0, 2379.451264, 56.2, 49.52, 126.0], 'Serbia': [7.057412, -0.536587877, 80.69302538, 96.84578427, 87460.0, 13722.56349, 73.6, 57.49, 84.0], 'Sierra Leone': [7.39619, 2.175479241, 102.4686894, 10.12412009, 72180.0, 1368.829098, 47.1, 42.54, 155.0], 'Singapore': [5.607283, 1.297436099, 7908.720733, 456.676, 709.0, 81443.36571, 69.0, 64.23, 49.0], 'Slovakia': [5.428704, 0.090357025, 112.8957285, 158.647, 48086.0, 29223.73369, 76.9, 70.6, 28.0], 'Slovenia': [2.064845, 0.063656995, 102.524578, 61.80678355, 20140.0, 29932.89256, 80.5, 67.57, 34.0], 'South Africa': [55.908865, 1.617203497, 46.08797781, 685.452, 1213090.0, 12260.16661, 61.2, 44.73, 142.0], 'South Korea': [51.245707, 0.451318044, 525.7048318, 1792.87, 97480.0, 34985.75988, 75.5, 62.3, 60.0], 'Spain': [46.443959, -0.008048086, 92.84892145, 1548.87, 500210.0, 33349.22417, 76.8, 78.39, 12.0], 'Sri Lanka': [21.203, 1.124060307, 338.1119439, 242.08, 62710.0, 11417.25228, 65.9, 60.61, 70.0], 'Sudan': [39.578828, 2.380439887, 22.68897306, 173.607, 2376000.0, 4386.360304, 49.9, 51.49, 115.0], 'Suriname': [0.558368, 0.928418221, 3.579282051, 7.749023291, 156000.0, 13877.98601, 70.4, 54.2, 103.0], 'Swaziland': [1.343098, 1.809667249, 78.08709302, 10.37360686, 17200.0, 7723.64106, 55.0, 40.32, 162.0], 'Sweden': [9.903122, 1.055073996, 24.31347622, 462.1, 407310.0, 46662.05263, 85.6, 80.51, 5.0], 'Switzerland': [8.372098, 1.077221168, 211.866029, 480.81, 39516.0, 57430.04919, 81.2, 87.42, 1.0], 'Tajikistan': [8.734951, 2.155884123, 62.93827187, 24.13104856, 138786.0, 2762.585453, 66.8, 47.85, 129.0], 'Tanzania': [55.572201, 3.092454074, 62.73673628, 139.38, 885800.0, 2508.088532, 52.1, 50.83, 119.0], 'Thailand': [68.863514, 0.299465512, 134.7912741, 1079.99, 510890.0, 15683.05097, 69.5, 49.88, 121.0], 'Timor-Leste': [1.268671, 2.207092325, 85.31748487, 2.51788156, 14870.0, 1984.660767, 61.5, 49.54, 125.0], 'Togo': [7.606374, 2.523861304, 139.848759, 10.51284365, 54390.0, 1382.109747, 50.2, 41.78, 159.0], 'Trinidad and Tobago': [1.364962, 0.35742449, 266.0744639, 41.58323861, 5130.0, 30464.75917, 69.1, 67.36, 35.0], 'Tunisia': [11.403248, 1.142910708, 73.39886715, 122.608, 155360.0, 10752.02434, 68.7, 62.35, 58.0], 'Turkey': [79.512426, 1.5730117, 103.3125346, 1888.94, 769630.0, 23756.53838, 68.5, 52.96, 108.0], 'Turkmenistan': [5.662544, 1.732524453, 12.0497606, 88.60960132, 469930.0, 15648.37312, 56.7, 66.1, 38.0], 'Uganda': [41.487965, 3.290872381, 206.9018801, 69.99362951, 200520.0, 1687.082736, 52.9, 44.28, 145.0], 'Ukraine': [45.004645, -0.33138051, 77.68931796, 327.215, 579290.0, 7270.693947, 72.7, 52.87, 109.0], 'United Arab Emirates': [9.269612, 1.251759052, 110.8805263, 622.297, 83600.0, 67133.01484, 66.0, 58.9, 77.0], 'United Kingdom': [65.637239, 0.777541827, 271.3067375, 2574.94, 241930.0, 39229.86462, 78.3, 79.89, 6.0], 'United States of America': [323.127513, 0.692801346, 35.32444263, 17236.2, 9147420.0, 53341.79018, 72.4, 71.19, 27.0], 'Uruguay': [3.444006, 0.362269175, 19.6777854, 69.04173629, 175020.0, 20046.92683, 71.0, 64.65, 47.0], 'Uzbekistan': [31.8482, 1.739791235, 74.86647861, 192.327, 425400.0, 6038.865619, 71.2, 45.88, 136.0], 'Venezuela': [31.568179, 1.31705725, 35.78955728, 443.8400821, 882050.0, 14059.73028, 65.8, 63.89, 51.0], 'Viet Nam': [92.7011, 1.071293182, 298.9682975, 552.059, 310070.0, 5955.258352, 67.9, 46.96, 132.0], 'Zambia': [16.59139, 3.002815515, 22.31855419, 60.50817421, 743390.0, 3646.962323, 51.1, 50.97, 117.0], 'Zimbabwe': [16.150362, 2.33606955, 41.74838309, 30.35667456, 386850.0, 1879.62812, 56.1, 43.41, 149.0]}\n",
      "{'Afghanistan': 37.74, 'Albania': 65.46, 'Algeria': 57.18, 'Angola': 37.44, 'Argentina': 59.3, 'Armenia': 62.07, 'Australia': 74.12, 'Austria': 78.97, 'Azerbaijan': 62.33, 'Bahrain': 55.15, 'Bangladesh': 29.56, 'Barbados': 55.76, 'Belarus': 64.98, 'Belgium': 77.38, 'Belize': 57.79, 'Benin': 38.17, 'Bhutan': 47.22, 'Bolivia': 55.98, 'Bosnia and Herzegovina': 41.84, 'Botswana': 51.7, 'Brazil': 60.7, 'Bulgaria': 67.85, 'Burkina Faso': 42.83, 'Burundi': 27.43, \"C么te d'Ivoire\": 45.25, 'Cambodia': 43.23, 'Cameroon': 40.81, 'Canada': 72.18, 'Central African Republic': 36.42, 'Chad': 45.34, 'Chile': 57.49, 'China': 50.74, 'Colombia': 65.22, 'Costa Rica': 67.85, 'Croatia': 65.45, 'Cuba': 63.42, 'Cyprus': 72.6, 'Czech Republic': 67.68, 'Dem. Rep. Congo': 30.41, 'Denmark': 81.6, 'Djibouti': 40.04, 'Dominican Republic': 64.71, 'Ecuador': 57.42, 'Egypt': 61.21, 'El Salvador': 53.91, 'Estonia': 64.31, 'Ethiopia': 44.78, 'Finland': 78.64, 'France': 83.95, 'Gabon': 45.05, 'Gambia': 42.42, 'Georgia': 55.69, 'Germany': 78.37, 'Ghana': 49.66, 'Greece': 73.6, 'Guatemala': 52.33, 'Guinea': 46.62, 'Guyana': 47.93, 'Haiti': 33.74, 'Honduras': 51.51, 'Hungary': 65.01, 'Iceland': 78.57, 'India': 30.57, 'Indonesia': 46.92, 'Iran': 58.16, 'Iraq': 43.2, 'Ireland': 78.77, 'Israel': 75.01, 'Italy': 76.96, 'Jamaica': 58.58, 'Japan': 74.69, 'Jordan': 62.2, 'Kazakhstan': 54.56, 'Kenya': 47.25, 'Kuwait': 62.28, 'Kyrgyzstan': 54.86, 'Laos': 42.94, 'Latvia': 66.12, 'Lebanon': 61.08, 'Lesotho': 33.78, 'Liberia': 41.62, 'Lithuania': 69.33, 'Luxembourg': 79.12, 'Macedonia': 61.06, 'Madagascar': 33.73, 'Malawi': 49.21, 'Malaysia': 59.22, 'Mali': 43.71, 'Malta': 80.9, 'Mauritania': 39.24, 'Mauritius': 56.63, 'Mexico': 59.69, 'Moldova': 51.97, 'Mongolia': 57.51, 'Montenegro': 61.33, 'Morocco': 63.47, 'Mozambique': 46.37, 'Myanmar': 45.32, 'Namibia': 58.46, 'Nepal': 31.44, 'Netherlands': 75.46, 'New Zealand': 75.96, 'Nicaragua': 55.04, 'Niger': 35.74, 'Nigeria': 54.76, 'Norway': 77.49, 'Oman': 51.32, 'Pakistan': 37.5, 'Panama': 62.71, 'Paraguay': 53.93, 'Peru': 61.92, 'Philippines': 57.65, 'Poland': 64.11, 'Portugal': 71.91, 'Qatar': 67.8, 'Republic of Congo': 42.39, 'Romania': 64.78, 'Russia': 63.79, 'Rwanda': 43.68, 'Saudi Arabia': 57.47, 'Senegal': 49.52, 'Serbia': 57.49, 'Sierra Leone': 42.54, 'Singapore': 64.23, 'Slovakia': 70.6, 'Slovenia': 67.57, 'South Africa': 44.73, 'South Korea': 62.3, 'Spain': 78.39, 'Sri Lanka': 60.61, 'Sudan': 51.49, 'Suriname': 54.2, 'Swaziland': 40.32, 'Sweden': 80.51, 'Switzerland': 87.42, 'Tajikistan': 47.85, 'Tanzania': 50.83, 'Thailand': 49.88, 'Timor-Leste': 49.54, 'Togo': 41.78, 'Trinidad and Tobago': 67.36, 'Tunisia': 62.35, 'Turkey': 52.96, 'Turkmenistan': 66.1, 'Uganda': 44.28, 'Ukraine': 52.87, 'United Arab Emirates': 58.9, 'United Kingdom': 79.89, 'United States of America': 71.19, 'Uruguay': 64.65, 'Uzbekistan': 45.88, 'Venezuela': 63.89, 'Viet Nam': 46.96, 'Zambia': 50.97, 'Zimbabwe': 43.41}\n",
      "[[  3.46560320e+01   2.68916347e+00   5.30834053e+01 ...,   4.68000000e+01\n",
      "    3.77400000e+01   1.68000000e+02]\n",
      " [  3.46560320e+01   2.68916347e+00   5.30834053e+01 ...,   4.68000000e+01\n",
      "    3.77400000e+01   1.68000000e+02]\n",
      " [  2.87610100e+00  -1.59880412e-01   1.04967190e+02 ...,   6.89000000e+01\n",
      "    6.54600000e+01   4.00000000e+01]\n",
      " ..., \n",
      " [  9.27011000e+01   1.07129318e+00   2.98968298e+02 ...,   6.79000000e+01\n",
      "    4.69600000e+01   1.32000000e+02]\n",
      " [  1.65913900e+01   3.00281551e+00   2.23185542e+01 ...,   5.11000000e+01\n",
      "    5.09700000e+01   1.17000000e+02]\n",
      " [  1.61503620e+01   2.33606955e+00   4.17483831e+01 ...,   5.61000000e+01\n",
      "    4.34100000e+01   1.49000000e+02]]\n",
      "[[ 37.74]\n",
      " [ 37.74]\n",
      " [ 65.46]\n",
      " [ 57.18]\n",
      " [ 37.44]\n",
      " [ 59.3 ]\n",
      " [ 62.07]\n",
      " [ 74.12]\n",
      " [ 78.97]\n",
      " [ 62.33]\n",
      " [ 55.15]\n",
      " [ 29.56]\n",
      " [ 55.76]\n",
      " [ 64.98]\n",
      " [ 77.38]\n",
      " [ 57.79]\n",
      " [ 38.17]\n",
      " [ 47.22]\n",
      " [ 55.98]\n",
      " [ 41.84]\n",
      " [ 51.7 ]\n",
      " [ 60.7 ]\n",
      " [ 67.85]\n",
      " [ 42.83]\n",
      " [ 27.43]\n",
      " [ 45.25]\n",
      " [ 43.23]\n",
      " [ 40.81]\n",
      " [ 72.18]\n",
      " [ 36.42]\n",
      " [ 45.34]\n",
      " [ 57.49]\n",
      " [ 50.74]\n",
      " [ 65.22]\n",
      " [ 67.85]\n",
      " [ 65.45]\n",
      " [ 63.42]\n",
      " [ 72.6 ]\n",
      " [ 67.68]\n",
      " [ 30.41]\n",
      " [ 81.6 ]\n",
      " [ 40.04]\n",
      " [ 64.71]\n",
      " [ 57.42]\n",
      " [ 61.21]\n",
      " [ 53.91]\n",
      " [ 64.31]\n",
      " [ 44.78]\n",
      " [ 78.64]\n",
      " [ 83.95]\n",
      " [ 45.05]\n",
      " [ 42.42]\n",
      " [ 55.69]\n",
      " [ 78.37]\n",
      " [ 49.66]\n",
      " [ 73.6 ]\n",
      " [ 52.33]\n",
      " [ 46.62]\n",
      " [ 47.93]\n",
      " [ 33.74]\n",
      " [ 51.51]\n",
      " [ 65.01]\n",
      " [ 78.57]\n",
      " [ 30.57]\n",
      " [ 46.92]\n",
      " [ 58.16]\n",
      " [ 43.2 ]\n",
      " [ 78.77]\n",
      " [ 75.01]\n",
      " [ 76.96]\n",
      " [ 58.58]\n",
      " [ 74.69]\n",
      " [ 62.2 ]\n",
      " [ 54.56]\n",
      " [ 47.25]\n",
      " [ 62.28]\n",
      " [ 54.86]\n",
      " [ 42.94]\n",
      " [ 66.12]\n",
      " [ 61.08]\n",
      " [ 33.78]\n",
      " [ 41.62]\n",
      " [ 69.33]\n",
      " [ 79.12]\n",
      " [ 61.06]\n",
      " [ 33.73]\n",
      " [ 49.21]\n",
      " [ 59.22]\n",
      " [ 43.71]\n",
      " [ 80.9 ]\n",
      " [ 39.24]\n",
      " [ 56.63]\n",
      " [ 59.69]\n",
      " [ 51.97]\n",
      " [ 57.51]\n",
      " [ 61.33]\n",
      " [ 63.47]\n",
      " [ 46.37]\n",
      " [ 45.32]\n",
      " [ 58.46]\n",
      " [ 31.44]\n",
      " [ 75.46]\n",
      " [ 75.96]\n",
      " [ 55.04]\n",
      " [ 35.74]\n",
      " [ 54.76]\n",
      " [ 77.49]\n",
      " [ 51.32]\n",
      " [ 37.5 ]\n",
      " [ 62.71]\n",
      " [ 53.93]\n",
      " [ 61.92]\n",
      " [ 57.65]\n",
      " [ 64.11]\n",
      " [ 71.91]\n",
      " [ 67.8 ]\n",
      " [ 42.39]\n",
      " [ 64.78]\n",
      " [ 63.79]\n",
      " [ 43.68]\n",
      " [ 57.47]\n",
      " [ 49.52]\n",
      " [ 57.49]\n",
      " [ 42.54]\n",
      " [ 64.23]\n",
      " [ 70.6 ]\n",
      " [ 67.57]\n",
      " [ 44.73]\n",
      " [ 62.3 ]\n",
      " [ 78.39]\n",
      " [ 60.61]\n",
      " [ 51.49]\n",
      " [ 54.2 ]\n",
      " [ 40.32]\n",
      " [ 80.51]\n",
      " [ 87.42]\n",
      " [ 47.85]\n",
      " [ 50.83]\n",
      " [ 49.88]\n",
      " [ 49.54]\n",
      " [ 41.78]\n",
      " [ 67.36]\n",
      " [ 62.35]\n",
      " [ 52.96]\n",
      " [ 66.1 ]\n",
      " [ 44.28]\n",
      " [ 52.87]\n",
      " [ 58.9 ]\n",
      " [ 79.89]\n",
      " [ 71.19]\n",
      " [ 64.65]\n",
      " [ 45.88]\n",
      " [ 63.89]\n",
      " [ 46.96]\n",
      " [ 50.97]\n",
      " [ 43.41]]\n"
     ]
    }
   ],
   "source": [
    "attr, score = input_epi()\n",
    "print(attr)\n",
    "print(score)"
   ]
  },
  {
   "cell_type": "code",
   "execution_count": 386,
   "metadata": {
    "collapsed": true
   },
   "outputs": [],
   "source": [
    "def share_country():\n",
    "    '''\n",
    "    Find shared countries of FSI and EPI data.\n",
    "    Return:\n",
    "        FSI_data -- FSI data sorted according to countries.\n",
    "        EPI_data -- EPI data sorted according to countries.\n",
    "    Note that these two dictionaries have the same number of countries.\n",
    "    And they also have the aligned attributes based on countries order.\n",
    "    '''\n",
    "    fsi_attrdic, fsi_scoredic, fsi_attributes = read_fsi()\n",
    "    epi_attrdic, epi_scoredic, epi_attributes = read_epi()\n",
    "    share_key = []\n",
    "    cnt = 0\n",
    "    # First, delete all keys and values in fsi but not in epi\n",
    "    for (idx, item) in enumerate(fsi_attrdic):\n",
    "        epi_key = list(epi_attrdic.keys())\n",
    "        if item in epi_key:\n",
    "            if cnt == 0:\n",
    "                fsi_attr = np.array(fsi_attrdic[item]).reshape(1,-1)\n",
    "                fsi_score = np.array(fsi_scoredic[item])\n",
    "                share_key.append(item)\n",
    "            else:\n",
    "                share_key.append(item)\n",
    "                fsi_attr = np.vstack((fsi_attr, fsi_attrdic[item]))\n",
    "                fsi_score = np.vstack((fsi_score, fsi_scoredic[item]))\n",
    "            cnt += 1\n",
    "    cnt = 0\n",
    "    # Second, delete all keys and values in epi but not in fsi\n",
    "    for (idx, item) in enumerate(epi_attrdic):\n",
    "        fsi_key = list(fsi_attrdic.keys())\n",
    "        if item in fsi_key:\n",
    "            if cnt == 0:\n",
    "                epi_attr = np.array(epi_attrdic[item]).reshape(1,-1)\n",
    "                epi_score = np.array(epi_scoredic[item])\n",
    "            else:\n",
    "                epi_attr = np.vstack((epi_attr, epi_attrdic[item]))\n",
    "                epi_score = np.vstack((epi_score, epi_scoredic[item]))\n",
    "            cnt += 1\n",
    "    df = pd.DataFrame(data = {'country': share_key,\n",
    "                              'FSI': fsi_score.ravel(),\n",
    "                              'EPI': epi_score.ravel(),\n",
    "                              fsi_attributes[0]: fsi_attr[:,0].ravel(),\n",
    "                              fsi_attributes[1]: fsi_attr[:,1].ravel(), \n",
    "                              fsi_attributes[2]: fsi_attr[:,2].ravel(),\n",
    "                              fsi_attributes[3]: fsi_attr[:,3].ravel(), \n",
    "                              fsi_attributes[4]: fsi_attr[:,4].ravel(),\n",
    "                              fsi_attributes[5]: fsi_attr[:,5].ravel(), \n",
    "                              fsi_attributes[6]: fsi_attr[:,6].ravel(),\n",
    "                              fsi_attributes[7]: fsi_attr[:,7].ravel(), \n",
    "                              fsi_attributes[8]: fsi_attr[:,8].ravel(),\n",
    "                              fsi_attributes[9]: fsi_attr[:,9].ravel(),\n",
    "                              fsi_attributes[10]: fsi_attr[:,10].ravel(), \n",
    "                              fsi_attributes[11]: fsi_attr[:,11].ravel(),\n",
    "                              epi_attributes[0]: epi_attr[:,0].ravel(),\n",
    "                              epi_attributes[1]: epi_attr[:,1].ravel(), \n",
    "                              epi_attributes[2]: epi_attr[:,2].ravel(),\n",
    "                              epi_attributes[3]: epi_attr[:,3].ravel(), \n",
    "                              epi_attributes[4]: epi_attr[:,4].ravel(),\n",
    "                              epi_attributes[5]: epi_attr[:,5].ravel(), \n",
    "                              epi_attributes[6]: epi_attr[:,6].ravel()})\n",
    "    df.to_csv('share_data.csv')\n",
    "    return share_key, fsi_attr, epi_attr"
   ]
  },
  {
   "cell_type": "code",
   "execution_count": 385,
   "metadata": {},
   "outputs": [],
   "source": [
    "country, fsi_attr, epi_attr = share_country()"
   ]
  },
  {
   "cell_type": "code",
   "execution_count": 190,
   "metadata": {
    "collapsed": true
   },
   "outputs": [],
   "source": [
    "def input_result():\n",
    "    csvFile = open(\"share_data.csv\", \"r\")\n",
    "    reader = csv.reader(csvFile)\n",
    "    fsi_dic = {}\n",
    "    epi_dic = {}\n",
    "    fsi = []\n",
    "    epi = []\n",
    "    for item in reader:\n",
    "        # ignore the first line\n",
    "        if reader.line_num == 1:\n",
    "            continue\n",
    "        fsi_dic[item[1]] = float(item[2])\n",
    "        epi_dic[item[1]] = float(item[3])\n",
    "        fsi.append(float(item[2]))\n",
    "        epi.append(float(item[3]))\n",
    "    csvFile.close()\n",
    "    return fsi, epi"
   ]
  },
  {
   "cell_type": "code",
   "execution_count": 192,
   "metadata": {},
   "outputs": [],
   "source": [
    "fsi, epi = input_result()"
   ]
  },
  {
   "cell_type": "code",
   "execution_count": 193,
   "metadata": {},
   "outputs": [
    {
     "data": {
      "text/plain": [
       "<matplotlib.collections.PathCollection at 0x27e174363c8>"
      ]
     },
     "execution_count": 193,
     "metadata": {},
     "output_type": "execute_result"
    }
   ],
   "source": [
    "plt.scatter(fsi, epi)"
   ]
  },
  {
   "cell_type": "code",
   "execution_count": 194,
   "metadata": {},
   "outputs": [
    {
     "data": {
      "image/png": "[encoded data removed]",
      "text/plain": [
       "<matplotlib.figure.Figure at 0x27e192f4898>"
      ]
     },
     "metadata": {},
     "output_type": "display_data"
    }
   ],
   "source": [
    "plt.show()"
   ]
  },
  {
   "cell_type": "code",
   "execution_count": 195,
   "metadata": {
    "collapsed": true
   },
   "outputs": [],
   "source": [
    "from sklearn.cluster import KMeans"
   ]
  },
  {
   "cell_type": "code",
   "execution_count": 206,
   "metadata": {
    "collapsed": true
   },
   "outputs": [],
   "source": [
    "def cluster(data, n_clusters):\n",
    "    '''\n",
    "    Cluster data into n_clusters categories.\n",
    "    Input:\n",
    "        data -- The input data to be clustered.\n",
    "        n_clusters -- The number of categories to be clustered.\n",
    "    Return:\n",
    "        label_pred -- The category array corresponding to every data.\n",
    "    '''\n",
    "    estimator = KMeans(n_clusters = n_clusters)\n",
    "    estimator.fit(data)\n",
    "    label_pred = estimator.labels_\n",
    "    print(label_pred)\n",
    "    return label_pred"
   ]
  },
  {
   "cell_type": "code",
   "execution_count": 210,
   "metadata": {},
   "outputs": [
    {
     "name": "stdout",
     "output_type": "stream",
     "text": [
      "<class 'numpy.ndarray'>\n",
      "<class 'numpy.ndarray'>\n"
     ]
    }
   ],
   "source": [
    "FSI_data = np.array([fsi]).reshape([-1,1])\n",
    "EPI_data = np.array([epi]).reshape([-1,1])\n",
    "FSI_label = cluster(FSI_data, 2)\n",
    "EPI_label = cluster(EPI_data, 2)"
   ]
  },
  {
   "cell_type": "code",
   "execution_count": 211,
   "metadata": {},
   "outputs": [
    {
     "data": {
      "text/plain": [
       "<matplotlib.collections.PathCollection at 0x27e197dd550>"
      ]
     },
     "execution_count": 211,
     "metadata": {},
     "output_type": "execute_result"
    }
   ],
   "source": [
    "plt.scatter(FSI_data[FSI_label == 1], EPI_data[FSI_label == 1], c = 'r')\n",
    "plt.scatter(FSI_data[FSI_label == 0], EPI_data[FSI_label == 0], c = 'b')"
   ]
  },
  {
   "cell_type": "code",
   "execution_count": 212,
   "metadata": {},
   "outputs": [
    {
     "data": {
      "image/png": "[encoded data removed]",
      "text/plain": [
       "<matplotlib.figure.Figure at 0x27e19768d30>"
      ]
     },
     "metadata": {},
     "output_type": "display_data"
    }
   ],
   "source": [
    "plt.show()"
   ]
  },
  {
   "cell_type": "code",
   "execution_count": 213,
   "metadata": {},
   "outputs": [
    {
     "data": {
      "text/plain": [
       "<matplotlib.collections.PathCollection at 0x27e1985dda0>"
      ]
     },
     "execution_count": 213,
     "metadata": {},
     "output_type": "execute_result"
    }
   ],
   "source": [
    "plt.scatter(FSI_data[EPI_label == 1], EPI_data[EPI_label == 1], c = 'r')\n",
    "plt.scatter(FSI_data[EPI_label == 0], EPI_data[EPI_label == 0], c = 'b')"
   ]
  },
  {
   "cell_type": "code",
   "execution_count": 214,
   "metadata": {},
   "outputs": [
    {
     "data": {
      "image/png": "[encoded data removed]",
      "text/plain": [
       "<matplotlib.figure.Figure at 0x27e196c29e8>"
      ]
     },
     "metadata": {},
     "output_type": "display_data"
    }
   ],
   "source": [
    "plt.show()"
   ]
  },
  {
   "cell_type": "code",
   "execution_count": 215,
   "metadata": {
    "collapsed": true
   },
   "outputs": [],
   "source": [
    "def find_bound(data, label, mode = 1):\n",
    "    '''\n",
    "    Find the boundary of clusters.\n",
    "    Input:\n",
    "        data -- The input data to be clustered.\n",
    "        label -- The label corresponding to the input data.\n",
    "        mode -- mode = 1 means we need to find the minimum bound of data with label = 1 while maximum bound for label = 0.\n",
    "                mode = 0 means we need to find the maximum bound of data with label = 0 while maximum bound for label = 1.\n",
    "    Return:\n",
    "        bound -- The boundary of 1-dim cluster.\n",
    "    '''\n",
    "    if mode:\n",
    "        label1_min = min(data[label == 1])\n",
    "        label0_max = max(data[label == 0])\n",
    "        bound = (label1_min+label0_max)/2\n",
    "    else:\n",
    "        label1_max = max(data[label == 1])\n",
    "        label0_min = min(data[label == 0])\n",
    "        bound = (label1_max+label0_min)/2\n",
    "    return bound"
   ]
  },
  {
   "cell_type": "code",
   "execution_count": 226,
   "metadata": {},
   "outputs": [
    {
     "data": {
      "text/plain": [
       "<matplotlib.text.Text at 0x27e198b3be0>"
      ]
     },
     "execution_count": 226,
     "metadata": {},
     "output_type": "execute_result"
    }
   ],
   "source": [
    "FSI_bound = find_bound(FSI_data, FSI_label)\n",
    "EPI_bound = find_bound(EPI_data, EPI_label)\n",
    "plt.scatter(FSI_data[(FSI_label == 1) & (EPI_label == 1)], EPI_data[(FSI_label == 1) & (EPI_label == 1)], c = 'r')\n",
    "plt.scatter(FSI_data[(FSI_label == 1) & (EPI_label == 0)], EPI_data[(FSI_label == 1) & (EPI_label == 0)], c = 'b')\n",
    "plt.scatter(FSI_data[(FSI_label == 0) & (EPI_label == 1)], EPI_data[(FSI_label == 0) & (EPI_label == 1)], c = 'm')\n",
    "plt.scatter(FSI_data[(FSI_label == 0) & (EPI_label == 0)], EPI_data[(FSI_label == 0) & (EPI_label == 0)], c = 'y')\n",
    "FSI_bound_y = np.linspace(min(EPI_data), max(EPI_data), 1000)\n",
    "FSI_bound_x = np.full(FSI_bound_y.shape, FSI_bound)\n",
    "EPI_bound_x = np.linspace(min(FSI_data), max(FSI_data), 1000)\n",
    "EPI_bound_y = np.full(EPI_bound_x.shape, EPI_bound)\n",
    "plt.plot(FSI_bound_x, FSI_bound_y, c = 'k')\n",
    "plt.plot(EPI_bound_x, EPI_bound_y, c = 'k')\n",
    "plt.xlabel('FSI')\n",
    "plt.ylabel('EPI')"
   ]
  },
  {
   "cell_type": "code",
   "execution_count": 227,
   "metadata": {},
   "outputs": [
    {
     "data": {
      "image/png": "[encoded data removed]",
      "text/plain": [
       "<matplotlib.figure.Figure at 0x27e1989f2e8>"
      ]
     },
     "metadata": {},
     "output_type": "display_data"
    }
   ],
   "source": [
    "plt.show()"
   ]
  },
  {
   "cell_type": "code",
   "execution_count": 256,
   "metadata": {},
   "outputs": [],
   "source": [
    "from mlxtend.plotting import plot_decision_regions"
   ]
  },
  {
   "cell_type": "code",
   "execution_count": 405,
   "metadata": {
    "collapsed": true
   },
   "outputs": [],
   "source": [
    "def logistic_util(X, Y, test_size, random_state):\n",
    "    '''\n",
    "    Implement logistic regression with sklearn.\n",
    "    Input:\n",
    "        X -- The independent variables set.\n",
    "        Y -- The dependent variable/target set.\n",
    "        test_size -- Test size of the whole set.\n",
    "        random_state -- Param for train_test_split.\n",
    "    Output:\n",
    "        lr -- Logistic Regression Result.\n",
    "    '''\n",
    "    X_train, X_test, Y_train, Y_test = train_test_split(X, Y, test_size = test_size, random_state = random_state)\n",
    "    Y_train, Y_test = Y_train.ravel(), Y_test.ravel()\n",
    "    print(X_train.shape, X_test.shape, Y_train.shape, Y_test.shape)\n",
    "    # Normalize the data\n",
    "    sc = StandardScaler()\n",
    "    sc.fit(X_train)\n",
    "    X_train_std = np.array(list(sc.transform(X_train)))\n",
    "    X_test_std = np.array(list(sc.transform(X_test)))\n",
    "    # Combine the train and test data\n",
    "    X_combined_std = np.vstack((X_train_std, X_test_std))\n",
    "    Y_combined = np.hstack((Y_train, Y_test))\n",
    "    # Implement logistic regression\n",
    "    lr = LogisticRegression(C = 1.0, random_state = 0)\n",
    "    lr.fit(X_train_std, Y_train)\n",
    "    print(lr.predict_proba(X_test_std[2,:].reshape(1,-1))[0,0], Y_test[2])\n",
    "    scores = cross_val_score(lr, X_combined_std, Y_combined, cv = 5, scoring = 'accuracy')\n",
    "    print(scores)\n",
    "    return lr, X_combined_std, Y_combined\n",
    "    '''\n",
    "    plot_decision_regions(X_combined_std, Y_combined, clf = lr, res = 0.02)\n",
    "    plt.xlabel('petal length')\n",
    "    plt.ylabel('petal width')\n",
    "    plt.legend(loc = 'upper left')\n",
    "    plt.show()\n",
    "    '''"
   ]
  },
  {
   "cell_type": "code",
   "execution_count": 407,
   "metadata": {
    "collapsed": true
   },
   "outputs": [],
   "source": [
    "from sklearn.cross_validation import cross_val_score"
   ]
  },
  {
   "cell_type": "code",
   "execution_count": 408,
   "metadata": {},
   "outputs": [
    {
     "name": "stdout",
     "output_type": "stream",
     "text": [
      "(118, 12) (30, 12) (118,) (30,)\n",
      "0.0391059090268 1\n",
      "[ 0.86666667  0.76666667  0.8         0.82758621  0.75862069]\n"
     ]
    }
   ],
   "source": [
    "lr1, fsi_attr_std, _ = logistic_util(fsi_attr, EPI_label, 0.2, 0)\n",
    "probE0_H = lr1.predict_proba(fsi_attr_std)[:,0]\n",
    "probE1_H = np.ones(probE0_H.shape)-probE0_H"
   ]
  },
  {
   "cell_type": "code",
   "execution_count": 409,
   "metadata": {},
   "outputs": [
    {
     "name": "stdout",
     "output_type": "stream",
     "text": [
      "(118, 12) (30, 12) (118,) (30,)\n",
      "0.981749125054 False\n",
      "[ 0.83870968  0.76666667  0.86206897  0.86206897  0.79310345]\n"
     ]
    }
   ],
   "source": [
    "lr2, fsi_attr_std, _ = logistic_util(fsi_attr, (EPI_label == 0) & (FSI_label == 1), 0.2, 0)\n",
    "prob_other = lr2.predict_proba(fsi_attr_std)[:,0]\n",
    "probE0F1_H = np.ones(prob_other.shape)-prob_other"
   ]
  },
  {
   "cell_type": "code",
   "execution_count": 410,
   "metadata": {},
   "outputs": [
    {
     "name": "stdout",
     "output_type": "stream",
     "text": [
      "(118, 12) (30, 12) (118,) (30,)\n",
      "0.899928537318 False\n",
      "[ 0.73333333  0.8         0.76666667  0.72413793  0.79310345]\n"
     ]
    }
   ],
   "source": [
    "lr3, fsi_attr_std, _ = logistic_util(fsi_attr, (EPI_label == 1) & (FSI_label == 1), 0.2, 0)\n",
    "prob_other = lr3.predict_proba(fsi_attr_std)[:,0]\n",
    "probE1F1_H = np.ones(prob_other.shape)-prob_other"
   ]
  },
  {
   "cell_type": "code",
   "execution_count": 398,
   "metadata": {},
   "outputs": [
    {
     "name": "stdout",
     "output_type": "stream",
     "text": [
      "(148,) (148,)\n"
     ]
    }
   ],
   "source": [
    "probF1_E0H = probE0F1_H / probE0_H\n",
    "probF1_E1H = probE1F1_H / probE1_H\n",
    "print(probF1_E0H.shape, probF1_E1H.shape)"
   ]
  },
  {
   "cell_type": "code",
   "execution_count": 403,
   "metadata": {},
   "outputs": [
    {
     "name": "stdout",
     "output_type": "stream",
     "text": [
      "2.88491119342 1 2.88491119342\n"
     ]
    }
   ],
   "source": [
    "fragile_value = []\n",
    "for i in range(len(fsi_attr_std)):\n",
    "    if EPI_label[i] == 1:\n",
    "        fragile_value.append(probF1_E1H[i])\n",
    "    else:\n",
    "        fragile_value.append(probF1_E0H[i])\n",
    "print(fragile_value[129], EPI_label[129], probF1_E1H[129])"
   ]
  },
  {
   "cell_type": "code",
   "execution_count": 373,
   "metadata": {},
   "outputs": [
    {
     "name": "stdout",
     "output_type": "stream",
     "text": [
      "[125  77 104 122 141 161 107  78 140 125  96 118  76  74  74 121 125 122\n",
      "  87 126 109  73 128 119 101 103 118  87 127 133 145 118  76  90  74 179\n",
      "  76  93 118 121 159  77  82  80  71 126 113  88 118  83  78  87 122 120\n",
      " 123  81 115 119 129 154  82 131 122  73 123  78  79  73  65  80 124 124\n",
      " 126 102 219  76 121  87  90  73  75  92 121  98 123  76  86  98 221 122\n",
      " 153 225   9 124  81  92  77  91 103  81  94 123 195 122 120 124 123 166\n",
      " 100  94  74 101  78 115  85 100 120  79 125  72  76 126 141  74  98 126\n",
      " 111 125 237 223 106 122 124 124 106  88  73  85  97 123 123  82 154  94\n",
      " 124  94 134 125]\n"
     ]
    }
   ],
   "source": [
    "fragile_value = np.array(fragile_value).reshape(-1,1)\n",
    "sc = StandardScaler()\n",
    "sc.fit(fragile_value)\n",
    "fragile_std = (255*(np.array(list(sc.transform(fragile_value)))+1)/2).astype(np.uint8)\n",
    "fragile_std = fragile_std.reshape(len(fragile_std))\n",
    "print(fragile_std)"
   ]
  },
  {
   "cell_type": "code",
   "execution_count": 378,
   "metadata": {},
   "outputs": [],
   "source": [
    "import seaborn as sn\n",
    "pal = sn.color_palette(\"Blues\", 255)"
   ]
  },
  {
   "cell_type": "code",
   "execution_count": 380,
   "metadata": {},
   "outputs": [],
   "source": [
    "color = []\n",
    "for i in range(len(fragile_std)):\n",
    "    color.append(pal[fragile_std[i]])"
   ]
  },
  {
   "cell_type": "code",
   "execution_count": 381,
   "metadata": {},
   "outputs": [
    {
     "data": {
      "text/plain": [
       "<matplotlib.text.Text at 0x27e19b1bba8>"
      ]
     },
     "execution_count": 381,
     "metadata": {},
     "output_type": "execute_result"
    }
   ],
   "source": [
    "FSI_bound = find_bound(FSI_data, FSI_label)\n",
    "EPI_bound = find_bound(EPI_data, EPI_label)\n",
    "plt.scatter(FSI_data[(FSI_label == 1) & (EPI_label == 1)], EPI_data[(FSI_label == 1) & (EPI_label == 1)], c = color, cmap = plt.cm.Blues)\n",
    "plt.scatter(FSI_data[(FSI_label == 1) & (EPI_label == 0)], EPI_data[(FSI_label == 1) & (EPI_label == 0)], c = color, cmap = plt.cm.Blues)\n",
    "plt.scatter(FSI_data[(FSI_label == 0) & (EPI_label == 1)], EPI_data[(FSI_label == 0) & (EPI_label == 1)], c = color, cmap = plt.cm.Blues)\n",
    "plt.scatter(FSI_data[(FSI_label == 0) & (EPI_label == 0)], EPI_data[(FSI_label == 0) & (EPI_label == 0)], c = color, cmap = plt.cm.Blues)\n",
    "FSI_bound_y = np.linspace(min(EPI_data), max(EPI_data), 1000)\n",
    "FSI_bound_x = np.full(FSI_bound_y.shape, FSI_bound)\n",
    "EPI_bound_x = np.linspace(min(FSI_data), max(FSI_data), 1000)\n",
    "EPI_bound_y = np.full(EPI_bound_x.shape, EPI_bound)\n",
    "plt.plot(FSI_bound_x, FSI_bound_y, c = 'k')\n",
    "plt.plot(EPI_bound_x, EPI_bound_y, c = 'k')\n",
    "plt.xlabel('FSI')\n",
    "plt.ylabel('EPI')"
   ]
  },
  {
   "cell_type": "code",
   "execution_count": 382,
   "metadata": {},
   "outputs": [
    {
     "data": {
      "image/png": "[encoded data removed]",
      "text/plain": [
       "<matplotlib.figure.Figure at 0x27e19af0080>"
      ]
     },
     "metadata": {},
     "output_type": "display_data"
    }
   ],
   "source": [
    "plt.show()"
   ]
  },
  {
   "cell_type": "code",
   "execution_count": 390,
   "metadata": {},
   "outputs": [
    {
     "name": "stdout",
     "output_type": "stream",
     "text": [
      "(148,)\n",
      "['Afghanistan' 'Argentina' 'Armenia' 'Azerbaijan' 'Bahrain' 'Bhutan'\n",
      " 'Botswana' 'Burkina Faso' 'Chad' 'Chile' 'China' 'Cuba'\n",
      " 'Dominican Republic' 'Ethiopia' 'Honduras' 'Hungary' 'India' 'Japan'\n",
      " 'Kazakhstan' 'Kenya' 'Kuwait' 'Latvia' 'Lithuania' 'Mali' 'Mexico'\n",
      " 'Mongolia' 'Montenegro' 'Morocco' 'Mozambique' 'Nigeria' 'Norway' 'Panama'\n",
      " 'Peru' 'Sierra Leone' 'South Africa' 'South Korea' 'Sudan' 'Swaziland'\n",
      " 'Sweden' 'Switzerland' 'Thailand' 'Timor-Leste' 'Uganda' 'United Kingdom'\n",
      " 'Uzbekistan' 'Zambia' 'Zimbabwe']\n"
     ]
    }
   ],
   "source": [
    "country = np.array(country)\n",
    "print(country.shape)\n",
    "print(country[fragile_value.reshape(len(country)) > 1])"
   ]
  },
  {
   "cell_type": "code",
   "execution_count": 404,
   "metadata": {},
   "outputs": [
    {
     "name": "stdout",
     "output_type": "stream",
     "text": [
      "0.0553071690509\n",
      "0.159556271071\n",
      "2.88491119342 2.88491119342\n"
     ]
    }
   ],
   "source": [
    "print(probE1_H[129])\n",
    "print(probE1F1_H[129])\n",
    "print(probF1_E1H[129], fragile_value[129])"
   ]
  },
  {
   "cell_type": "code",
   "execution_count": 396,
   "metadata": {},
   "outputs": [
    {
     "name": "stdout",
     "output_type": "stream",
     "text": [
      "1\n"
     ]
    }
   ],
   "source": [
    "print(EPI_label[129])"
   ]
  },
  {
   "cell_type": "code",
   "execution_count": null,
   "metadata": {
    "collapsed": true
   },
   "outputs": [],
   "source": []
  }
 ],
 "metadata": {
  "kernelspec": {
   "display_name": "Python 3",
   "language": "python",
   "name": "python3"
  },
  "language_info": {
   "codemirror_mode": {
    "name": "ipython",
    "version": 3
   },
   "file_extension": ".py",
   "mimetype": "text/x-python",
   "name": "python",
   "nbconvert_exporter": "python",
   "pygments_lexer": "ipython3",
   "version": "3.6.1"
  }
 },
 "nbformat": 4,
 "nbformat_minor": 2
}
